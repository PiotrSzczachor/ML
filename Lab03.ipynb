{
 "cells": [
  {
   "cell_type": "code",
   "execution_count": 66,
   "id": "4ecccbe0-848e-4e23-ae29-02305c07ac01",
   "metadata": {},
   "outputs": [
    {
     "data": {
      "text/plain": [
       "<AxesSubplot:xlabel='x', ylabel='y'>"
      ]
     },
     "execution_count": 66,
     "metadata": {},
     "output_type": "execute_result"
    },
    {
     "data": {
      "image/png": "[encoded data removed]",
      "text/plain": [
       "<Figure size 432x288 with 1 Axes>"
      ]
     },
     "metadata": {
      "needs_background": "light"
     },
     "output_type": "display_data"
    }
   ],
   "source": [
    "import numpy as np\n",
    "import pandas as pd\n",
    "size = 300\n",
    "X = np.random.rand(size)*5-2.5\n",
    "w4, w3, w2, w1, w0 = 1, 2, 1, -4, 2\n",
    "y = w4*(X**4) + w3*(X**3) + w2*(X**2) + w1*X + w0 + np.random.randn(size)*8-4 \n",
    "df = pd.DataFrame({'x': X, 'y': y}) \n",
    "df.to_csv('dane_do_regresji.csv',index=None)\n",
    "df.plot.scatter(x='x',y='y')"
   ]
  },
  {
   "cell_type": "code",
   "execution_count": 67,
   "id": "71721422-b0eb-4c86-bc35-076ee7936240",
   "metadata": {},
   "outputs": [
    {
     "data": {
      "text/plain": [
       "0     -1.385173\n",
       "1     -0.021506\n",
       "2     -0.932115\n",
       "3     -0.511833\n",
       "4     -1.610744\n",
       "         ...   \n",
       "295   -0.406108\n",
       "296   -1.895091\n",
       "297    1.494711\n",
       "298    2.359557\n",
       "299   -1.900466\n",
       "Name: x, Length: 300, dtype: float64"
      ]
     },
     "execution_count": 67,
     "metadata": {},
     "output_type": "execute_result"
    }
   ],
   "source": [
    "X = df.x\n",
    "X"
   ]
  },
  {
   "cell_type": "code",
   "execution_count": 68,
   "id": "763404f9-1ad0-482f-8a11-186eda4ed9a3",
   "metadata": {},
   "outputs": [
    {
     "data": {
      "text/plain": [
       "pandas.core.series.Series"
      ]
     },
     "execution_count": 68,
     "metadata": {},
     "output_type": "execute_result"
    }
   ],
   "source": [
    "type(X)"
   ]
  },
  {
   "cell_type": "code",
   "execution_count": 69,
   "id": "0ca99762-c3eb-4407-838c-e2a27dcfe714",
   "metadata": {},
   "outputs": [
    {
     "data": {
      "text/plain": [
       "0       8.024856\n",
       "1      -4.192669\n",
       "2      10.468011\n",
       "3       2.474787\n",
       "4       6.056254\n",
       "         ...    \n",
       "295     4.218621\n",
       "296    14.451276\n",
       "297     0.331431\n",
       "298    55.318390\n",
       "299    27.908785\n",
       "Name: y, Length: 300, dtype: float64"
      ]
     },
     "execution_count": 69,
     "metadata": {},
     "output_type": "execute_result"
    }
   ],
   "source": [
    "y = df.y\n",
    "y"
   ]
  },
  {
   "cell_type": "code",
   "execution_count": 70,
   "id": "4b94e376-78f9-4265-8336-5e2a42b8d85a",
   "metadata": {},
   "outputs": [
    {
     "data": {
      "text/plain": [
       "pandas.core.series.Series"
      ]
     },
     "execution_count": 70,
     "metadata": {},
     "output_type": "execute_result"
    }
   ],
   "source": [
    "type(y)"
   ]
  },
  {
   "cell_type": "code",
   "execution_count": 71,
   "id": "4de7908d-5bbb-4a57-a398-5f9e07fcd280",
   "metadata": {},
   "outputs": [],
   "source": [
    "from sklearn.model_selection import train_test_split\n",
    "X_train, X_test, y_train, y_test = train_test_split(X, y, test_size=0.2)"
   ]
  },
  {
   "cell_type": "code",
   "execution_count": 72,
   "id": "c8dacdb9-11e8-40e1-ade4-a09e30761c04",
   "metadata": {},
   "outputs": [
    {
     "name": "stdout",
     "output_type": "stream",
     "text": [
      "240 60\n"
     ]
    }
   ],
   "source": [
    "print(len(X_train), len(X_test))"
   ]
  },
  {
   "cell_type": "code",
   "execution_count": 73,
   "id": "7a938d95-36fa-4559-84f5-5060bdd8e5eb",
   "metadata": {},
   "outputs": [
    {
     "data": {
      "text/plain": [
       "LinearRegression()"
      ]
     },
     "execution_count": 73,
     "metadata": {},
     "output_type": "execute_result"
    }
   ],
   "source": [
    "from sklearn.linear_model import LinearRegression\n",
    "lin_reg = LinearRegression()\n",
    "lin_reg.fit(X_train.to_numpy().reshape(-1,1), y_train.to_numpy().reshape(-1,1))"
   ]
  },
  {
   "cell_type": "code",
   "execution_count": 74,
   "id": "4f174a19-f2c3-412c-baeb-294801990cd7",
   "metadata": {},
   "outputs": [],
   "source": [
    "lin_reg_pred_test = lin_reg.predict(X_test.to_numpy().reshape(-1,1))\n",
    "lin_reg_pred_train = lin_reg.predict(X_train.to_numpy().reshape(-1,1))"
   ]
  },
  {
   "cell_type": "code",
   "execution_count": 75,
   "id": "4590d9ce-cb46-4157-8319-2a1280a08630",
   "metadata": {},
   "outputs": [
    {
     "name": "stdout",
     "output_type": "stream",
     "text": [
      "[[10.03960416]\n",
      " [ 3.61504063]\n",
      " [12.9481802 ]\n",
      " [15.29385401]\n",
      " [ 7.47937714]\n",
      " [10.19590946]\n",
      " [10.43732952]\n",
      " [ 1.80952278]\n",
      " [ 3.80804442]\n",
      " [12.46403819]\n",
      " [ 6.78860564]\n",
      " [ 7.37829669]\n",
      " [11.24183888]\n",
      " [ 2.52354107]\n",
      " [ 3.39915384]\n",
      " [-1.23641104]\n",
      " [ 4.44626216]\n",
      " [-0.31757909]\n",
      " [ 3.69500119]\n",
      " [ 5.28230568]\n",
      " [14.36969224]\n",
      " [ 5.95844925]\n",
      " [10.26318735]\n",
      " [ 9.52430501]\n",
      " [14.95565859]\n",
      " [ 0.40225933]\n",
      " [ 6.93293536]\n",
      " [ 6.26947681]\n",
      " [11.77239124]\n",
      " [ 5.11199781]\n",
      " [ 7.53076632]\n",
      " [13.14381302]\n",
      " [-1.90107741]\n",
      " [14.83135125]\n",
      " [ 4.50486352]\n",
      " [11.69918685]\n",
      " [ 3.25824651]\n",
      " [ 7.6319644 ]\n",
      " [ 4.5083825 ]\n",
      " [14.08997828]\n",
      " [14.53656184]\n",
      " [11.53645715]\n",
      " [ 5.73781493]\n",
      " [15.11211608]\n",
      " [17.71857912]\n",
      " [-1.20192157]\n",
      " [10.36827515]\n",
      " [ 1.60418006]\n",
      " [14.58066598]\n",
      " [-1.65507786]\n",
      " [-1.90301821]\n",
      " [ 3.27788272]\n",
      " [ 6.56180016]\n",
      " [ 6.66891918]\n",
      " [ 3.14667786]\n",
      " [11.55517173]\n",
      " [ 6.25080253]\n",
      " [10.5708661 ]\n",
      " [17.26496109]\n",
      " [ 1.14922396]]\n"
     ]
    }
   ],
   "source": [
    "print(lin_reg_pred_test)"
   ]
  },
  {
   "cell_type": "code",
   "execution_count": 76,
   "id": "7ebf47a6-fa83-483b-8d05-ea95554a02b1",
   "metadata": {},
   "outputs": [
    {
     "data": {
      "text/plain": [
       "[<matplotlib.lines.Line2D at 0x165679a90>]"
      ]
     },
     "execution_count": 76,
     "metadata": {},
     "output_type": "execute_result"
    },
    {
     "data": {
      "image/png": "[encoded data removed]",
      "text/plain": [
       "<Figure size 432x288 with 1 Axes>"
      ]
     },
     "metadata": {
      "needs_background": "light"
     },
     "output_type": "display_data"
    }
   ],
   "source": [
    "import matplotlib.pyplot as plt\n",
    "plt.scatter(X_test, y_test, color=\"blue\")\n",
    "plt.plot(X_test, lin_reg_pred_test, color=\"red\", linewidth=3)"
   ]
  },
  {
   "cell_type": "code",
   "execution_count": 77,
   "id": "931cae11-2910-4caa-910c-f6c15b953570",
   "metadata": {},
   "outputs": [
    {
     "data": {
      "text/plain": [
       "[<matplotlib.lines.Line2D at 0x1656e8130>]"
      ]
     },
     "execution_count": 77,
     "metadata": {},
     "output_type": "execute_result"
    },
    {
     "data": {
      "image/png": "[encoded data removed]",
      "text/plain": [
       "<Figure size 432x288 with 1 Axes>"
      ]
     },
     "metadata": {
      "needs_background": "light"
     },
     "output_type": "display_data"
    }
   ],
   "source": [
    "plt.scatter(X_train, y_train, color=\"blue\")\n",
    "plt.plot(X_train, lin_reg_pred_train, color=\"red\", linewidth=3)"
   ]
  },
  {
   "cell_type": "code",
   "execution_count": 78,
   "id": "76d8e766-1e99-48ff-9e90-ccbed2cfdcbf",
   "metadata": {},
   "outputs": [],
   "source": [
    "from sklearn.metrics import mean_squared_error as mse"
   ]
  },
  {
   "cell_type": "code",
   "execution_count": 79,
   "id": "70ae481e-7bf3-4502-bce8-f9e359437b21",
   "metadata": {},
   "outputs": [],
   "source": [
    "lin_reg_mse_test = mse(y_test, lin_reg_pred_test)\n",
    "lin_reg_mse_train = mse(y_train, lin_reg_pred_train)"
   ]
  },
  {
   "cell_type": "code",
   "execution_count": 80,
   "id": "ca39a636-165f-400f-8912-3407288ae387",
   "metadata": {},
   "outputs": [
    {
     "name": "stdout",
     "output_type": "stream",
     "text": [
      "212.84992945855512\n"
     ]
    }
   ],
   "source": [
    "print(lin_reg_mse_test)"
   ]
  },
  {
   "cell_type": "code",
   "execution_count": 81,
   "id": "8a695b79-4edf-4ddd-8c58-0144df39b38b",
   "metadata": {},
   "outputs": [
    {
     "name": "stdout",
     "output_type": "stream",
     "text": [
      "222.8969309459854\n"
     ]
    }
   ],
   "source": [
    "print(lin_reg_mse_train)"
   ]
  },
  {
   "cell_type": "code",
   "execution_count": 82,
   "id": "548c0617-5c34-486f-b3f3-24c799886aea",
   "metadata": {},
   "outputs": [
    {
     "data": {
      "text/plain": [
       "KNeighborsRegressor(n_neighbors=3)"
      ]
     },
     "execution_count": 82,
     "metadata": {},
     "output_type": "execute_result"
    }
   ],
   "source": [
    "import sklearn.neighbors\n",
    "knn_3_reg = sklearn.neighbors.KNeighborsRegressor(n_neighbors=3)\n",
    "knn_3_reg.fit(X_train.to_numpy().reshape(-1,1), y_train.to_numpy().reshape(-1,1))"
   ]
  },
  {
   "cell_type": "code",
   "execution_count": 83,
   "id": "5dfc2d8d-2cf0-4081-bf1e-d297c315422f",
   "metadata": {},
   "outputs": [],
   "source": [
    "knn_3_reg_pred_test = knn_3_reg.predict(X_test.to_numpy().reshape(-1,1))\n",
    "knn_3_reg_pred_train = knn_3_reg.predict(X_train.to_numpy().reshape(-1,1))"
   ]
  },
  {
   "cell_type": "code",
   "execution_count": 84,
   "id": "4839df14-7377-4ac0-a267-1080ffb00a1a",
   "metadata": {},
   "outputs": [
    {
     "name": "stdout",
     "output_type": "stream",
     "text": [
      "[[14.96272832]\n",
      " [-3.85806315]\n",
      " [ 1.56872954]\n",
      " [24.26621109]\n",
      " [-4.6516743 ]\n",
      " [ 4.73704782]\n",
      " [-7.86649542]\n",
      " [ 0.29636664]\n",
      " [-0.48451955]\n",
      " [ 0.96033931]\n",
      " [ 1.88523981]\n",
      " [-9.67409381]\n",
      " [ 2.49949202]\n",
      " [ 8.07963043]\n",
      " [-3.85806315]\n",
      " [12.00221246]\n",
      " [ 4.98511155]\n",
      " [16.4005495 ]\n",
      " [-6.34755978]\n",
      " [ 0.76190357]\n",
      " [ 5.10626064]\n",
      " [-9.05643843]\n",
      " [-4.59881056]\n",
      " [-6.37070723]\n",
      " [20.10212961]\n",
      " [11.7872387 ]\n",
      " [ 0.18290703]\n",
      " [ 2.38429851]\n",
      " [-3.17159082]\n",
      " [ 5.01764115]\n",
      " [-4.6516743 ]\n",
      " [ 2.15193184]\n",
      " [12.09009618]\n",
      " [17.17373234]\n",
      " [ 3.3980187 ]\n",
      " [-3.17159082]\n",
      " [-0.14127811]\n",
      " [ 4.54798598]\n",
      " [ 3.3980187 ]\n",
      " [11.38967842]\n",
      " [15.93056628]\n",
      " [-5.43701701]\n",
      " [-4.90990139]\n",
      " [21.47181455]\n",
      " [67.31011238]\n",
      " [12.00221246]\n",
      " [-8.95179358]\n",
      " [-2.09391975]\n",
      " [19.7272898 ]\n",
      " [ 8.41967827]\n",
      " [12.09009618]\n",
      " [-0.14127811]\n",
      " [-3.41485798]\n",
      " [-0.68941505]\n",
      " [ 2.54392916]\n",
      " [-5.43701701]\n",
      " [ 2.38429851]\n",
      " [-1.54244617]\n",
      " [61.37035279]\n",
      " [ 2.64480891]]\n"
     ]
    }
   ],
   "source": [
    "print(knn_3_reg_pred_test)"
   ]
  },
  {
   "cell_type": "code",
   "execution_count": 85,
   "id": "0dc0b6aa-4c88-4263-9e7a-805b6433f253",
   "metadata": {},
   "outputs": [
    {
     "name": "stdout",
     "output_type": "stream",
     "text": [
      "[[ 1.14120399e+01]\n",
      " [ 2.15193184e+00]\n",
      " [-6.98813698e-02]\n",
      " [ 8.93335083e+00]\n",
      " [-4.28057065e+00]\n",
      " [ 2.01021296e+01]\n",
      " [ 6.73101124e+01]\n",
      " [ 1.73033805e+00]\n",
      " [ 5.57633508e+00]\n",
      " [-2.44943704e+00]\n",
      " [-4.56191514e-01]\n",
      " [ 1.57696809e+01]\n",
      " [ 1.20900962e+01]\n",
      " [-4.60187252e+00]\n",
      " [ 1.72705785e+00]\n",
      " [-1.22271313e+00]\n",
      " [ 1.17872387e+01]\n",
      " [-9.05643843e+00]\n",
      " [ 4.31829776e+00]\n",
      " [ 2.75038475e+01]\n",
      " [ 1.82907030e-01]\n",
      " [ 2.19855822e+01]\n",
      " [ 3.84923140e+01]\n",
      " [ 1.13896784e+01]\n",
      " [ 3.39801870e+00]\n",
      " [ 2.96366640e-01]\n",
      " [-6.40665371e+00]\n",
      " [-3.41485798e+00]\n",
      " [ 1.97272898e+01]\n",
      " [ 3.18389082e+01]\n",
      " [-8.95179358e+00]\n",
      " [ 3.18389082e+01]\n",
      " [ 5.57633508e+00]\n",
      " [-4.55328960e+00]\n",
      " [-2.52430387e+00]\n",
      " [ 6.93703678e-01]\n",
      " [ 5.47883921e-01]\n",
      " [-4.56191514e-01]\n",
      " [ 1.26730645e+01]\n",
      " [ 1.01433446e+01]\n",
      " [ 1.73033805e+00]\n",
      " [ 6.13703528e+01]\n",
      " [-4.28057065e+00]\n",
      " [ 2.07529038e+00]\n",
      " [ 3.84923140e+01]\n",
      " [-2.21154077e+00]\n",
      " [-1.22271313e+00]\n",
      " [ 4.92789680e-01]\n",
      " [ 3.47167307e+00]\n",
      " [-9.11525375e+00]\n",
      " [ 2.07529038e+00]\n",
      " [ 1.20900962e+01]\n",
      " [ 2.91861586e+00]\n",
      " [ 1.20022125e+01]\n",
      " [-2.52430387e+00]\n",
      " [ 1.20022125e+01]\n",
      " [ 1.20900962e+01]\n",
      " [ 1.83614424e+00]\n",
      " [-1.22271313e+00]\n",
      " [ 8.48896459e-01]\n",
      " [-5.10512726e+00]\n",
      " [ 2.36022683e+01]\n",
      " [-5.48797253e+00]\n",
      " [ 1.27529726e+01]\n",
      " [ 6.96440124e+00]\n",
      " [ 4.42258512e+01]\n",
      " [ 6.96440124e+00]\n",
      " [ 1.91247965e+01]\n",
      " [ 1.97272898e+01]\n",
      " [ 1.59305663e+01]\n",
      " [ 3.18184964e-01]\n",
      " [ 1.17872387e+01]\n",
      " [ 1.96857787e+01]\n",
      " [ 1.18277064e+01]\n",
      " [ 6.40282469e+01]\n",
      " [ 5.04719710e+00]\n",
      " [ 5.18306946e+00]\n",
      " [-3.62225547e+00]\n",
      " [ 4.91104060e+00]\n",
      " [-4.10414494e+00]\n",
      " [ 3.12190890e+01]\n",
      " [ 1.56872954e+00]\n",
      " [-3.85806315e+00]\n",
      " [-4.83023768e+00]\n",
      " [ 3.61471922e+01]\n",
      " [-1.26333439e+00]\n",
      " [-4.65167430e+00]\n",
      " [-4.83023768e+00]\n",
      " [ 1.89379810e+01]\n",
      " [ 4.52469797e+01]\n",
      " [ 8.48896459e-01]\n",
      " [ 9.68984248e-01]\n",
      " [ 5.10626064e+00]\n",
      " [-4.84519555e-01]\n",
      " [-2.09391975e+00]\n",
      " [ 1.79160895e+00]\n",
      " [ 1.56872954e+00]\n",
      " [-6.98813698e-02]\n",
      " [ 1.97272898e+01]\n",
      " [ 1.91247965e+01]\n",
      " [-9.11525375e+00]\n",
      " [ 1.01951128e+01]\n",
      " [ 8.32886783e+00]\n",
      " [ 2.16465094e+01]\n",
      " [ 1.89379810e+01]\n",
      " [-2.52430387e+00]\n",
      " [ 8.56424645e+00]\n",
      " [ 3.83925240e+00]\n",
      " [ 1.32494759e+00]\n",
      " [ 1.88523981e+00]\n",
      " [ 2.65208982e+00]\n",
      " [-3.17159082e+00]\n",
      " [-6.83308889e-01]\n",
      " [-3.06831778e+00]\n",
      " [ 1.87535265e+00]\n",
      " [-1.66191469e+00]\n",
      " [ 1.82907030e-01]\n",
      " [ 1.71282451e+01]\n",
      " [-4.84519555e-01]\n",
      " [ 2.49949202e+00]\n",
      " [ 2.17798874e+01]\n",
      " [ 1.14120399e+01]\n",
      " [ 6.93703678e-01]\n",
      " [ 6.73101124e+01]\n",
      " [ 5.18306946e+00]\n",
      " [-8.95179358e+00]\n",
      " [ 3.84923140e+01]\n",
      " [ 2.16465094e+01]\n",
      " [ 4.92789680e-01]\n",
      " [ 1.80738780e+00]\n",
      " [-4.69197855e+00]\n",
      " [ 3.18389082e+01]\n",
      " [ 8.41967827e+00]\n",
      " [ 4.07006273e+01]\n",
      " [-1.60353044e+00]\n",
      " [-5.43701701e+00]\n",
      " [ 4.52469797e+01]\n",
      " [-9.11525375e+00]\n",
      " [ 6.13703528e+01]\n",
      " [-8.47501354e-01]\n",
      " [ 8.68922983e-01]\n",
      " [ 7.17356967e+00]\n",
      " [ 2.37359138e+01]\n",
      " [ 1.73033805e+00]\n",
      " [ 2.09091909e+01]\n",
      " [ 5.47883921e-01]\n",
      " [-2.30629220e+00]\n",
      " [ 7.77822810e-01]\n",
      " [ 1.01951128e+01]\n",
      " [-1.41278110e-01]\n",
      " [ 9.04561637e+00]\n",
      " [ 2.96879570e+01]\n",
      " [-1.78201094e+00]\n",
      " [ 2.37359138e+01]\n",
      " [-3.48026432e-01]\n",
      " [ 7.61903569e-01]\n",
      " [ 5.02123325e-01]\n",
      " [ 6.83721968e+00]\n",
      " [-1.60353044e+00]\n",
      " [-4.60187252e+00]\n",
      " [ 6.72712409e-02]\n",
      " [-9.05643843e+00]\n",
      " [ 2.38429851e+00]\n",
      " [ 2.48020236e+00]\n",
      " [ 6.40282469e+01]\n",
      " [ 1.71737323e+01]\n",
      " [-7.15291299e+00]\n",
      " [-5.32186052e+00]\n",
      " [ 8.68292214e+00]\n",
      " [ 2.36022683e+01]\n",
      " [ 1.13896784e+01]\n",
      " [-1.54244617e+00]\n",
      " [ 2.75038475e+01]\n",
      " [ 1.01951128e+01]\n",
      " [-4.84519555e-01]\n",
      " [ 7.61903569e-01]\n",
      " [-1.60353044e+00]\n",
      " [ 2.49949202e+00]\n",
      " [-2.21154077e+00]\n",
      " [-4.10414494e+00]\n",
      " [-3.85806315e+00]\n",
      " [ 2.54392916e+00]\n",
      " [-1.78201094e+00]\n",
      " [-1.54244617e+00]\n",
      " [ 7.61903569e-01]\n",
      " [ 1.01433446e+01]\n",
      " [ 3.85250166e+00]\n",
      " [-6.77498255e-01]\n",
      " [ 5.47883921e-01]\n",
      " [ 2.37359138e+01]\n",
      " [-6.98813698e-02]\n",
      " [ 8.07963043e+00]\n",
      " [-2.09391975e+00]\n",
      " [-1.54244617e+00]\n",
      " [ 2.15193184e+00]\n",
      " [-2.93153627e+00]\n",
      " [ 5.57633508e+00]\n",
      " [-4.78569289e+00]\n",
      " [-2.44943704e+00]\n",
      " [-1.41278110e-01]\n",
      " [ 2.36022683e+01]\n",
      " [-2.44943704e+00]\n",
      " [ 2.03646479e+01]\n",
      " [-9.05643843e+00]\n",
      " [-8.95179358e+00]\n",
      " [ 6.21255735e+00]\n",
      " [ 2.64480891e+00]\n",
      " [ 1.59305663e+01]\n",
      " [-4.65167430e+00]\n",
      " [ 1.88523981e+00]\n",
      " [ 5.10626064e+00]\n",
      " [ 2.96879570e+01]\n",
      " [ 3.18184964e-01]\n",
      " [ 3.06174867e+00]\n",
      " [ 6.93703678e-01]\n",
      " [ 2.49949202e+00]\n",
      " [ 8.93335083e+00]\n",
      " [ 1.18277064e+01]\n",
      " [-7.86649542e+00]\n",
      " [ 8.93335083e+00]\n",
      " [ 2.65208982e+00]\n",
      " [ 4.73704782e+00]\n",
      " [ 1.71282451e+01]\n",
      " [ 3.39801870e+00]\n",
      " [ 1.87857960e+00]\n",
      " [ 2.17798874e+01]\n",
      " [ 1.59305663e+01]\n",
      " [ 2.48020236e+00]\n",
      " [-2.30629220e+00]\n",
      " [ 1.57696809e+01]\n",
      " [-5.10512726e+00]\n",
      " [-2.30629220e+00]\n",
      " [ 2.15193184e+00]\n",
      " [ 1.83614424e+00]\n",
      " [-4.65167430e+00]\n",
      " [ 2.09091909e+01]\n",
      " [ 2.96879570e+01]\n",
      " [ 1.97948618e+01]\n",
      " [ 1.69840264e+01]\n",
      " [ 2.01021296e+01]]\n"
     ]
    }
   ],
   "source": [
    "print(knn_3_reg_pred_train)"
   ]
  },
  {
   "cell_type": "code",
   "execution_count": 86,
   "id": "34e5db8f-b959-496f-a536-5ee155eced1d",
   "metadata": {},
   "outputs": [
    {
     "data": {
      "text/plain": [
       "[<matplotlib.lines.Line2D at 0x165719f40>]"
      ]
     },
     "execution_count": 86,
     "metadata": {},
     "output_type": "execute_result"
    },
    {
     "data": {
      "image/png": "[encoded data removed]",
      "text/plain": [
       "<Figure size 432x288 with 1 Axes>"
      ]
     },
     "metadata": {
      "needs_background": "light"
     },
     "output_type": "display_data"
    }
   ],
   "source": [
    "plt.scatter(X_test, y_test, color=\"blue\")\n",
    "plt.plot(X_test, knn_3_reg_pred_test, color=\"red\", linewidth=3)"
   ]
  },
  {
   "cell_type": "code",
   "execution_count": 87,
   "id": "afa49f36-af3e-4665-b3d1-678612e39356",
   "metadata": {},
   "outputs": [
    {
     "data": {
      "text/plain": [
       "[<matplotlib.lines.Line2D at 0x1657a89a0>]"
      ]
     },
     "execution_count": 87,
     "metadata": {},
     "output_type": "execute_result"
    },
    {
     "data": {
      "image/png": "[encoded data removed]",
      "text/plain": [
       "<Figure size 432x288 with 1 Axes>"
      ]
     },
     "metadata": {
      "needs_background": "light"
     },
     "output_type": "display_data"
    }
   ],
   "source": [
    "plt.scatter(X_train, y_train, color=\"blue\")\n",
    "plt.plot(X_train, knn_3_reg_pred_train, color=\"red\", linewidth=3)"
   ]
  },
  {
   "cell_type": "code",
   "execution_count": 124,
   "id": "b124b38c-e2c7-446c-881f-40991e19724c",
   "metadata": {},
   "outputs": [],
   "source": [
    "knn_3_reg_mse_test = mse(y_test, knn_3_reg_pred_test)\n",
    "knn_3_reg_mse_train = mse(y_train, knn_3_reg_pred_train)"
   ]
  },
  {
   "cell_type": "code",
   "execution_count": 125,
   "id": "a34b9a61-905f-4abe-b5e9-3edb1722a493",
   "metadata": {},
   "outputs": [
    {
     "name": "stdout",
     "output_type": "stream",
     "text": [
      "89.60652801867124\n"
     ]
    }
   ],
   "source": [
    "print(knn_3_reg_mse_test)"
   ]
  },
  {
   "cell_type": "code",
   "execution_count": 90,
   "id": "72e5c942-9ec0-4872-8c4a-8da48a39a26c",
   "metadata": {},
   "outputs": [
    {
     "name": "stdout",
     "output_type": "stream",
     "text": [
      "46.692123484604586\n"
     ]
    }
   ],
   "source": [
    "print(knn_3_reg_mse_train)"
   ]
  },
  {
   "cell_type": "code",
   "execution_count": 91,
   "id": "56ce8d3a-c51f-4d8d-9232-170d71ff173c",
   "metadata": {},
   "outputs": [
    {
     "data": {
      "text/plain": [
       "KNeighborsRegressor()"
      ]
     },
     "execution_count": 91,
     "metadata": {},
     "output_type": "execute_result"
    }
   ],
   "source": [
    "knn_5_reg = sklearn.neighbors.KNeighborsRegressor(n_neighbors=5)\n",
    "knn_5_reg.fit(X_train.to_numpy().reshape(-1,1), y_train.to_numpy().reshape(-1,1))"
   ]
  },
  {
   "cell_type": "code",
   "execution_count": 92,
   "id": "f3836a32-7a93-40bd-b9d8-7462b6291a48",
   "metadata": {},
   "outputs": [],
   "source": [
    "knn_5_reg_pred_test = knn_5_reg.predict(X_test.to_numpy().reshape(-1,1))\n",
    "knn_5_reg_pred_train = knn_5_reg.predict(X_train.to_numpy().reshape(-1,1))"
   ]
  },
  {
   "cell_type": "code",
   "execution_count": 93,
   "id": "c2424fd3-7f55-4aa1-88ae-557a48c9eacb",
   "metadata": {},
   "outputs": [
    {
     "name": "stdout",
     "output_type": "stream",
     "text": [
      "[[10.62313754]\n",
      " [-3.23347223]\n",
      " [ 4.7518779 ]\n",
      " [25.32852044]\n",
      " [-6.03044542]\n",
      " [ 5.35503363]\n",
      " [-7.37588551]\n",
      " [ 2.05853829]\n",
      " [-3.4394171 ]\n",
      " [ 2.72828905]\n",
      " [-1.27078165]\n",
      " [-4.96231988]\n",
      " [-2.55169309]\n",
      " [ 3.97150234]\n",
      " [-3.23347223]\n",
      " [16.16211197]\n",
      " [ 2.79620902]\n",
      " [11.81781333]\n",
      " [-3.4394171 ]\n",
      " [ 2.98915531]\n",
      " [ 7.22079438]\n",
      " [-3.57201056]\n",
      " [-4.10936509]\n",
      " [-5.77568728]\n",
      " [17.81998565]\n",
      " [10.70239189]\n",
      " [-1.27078165]\n",
      " [ 1.81992368]\n",
      " [-1.87558409]\n",
      " [ 3.76067354]\n",
      " [-2.56730795]\n",
      " [ 3.92418356]\n",
      " [ 7.97359805]\n",
      " [18.85585764]\n",
      " [ 0.8208091 ]\n",
      " [-3.07079674]\n",
      " [ 1.23205793]\n",
      " [-1.74057146]\n",
      " [ 0.8208091 ]\n",
      " [10.75109264]\n",
      " [18.06941482]\n",
      " [ 0.2075865 ]\n",
      " [-3.73144535]\n",
      " [20.79769931]\n",
      " [67.417814  ]\n",
      " [16.16211197]\n",
      " [-5.48193128]\n",
      " [-0.54138463]\n",
      " [16.97174914]\n",
      " [12.08232892]\n",
      " [ 7.97359805]\n",
      " [ 0.38273865]\n",
      " [-1.42245469]\n",
      " [-0.95097647]\n",
      " [ 2.43130531]\n",
      " [ 0.2075865 ]\n",
      " [ 1.81992368]\n",
      " [-4.73678313]\n",
      " [57.32658621]\n",
      " [-0.4667114 ]]\n"
     ]
    }
   ],
   "source": [
    "print(knn_5_reg_pred_test)"
   ]
  },
  {
   "cell_type": "code",
   "execution_count": 94,
   "id": "8ae2d68d-e617-4633-a621-705472e03ed7",
   "metadata": {},
   "outputs": [
    {
     "name": "stdout",
     "output_type": "stream",
     "text": [
      "[[ 8.63492469e+00]\n",
      " [ 3.92418356e+00]\n",
      " [ 1.81992368e+00]\n",
      " [ 8.78339615e+00]\n",
      " [-4.37804739e+00]\n",
      " [ 1.78199857e+01]\n",
      " [ 6.74178140e+01]\n",
      " [ 1.45800895e+00]\n",
      " [ 1.18178133e+01]\n",
      " [ 8.20809099e-01]\n",
      " [ 9.79904516e-01]\n",
      " [ 1.67416400e+01]\n",
      " [ 7.97359805e+00]\n",
      " [-5.38755802e+00]\n",
      " [ 1.24096611e+00]\n",
      " [-4.96231988e+00]\n",
      " [ 1.51652645e+01]\n",
      " [-3.57201056e+00]\n",
      " [ 1.12722429e-01]\n",
      " [ 1.97523773e+01]\n",
      " [-1.27078165e+00]\n",
      " [ 1.97523773e+01]\n",
      " [ 3.65850741e+01]\n",
      " [ 1.07510926e+01]\n",
      " [ 8.20809099e-01]\n",
      " [ 2.05853829e+00]\n",
      " [-4.37804739e+00]\n",
      " [-2.43044605e-02]\n",
      " [ 1.69717491e+01]\n",
      " [ 3.12680426e+01]\n",
      " [-5.48193128e+00]\n",
      " [ 3.12680426e+01]\n",
      " [ 1.18178133e+01]\n",
      " [-4.73678313e+00]\n",
      " [-1.74057146e+00]\n",
      " [ 8.22663068e-01]\n",
      " [ 1.91124364e+00]\n",
      " [ 9.79904516e-01]\n",
      " [ 1.35055763e+01]\n",
      " [ 6.61230767e+00]\n",
      " [ 1.45800895e+00]\n",
      " [ 5.73265862e+01]\n",
      " [-4.37804739e+00]\n",
      " [ 1.32440363e+00]\n",
      " [ 3.61991882e+01]\n",
      " [-4.04385258e+00]\n",
      " [-4.96231988e+00]\n",
      " [ 1.32440363e+00]\n",
      " [ 1.45921169e+00]\n",
      " [-2.79064130e+00]\n",
      " [ 1.32440363e+00]\n",
      " [ 7.97359805e+00]\n",
      " [ 1.26206576e+00]\n",
      " [ 9.24124683e+00]\n",
      " [ 7.60019223e-01]\n",
      " [ 1.61621120e+01]\n",
      " [ 7.97359805e+00]\n",
      " [ 3.28109311e+00]\n",
      " [-4.96231988e+00]\n",
      " [ 3.66243685e+00]\n",
      " [-3.00333961e+00]\n",
      " [ 1.77144502e+01]\n",
      " [-3.33203791e+00]\n",
      " [ 1.51652645e+01]\n",
      " [ 7.22079438e+00]\n",
      " [ 4.11091235e+01]\n",
      " [ 8.89264880e+00]\n",
      " [ 1.71351200e+01]\n",
      " [ 1.69413462e+01]\n",
      " [ 1.57346438e+01]\n",
      " [ 2.82393544e+00]\n",
      " [ 1.51652645e+01]\n",
      " [ 1.99176515e+01]\n",
      " [ 7.87831408e+00]\n",
      " [ 6.09476397e+01]\n",
      " [ 4.75187790e+00]\n",
      " [ 1.20823289e+01]\n",
      " [-4.86218307e+00]\n",
      " [ 3.36960134e+00]\n",
      " [-4.04385258e+00]\n",
      " [ 3.47109451e+01]\n",
      " [ 4.75187790e+00]\n",
      " [-3.23347223e+00]\n",
      " [-5.77568728e+00]\n",
      " [ 4.11091235e+01]\n",
      " [-5.17897142e+00]\n",
      " [-6.03044542e+00]\n",
      " [-3.21541461e+00]\n",
      " [ 1.31579912e+01]\n",
      " [ 4.54451488e+01]\n",
      " [ 3.66243685e+00]\n",
      " [-3.21562979e+00]\n",
      " [ 1.05932449e+01]\n",
      " [ 4.66686065e-01]\n",
      " [-5.41384629e-01]\n",
      " [ 7.22079438e+00]\n",
      " [ 4.75187790e+00]\n",
      " [-2.11460590e+00]\n",
      " [ 2.03879921e+01]\n",
      " [ 1.71351200e+01]\n",
      " [-6.14249705e+00]\n",
      " [ 7.59527068e+00]\n",
      " [ 1.51652645e+01]\n",
      " [ 2.24928137e+01]\n",
      " [ 1.31579912e+01]\n",
      " [ 7.60019223e-01]\n",
      " [ 4.55183509e+00]\n",
      " [ 1.77099383e+00]\n",
      " [ 2.72241961e+00]\n",
      " [-1.27078165e+00]\n",
      " [ 3.60724969e+00]\n",
      " [-1.87558409e+00]\n",
      " [-7.13827368e-01]\n",
      " [-3.05899279e+00]\n",
      " [ 1.77099383e+00]\n",
      " [-5.37530409e+00]\n",
      " [-1.27078165e+00]\n",
      " [ 1.88558576e+01]\n",
      " [ 4.66686065e-01]\n",
      " [ 2.07586495e-01]\n",
      " [ 2.03477639e+01]\n",
      " [ 7.37352490e+00]\n",
      " [ 8.22663068e-01]\n",
      " [ 6.74178140e+01]\n",
      " [ 1.20823289e+01]\n",
      " [-5.48193128e+00]\n",
      " [ 3.67442935e+01]\n",
      " [ 2.24928137e+01]\n",
      " [ 1.46254072e+00]\n",
      " [ 5.51875074e-01]\n",
      " [-6.14249705e+00]\n",
      " [ 3.53372204e+01]\n",
      " [ 1.20823289e+01]\n",
      " [ 3.65850741e+01]\n",
      " [ 2.36857557e+00]\n",
      " [ 2.07586495e-01]\n",
      " [ 4.11091235e+01]\n",
      " [-2.79064130e+00]\n",
      " [ 5.73265862e+01]\n",
      " [-5.13987534e-01]\n",
      " [ 1.91124364e+00]\n",
      " [ 3.46210407e+00]\n",
      " [ 2.03477639e+01]\n",
      " [ 2.79844619e-01]\n",
      " [ 1.71351200e+01]\n",
      " [ 1.23403796e-01]\n",
      " [-3.19348032e+00]\n",
      " [ 2.82393544e+00]\n",
      " [ 7.59527068e+00]\n",
      " [ 1.23205793e+00]\n",
      " [ 1.19877443e+01]\n",
      " [ 2.39189898e+01]\n",
      " [ 2.38145712e+00]\n",
      " [ 2.03477639e+01]\n",
      " [ 3.28109311e+00]\n",
      " [ 3.76067354e+00]\n",
      " [ 1.45800895e+00]\n",
      " [ 9.86678702e+00]\n",
      " [ 2.36857557e+00]\n",
      " [-4.28650910e+00]\n",
      " [ 1.23205793e+00]\n",
      " [-3.57201056e+00]\n",
      " [ 1.81992368e+00]\n",
      " [-1.87558409e+00]\n",
      " [ 6.09476397e+01]\n",
      " [ 1.92621038e+01]\n",
      " [-5.91004443e+00]\n",
      " [-5.91004443e+00]\n",
      " [ 9.25626906e+00]\n",
      " [ 1.61237959e+01]\n",
      " [ 1.07510926e+01]\n",
      " [-4.73678313e+00]\n",
      " [ 2.54535992e+01]\n",
      " [ 7.59527068e+00]\n",
      " [ 4.66686065e-01]\n",
      " [ 3.76067354e+00]\n",
      " [ 2.36857557e+00]\n",
      " [ 2.07586495e-01]\n",
      " [-4.04385258e+00]\n",
      " [-4.04385258e+00]\n",
      " [-3.23347223e+00]\n",
      " [ 1.23205793e+00]\n",
      " [ 2.38145712e+00]\n",
      " [-4.73678313e+00]\n",
      " [ 3.76067354e+00]\n",
      " [ 1.19877443e+01]\n",
      " [ 3.76893328e+00]\n",
      " [-2.70344330e-01]\n",
      " [ 1.91124364e+00]\n",
      " [ 2.03477639e+01]\n",
      " [-2.11460590e+00]\n",
      " [ 4.59634375e+00]\n",
      " [-5.41384629e-01]\n",
      " [-4.73678313e+00]\n",
      " [ 3.92418356e+00]\n",
      " [ 6.36268364e-01]\n",
      " [ 1.04319854e+01]\n",
      " [-5.38622019e+00]\n",
      " [ 8.20809099e-01]\n",
      " [ 1.23205793e+00]\n",
      " [ 1.77144502e+01]\n",
      " [ 8.20809099e-01]\n",
      " [ 2.53285204e+01]\n",
      " [-2.73013257e+00]\n",
      " [-5.48193128e+00]\n",
      " [-7.73749026e-02]\n",
      " [-4.66711399e-01]\n",
      " [ 1.80694148e+01]\n",
      " [-2.56730795e+00]\n",
      " [-1.27078165e+00]\n",
      " [ 7.22079438e+00]\n",
      " [ 2.39189898e+01]\n",
      " [ 3.68983264e+00]\n",
      " [ 2.43130531e+00]\n",
      " [ 1.73304700e+00]\n",
      " [-2.55169309e+00]\n",
      " [ 1.14120952e+01]\n",
      " [ 7.87831408e+00]\n",
      " [-7.37588551e+00]\n",
      " [ 2.03270058e+00]\n",
      " [ 3.60724969e+00]\n",
      " [ 5.35503363e+00]\n",
      " [ 1.77119632e+01]\n",
      " [ 2.79620902e+00]\n",
      " [ 4.50778539e+00]\n",
      " [ 2.03477639e+01]\n",
      " [ 1.57346438e+01]\n",
      " [ 1.89454112e+00]\n",
      " [-2.88962939e+00]\n",
      " [ 1.67416400e+01]\n",
      " [-3.00333961e+00]\n",
      " [-2.88962939e+00]\n",
      " [ 5.55791019e+00]\n",
      " [ 3.28109311e+00]\n",
      " [-2.56730795e+00]\n",
      " [ 1.71351200e+01]\n",
      " [ 2.39189898e+01]\n",
      " [ 1.77119632e+01]\n",
      " [ 1.71351200e+01]\n",
      " [ 1.92621038e+01]]\n"
     ]
    }
   ],
   "source": [
    "print(knn_5_reg_pred_train)"
   ]
  },
  {
   "cell_type": "code",
   "execution_count": 95,
   "id": "8b039850-a903-4f58-943e-5627d03f484e",
   "metadata": {},
   "outputs": [
    {
     "data": {
      "text/plain": [
       "[<matplotlib.lines.Line2D at 0x16536edc0>]"
      ]
     },
     "execution_count": 95,
     "metadata": {},
     "output_type": "execute_result"
    },
    {
     "data": {
      "image/png": "[encoded data removed]",
      "text/plain": [
       "<Figure size 432x288 with 1 Axes>"
      ]
     },
     "metadata": {
      "needs_background": "light"
     },
     "output_type": "display_data"
    }
   ],
   "source": [
    "plt.scatter(X_test, y_test, color=\"blue\")\n",
    "plt.plot(X_test, knn_5_reg_pred, color=\"red\", linewidth=3)"
   ]
  },
  {
   "cell_type": "code",
   "execution_count": 96,
   "id": "e71cd717-da20-4f57-8314-042355153d5b",
   "metadata": {},
   "outputs": [
    {
     "data": {
      "text/plain": [
       "[<matplotlib.lines.Line2D at 0x165706d90>]"
      ]
     },
     "execution_count": 96,
     "metadata": {},
     "output_type": "execute_result"
    },
    {
     "data": {
      "image/png": "[encoded data removed]",
      "text/plain": [
       "<Figure size 432x288 with 1 Axes>"
      ]
     },
     "metadata": {
      "needs_background": "light"
     },
     "output_type": "display_data"
    }
   ],
   "source": [
    "plt.scatter(X_train, y_train, color=\"blue\")\n",
    "plt.plot(X_train, knn_5_reg_pred_train, color=\"red\", linewidth=3)"
   ]
  },
  {
   "cell_type": "code",
   "execution_count": 97,
   "id": "58a59dd4-5209-48f2-9737-7d5257642e5e",
   "metadata": {},
   "outputs": [],
   "source": [
    "knn_5_reg_mse_test = mse(y_test, knn_5_reg_pred_test)\n",
    "knn_5_reg_mse_train = mse(y_train, knn_5_reg_pred_train)"
   ]
  },
  {
   "cell_type": "code",
   "execution_count": 98,
   "id": "d2943e3f-ba08-467c-8eca-7f7d2bf5919a",
   "metadata": {},
   "outputs": [
    {
     "name": "stdout",
     "output_type": "stream",
     "text": [
      "84.18838924105548\n"
     ]
    }
   ],
   "source": [
    "print(knn_5_reg_mse_test)"
   ]
  },
  {
   "cell_type": "code",
   "execution_count": 99,
   "id": "7317783f-ac62-4fa8-a03d-18591029e30f",
   "metadata": {},
   "outputs": [
    {
     "name": "stdout",
     "output_type": "stream",
     "text": [
      "57.61946894520035\n"
     ]
    }
   ],
   "source": [
    "print(knn_5_reg_mse_train)"
   ]
  },
  {
   "cell_type": "code",
   "execution_count": 112,
   "id": "0ecfe6f6-00c8-4101-bb05-217bbef4a347",
   "metadata": {},
   "outputs": [
    {
     "name": "stdout",
     "output_type": "stream",
     "text": [
      "[1.4213854] [1.4213854  2.02033644]\n"
     ]
    }
   ],
   "source": [
    "from sklearn.preprocessing import PolynomialFeatures\n",
    "poly_feature_2 = PolynomialFeatures(degree=2, include_bias=False)\n",
    "X_poly_train = poly_feature_2.fit_transform(X_train.to_numpy().reshape(-1,1))\n",
    "print(X_train.to_numpy().reshape(-1,1)[0], X_poly_train[0])"
   ]
  },
  {
   "cell_type": "code",
   "execution_count": 115,
   "id": "f97b64ad-3590-4523-9c1b-1ee93e52c059",
   "metadata": {},
   "outputs": [
    {
     "data": {
      "text/plain": [
       "LinearRegression()"
      ]
     },
     "execution_count": 115,
     "metadata": {},
     "output_type": "execute_result"
    }
   ],
   "source": [
    "poly_2_reg = LinearRegression()\n",
    "poly_2_reg.fit(X_poly_train, y_train)"
   ]
  },
  {
   "cell_type": "code",
   "execution_count": 128,
   "id": "9b080c87-c611-4ba4-927b-a434e9235a75",
   "metadata": {},
   "outputs": [],
   "source": [
    "poly_2_reg_pred_test = poly_2_reg.predict(poly_feature_2.fit_transform(X_test.to_numpy().reshape(-1,1)))\n",
    "poly_2_reg_pred_train = poly_2_reg.predict(poly_feature_2.fit_transform(X_train.to_numpy().reshape(-1,1)))"
   ]
  },
  {
   "cell_type": "code",
   "execution_count": 129,
   "id": "9a4ab60d-e595-4ba7-b227-0efd6b6eb279",
   "metadata": {},
   "outputs": [
    {
     "name": "stdout",
     "output_type": "stream",
     "text": [
      "[-6.61744691e-01 -2.79128183e+00  1.03695363e+01  2.38365633e+01\n",
      " -5.17942362e+00 -2.28467783e-01  4.76355199e-01  2.12093218e+00\n",
      " -3.17333542e+00  8.09804928e+00 -5.56551317e+00 -5.25802507e+00\n",
      "  3.13716715e+00 -1.10697412e-01 -2.33119447e+00  1.58880485e+01\n",
      " -4.23995936e+00  1.10102705e+01 -2.95291695e+00 -5.18010902e+00\n",
      "  1.80435583e+01 -5.56126872e+00 -3.63956293e-02 -1.96180621e+00\n",
      "  2.16431310e+01  7.62633182e+00 -5.51409187e+00 -5.62273784e+00\n",
      "  5.15458270e+00 -5.03064113e+00 -5.13655702e+00  1.13367202e+01\n",
      "  1.98068649e+01  2.08582327e+01 -4.32275358e+00  4.86380832e+00\n",
      " -2.01225515e+00 -5.04641548e+00 -4.32764426e+00  1.64150834e+01\n",
      "  1.90426977e+01  4.23166963e+00 -5.47416233e+00  2.26473217e+01\n",
      "  4.20470422e+01  1.56936441e+01  2.70337704e-01  2.83273170e+00\n",
      "  1.93102240e+01  1.83182778e+01  1.98187875e+01 -2.05758419e+00\n",
      " -5.61510205e+00 -5.59643606e+00 -1.74927672e+00  4.30336867e+00\n",
      " -5.62107185e+00  8.84782344e-01  3.83086334e+01  4.52119678e+00]\n"
     ]
    }
   ],
   "source": [
    "print(poly_2_reg_pred_test)"
   ]
  },
  {
   "cell_type": "code",
   "execution_count": 130,
   "id": "8e662e21-39b6-46e0-b0d9-d300bedb8dc1",
   "metadata": {},
   "outputs": [
    {
     "data": {
      "text/plain": [
       "[<matplotlib.lines.Line2D at 0x169ebffa0>]"
      ]
     },
     "execution_count": 130,
     "metadata": {},
     "output_type": "execute_result"
    },
    {
     "data": {
      "image/png": "[encoded data removed]",
      "text/plain": [
       "<Figure size 432x288 with 1 Axes>"
      ]
     },
     "metadata": {
      "needs_background": "light"
     },
     "output_type": "display_data"
    }
   ],
   "source": [
    "plt.scatter(X_train, y_train, color=\"blue\")\n",
    "plt.plot(X_test, poly_2_reg_pred_test, color=\"red\", linewidth=3)"
   ]
  },
  {
   "cell_type": "code",
   "execution_count": 134,
   "id": "e6610ea7-0beb-48eb-a125-67314c544215",
   "metadata": {},
   "outputs": [
    {
     "data": {
      "text/plain": [
       "[<matplotlib.lines.Line2D at 0x165086550>]"
      ]
     },
     "execution_count": 134,
     "metadata": {},
     "output_type": "execute_result"
    },
    {
     "data": {
      "image/png": "[encoded data removed]",
      "text/plain": [
       "<Figure size 432x288 with 1 Axes>"
      ]
     },
     "metadata": {
      "needs_background": "light"
     },
     "output_type": "display_data"
    }
   ],
   "source": [
    "plt.scatter(X_train, y_train, color=\"blue\")\n",
    "plt.plot(X_train, poly_2_reg_pred_train, color=\"red\", linewidth=3)"
   ]
  },
  {
   "cell_type": "code",
   "execution_count": 131,
   "id": "28f8111d-45ac-4ba9-811d-51134a95dee1",
   "metadata": {},
   "outputs": [],
   "source": [
    "poly_2_reg_mse_test = mse(y_test, poly_2_reg_pred_test)\n",
    "poly_2_reg_mse_train = mse(y_train, poly_2_reg_pred_train)"
   ]
  },
  {
   "cell_type": "code",
   "execution_count": 132,
   "id": "1a1147f9-0473-48b6-a6d6-39e63ab06c17",
   "metadata": {},
   "outputs": [
    {
     "name": "stdout",
     "output_type": "stream",
     "text": [
      "104.86285748757192\n"
     ]
    }
   ],
   "source": [
    "print(poly_2_reg_mse_test)"
   ]
  },
  {
   "cell_type": "code",
   "execution_count": 133,
   "id": "5e40ef58-0ba4-4f9b-b459-510c74d3408d",
   "metadata": {},
   "outputs": [
    {
     "name": "stdout",
     "output_type": "stream",
     "text": [
      "98.21556666119567\n"
     ]
    }
   ],
   "source": [
    "print(poly_2_reg_mse_train)"
   ]
  },
  {
   "cell_type": "code",
   "execution_count": null,
   "id": "cf88874b-b5f2-41fe-b625-eb2932457c46",
   "metadata": {},
   "outputs": [],
   "source": []
  }
 ],
 "metadata": {
  "kernelspec": {
   "display_name": "Python 3 (ipykernel)",
   "language": "python",
   "name": "python3"
  },
  "language_info": {
   "codemirror_mode": {
    "name": "ipython",
    "version": 3
   },
   "file_extension": ".py",
   "mimetype": "text/x-python",
   "name": "python",
   "nbconvert_exporter": "python",
   "pygments_lexer": "ipython3",
   "version": "3.9.10"
  }
 },
 "nbformat": 4,
 "nbformat_minor": 5
}
