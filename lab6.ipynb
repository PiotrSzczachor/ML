{
 "cells": [
  {
   "cell_type": "code",
   "execution_count": 73,
   "id": "07460f00-3e49-4525-b028-8404126360a1",
   "metadata": {},
   "outputs": [],
   "source": [
    "import pandas as pd\n",
    "from sklearn import datasets\n",
    "data_breast_cancer = datasets.load_breast_cancer(as_frame=True)"
   ]
  },
  {
   "cell_type": "code",
   "execution_count": 74,
   "id": "6c5018e6-1bb5-4e3f-b76a-bf42de8da360",
   "metadata": {},
   "outputs": [
    {
     "data": {
      "text/html": [
       "<div>\n",
       "<style scoped>\n",
       "    .dataframe tbody tr th:only-of-type {\n",
       "        vertical-align: middle;\n",
       "    }\n",
       "\n",
       "    .dataframe tbody tr th {\n",
       "        vertical-align: top;\n",
       "    }\n",
       "\n",
       "    .dataframe thead th {\n",
       "        text-align: right;\n",
       "    }\n",
       "</style>\n",
       "<table border=\"1\" class=\"dataframe\">\n",
       "  <thead>\n",
       "    <tr style=\"text-align: right;\">\n",
       "      <th></th>\n",
       "      <th>mean texture</th>\n",
       "      <th>mean symmetry</th>\n",
       "    </tr>\n",
       "  </thead>\n",
       "  <tbody>\n",
       "    <tr>\n",
       "      <th>0</th>\n",
       "      <td>10.38</td>\n",
       "      <td>0.2419</td>\n",
       "    </tr>\n",
       "    <tr>\n",
       "      <th>1</th>\n",
       "      <td>17.77</td>\n",
       "      <td>0.1812</td>\n",
       "    </tr>\n",
       "    <tr>\n",
       "      <th>2</th>\n",
       "      <td>21.25</td>\n",
       "      <td>0.2069</td>\n",
       "    </tr>\n",
       "    <tr>\n",
       "      <th>3</th>\n",
       "      <td>20.38</td>\n",
       "      <td>0.2597</td>\n",
       "    </tr>\n",
       "    <tr>\n",
       "      <th>4</th>\n",
       "      <td>14.34</td>\n",
       "      <td>0.1809</td>\n",
       "    </tr>\n",
       "  </tbody>\n",
       "</table>\n",
       "</div>"
      ],
      "text/plain": [
       "   mean texture  mean symmetry\n",
       "0         10.38         0.2419\n",
       "1         17.77         0.1812\n",
       "2         21.25         0.2069\n",
       "3         20.38         0.2597\n",
       "4         14.34         0.1809"
      ]
     },
     "execution_count": 74,
     "metadata": {},
     "output_type": "execute_result"
    }
   ],
   "source": [
    "X = data_breast_cancer.data[[\"mean texture\",\"mean symmetry\"]]\n",
    "X.head()"
   ]
  },
  {
   "cell_type": "code",
   "execution_count": 75,
   "id": "2929578d-d0b2-4db4-9405-eb7bcf667d4a",
   "metadata": {},
   "outputs": [
    {
     "data": {
      "text/plain": [
       "0    0\n",
       "1    0\n",
       "2    0\n",
       "3    0\n",
       "4    0\n",
       "Name: target, dtype: int64"
      ]
     },
     "execution_count": 75,
     "metadata": {},
     "output_type": "execute_result"
    }
   ],
   "source": [
    "y = data_breast_cancer.target\n",
    "y.head()"
   ]
  },
  {
   "cell_type": "code",
   "execution_count": 76,
   "id": "273d2d08-d22c-44b6-b9d5-e2935b7f6497",
   "metadata": {},
   "outputs": [],
   "source": [
    "from sklearn.model_selection import train_test_split\n",
    "X_train, X_test, y_train, y_test = train_test_split(X, y, test_size=0.2)"
   ]
  },
  {
   "cell_type": "code",
   "execution_count": 77,
   "id": "55e37aaa-0eff-42b3-8cc0-a974ba88c13c",
   "metadata": {},
   "outputs": [
    {
     "name": "stdout",
     "output_type": "stream",
     "text": [
      "455 114\n"
     ]
    }
   ],
   "source": [
    "print(len(X_train), len(X_test))"
   ]
  },
  {
   "cell_type": "code",
   "execution_count": 78,
   "id": "e2bc7d57-4ba5-47b4-ae81-c2c189696a3f",
   "metadata": {},
   "outputs": [],
   "source": [
    "from sklearn.tree import DecisionTreeClassifier\n",
    "from sklearn.neighbors import KNeighborsClassifier\n",
    "from sklearn.linear_model import LogisticRegression\n",
    "from sklearn.metrics import accuracy_score\n",
    "clf_list = []"
   ]
  },
  {
   "cell_type": "code",
   "execution_count": 79,
   "id": "a4e9f6b6-faa5-42ca-ab53-dcba9cc76085",
   "metadata": {},
   "outputs": [
    {
     "name": "stdout",
     "output_type": "stream",
     "text": [
      "(1.0, 0.6491228070175439)\n"
     ]
    }
   ],
   "source": [
    "tree_clf = DecisionTreeClassifier()\n",
    "tree_clf.fit(X_train, y_train)\n",
    "y_pred_train = tree_clf.predict(X_train)\n",
    "y_pred_test = tree_clf.predict(X_test)\n",
    "acc_train = accuracy_score(y_train, y_pred_train)\n",
    "acc_test = accuracy_score(y_test, y_pred_test)\n",
    "tree_clf_acc = (acc_train, acc_test)\n",
    "print(tree_clf_acc)\n",
    "clf_list.append(tree_clf)"
   ]
  },
  {
   "cell_type": "code",
   "execution_count": 80,
   "id": "6e2502a7-feac-483d-a873-9d0066a1bc76",
   "metadata": {},
   "outputs": [
    {
     "name": "stdout",
     "output_type": "stream",
     "text": [
      "(0.7670329670329671, 0.6578947368421053)\n"
     ]
    }
   ],
   "source": [
    "knn_clf = KNeighborsClassifier()\n",
    "knn_clf.fit(X_train, y_train)\n",
    "y_pred_train = knn_clf.predict(X_train)\n",
    "y_pred_test = knn_clf.predict(X_test)\n",
    "acc_train = accuracy_score(y_train, y_pred_train)\n",
    "acc_test = accuracy_score(y_test, y_pred_test)\n",
    "knn_clf_acc = (acc_train, acc_test)\n",
    "print(knn_clf_acc)\n",
    "clf_list.append(knn_clf)"
   ]
  },
  {
   "cell_type": "code",
   "execution_count": 81,
   "id": "3cec4a9f-67f3-40a1-b9da-7e469e9c1d7b",
   "metadata": {},
   "outputs": [
    {
     "name": "stdout",
     "output_type": "stream",
     "text": [
      "(0.7076923076923077, 0.6491228070175439)\n"
     ]
    }
   ],
   "source": [
    "lr_clf = LogisticRegression()\n",
    "lr_clf.fit(X_train, y_train)\n",
    "y_pred_train = lr_clf.predict(X_train)\n",
    "y_pred_test = lr_clf.predict(X_test)\n",
    "acc_train = accuracy_score(y_train, y_pred_train)\n",
    "acc_test = accuracy_score(y_test, y_pred_test)\n",
    "lr_acc = (acc_train, acc_test)\n",
    "print(lr_acc)\n",
    "clf_list.append(lr_clf)"
   ]
  },
  {
   "cell_type": "code",
   "execution_count": 82,
   "id": "4664caab-4459-42f1-99a9-7b2ef7337a34",
   "metadata": {},
   "outputs": [],
   "source": [
    "from sklearn.ensemble import VotingClassifier"
   ]
  },
  {
   "cell_type": "code",
   "execution_count": 83,
   "id": "670b7316-0dbc-420a-b69e-56e75b7bd630",
   "metadata": {},
   "outputs": [],
   "source": [
    "voting_clf = VotingClassifier(estimators=[(\"tr\", tree_clf),\n",
    "                                          (\"knn\", knn_clf),\n",
    "                                          (\"lr\", lr_clf)], voting=\"hard\")"
   ]
  },
  {
   "cell_type": "code",
   "execution_count": 84,
   "id": "23fd3c10-8c7a-4691-abbd-139f61907c41",
   "metadata": {},
   "outputs": [
    {
     "data": {
      "text/plain": [
       "VotingClassifier(estimators=[('tr', DecisionTreeClassifier()),\n",
       "                             ('knn', KNeighborsClassifier()),\n",
       "                             ('lr', LogisticRegression())])"
      ]
     },
     "execution_count": 84,
     "metadata": {},
     "output_type": "execute_result"
    }
   ],
   "source": [
    "voting_clf.fit(X_train, y_train)"
   ]
  },
  {
   "cell_type": "code",
   "execution_count": 85,
   "id": "c331e88a-f3ca-4a5f-8121-bf9bbf036760",
   "metadata": {},
   "outputs": [
    {
     "name": "stdout",
     "output_type": "stream",
     "text": [
      "[0 1 0 1 1 1 1 1 1 1 0 1 1 1 0 0 0 1 1 1 0 0 1 1 1 0 1 0 1 0 1 0 1 0 1 0 1\n",
      " 1 1 0 0 1 1 1 1 1 1 1 1 1 0 0 1 1 1 1 1 1 1 1 1 1 1 1 1 1 1 1 0 0 0 0 0 1\n",
      " 1 0 1 1 1 1 1 1 1 1 0 0 1 1 1 0 1 1 1 1 0 1 1 1 1 0 1 1 1 1 1 1 1 1 1 1 0\n",
      " 1 1 1 1 0 0 0 0 1 0 1 1 1 1 0 1 1 0 0 0 0 1 1 0 0 1 1 1 1 0 1 1 0 0 1 1 0\n",
      " 0 0 0 0 0 1 1 1 1 1 0 0 1 1 1 1 1 1 1 0 1 1 1 1 0 1 0 1 1 1 1 1 1 1 1 1 1\n",
      " 1 0 1 1 1 1 1 1 1 0 1 1 1 0 0 1 1 1 1 0 1 1 1 1 1 1 0 1 1 1 1 1 1 1 1 0 1\n",
      " 1 1 1 1 1 1 1 1 1 1 1 1 0 1 1 1 1 1 1 1 1 1 1 1 1 1 1 1 1 0 1 1 1 0 1 1 0\n",
      " 0 1 1 1 1 1 1 1 1 0 0 0 1 1 1 1 1 1 1 1 1 0 0 1 1 1 1 0 0 1 1 0 1 1 0 1 1\n",
      " 1 0 1 1 1 1 0 1 1 1 0 0 1 1 0 1 1 0 1 1 0 1 0 1 1 1 0 0 0 0 1 1 1 1 1 1 1\n",
      " 1 0 1 1 1 1 0 0 1 1 1 0 1 1 1 1 1 1 0 1 1 1 1 0 0 0 1 0 0 0 1 0 1 1 1 1 0\n",
      " 1 0 1 1 0 1 0 1 1 1 0 1 1 0 1 1 1 0 0 1 1 1 0 0 1 1 1 1 1 1 1 1 1 1 1 0 1\n",
      " 0 0 0 1 1 1 1 1 0 1 1 1 1 1 0 1 0 1 1 1 0 1 0 0 0 1 0 1 1 1 1 0 1 1 1 1 1\n",
      " 1 0 1 1 1 0 0 1 1 1 0]\n"
     ]
    }
   ],
   "source": [
    "print(voting_clf.predict(X_train))"
   ]
  },
  {
   "cell_type": "code",
   "execution_count": 86,
   "id": "a73c333e-4b45-4199-b4a9-6605417b0a62",
   "metadata": {},
   "outputs": [
    {
     "name": "stdout",
     "output_type": "stream",
     "text": [
      "(0.8483516483516483, 0.6578947368421053)\n"
     ]
    }
   ],
   "source": [
    "y_pred_train = voting_clf.predict(X_train)\n",
    "y_pred_test = voting_clf.predict(X_test)\n",
    "hard_acc_train = accuracy_score(y_train, y_pred_train)\n",
    "hard_acc_test = accuracy_score(y_test, y_pred_test)\n",
    "hard_acc = (hard_acc_train, hard_acc_test)\n",
    "print(hard_acc)\n",
    "clf_list.append(voting_clf)"
   ]
  },
  {
   "cell_type": "code",
   "execution_count": 87,
   "id": "a6b85a36-8335-4bb2-816b-41ed2a79d92c",
   "metadata": {},
   "outputs": [],
   "source": [
    "voting_clf = VotingClassifier(estimators=[(\"tr\", tree_clf),\n",
    "                                          (\"knn\", knn_clf),\n",
    "                                          (\"lr\", lr_clf)], voting=\"soft\")"
   ]
  },
  {
   "cell_type": "code",
   "execution_count": 88,
   "id": "cb41ff19-2b02-48ec-93a1-2db24d5d9b00",
   "metadata": {},
   "outputs": [
    {
     "data": {
      "text/plain": [
       "VotingClassifier(estimators=[('tr', DecisionTreeClassifier()),\n",
       "                             ('knn', KNeighborsClassifier()),\n",
       "                             ('lr', LogisticRegression())],\n",
       "                 voting='soft')"
      ]
     },
     "execution_count": 88,
     "metadata": {},
     "output_type": "execute_result"
    }
   ],
   "source": [
    "voting_clf.fit(X_train, y_train)"
   ]
  },
  {
   "cell_type": "code",
   "execution_count": 89,
   "id": "a70c3e8d-c518-4393-acfb-e70df9751421",
   "metadata": {},
   "outputs": [
    {
     "name": "stdout",
     "output_type": "stream",
     "text": [
      "[0 0 0 1 0 1 1 1 0 1 0 1 1 1 0 0 0 1 0 0 0 0 1 1 1 0 1 0 1 0 0 0 1 0 1 0 1\n",
      " 1 1 0 0 1 1 1 1 1 1 1 1 1 0 0 0 0 1 0 1 1 0 1 1 1 1 1 1 1 1 1 0 0 0 1 0 1\n",
      " 1 0 1 1 1 1 1 1 1 1 0 1 1 1 1 1 1 1 1 1 0 1 1 1 1 0 1 1 1 1 1 1 0 1 1 1 0\n",
      " 1 1 1 1 1 0 0 0 1 0 1 1 1 1 1 1 1 0 0 1 0 0 1 0 0 1 1 1 1 0 1 1 1 0 0 1 0\n",
      " 1 0 0 0 0 1 1 1 1 1 0 0 1 1 1 1 1 1 1 0 0 1 1 1 0 1 0 1 1 1 1 1 1 1 1 1 1\n",
      " 1 0 1 1 1 1 1 1 1 0 1 1 1 0 0 1 1 0 1 0 1 1 1 1 1 1 0 0 1 0 1 1 1 1 1 0 1\n",
      " 1 0 1 1 1 1 1 1 1 1 0 1 0 1 1 1 1 1 1 1 1 1 1 1 1 1 1 1 0 0 1 1 1 0 1 1 0\n",
      " 0 0 1 0 1 1 1 1 1 0 1 0 1 1 1 1 1 1 1 0 1 0 1 1 1 1 1 0 0 1 1 1 1 0 0 1 1\n",
      " 0 1 1 1 1 1 0 1 1 0 0 0 1 1 0 1 1 0 1 1 1 0 0 1 1 1 0 0 1 0 1 1 1 0 1 1 1\n",
      " 1 0 1 1 1 1 0 0 1 1 0 0 0 1 0 1 1 1 0 1 1 1 1 0 0 0 1 0 1 0 1 0 1 1 1 1 0\n",
      " 1 0 1 1 0 1 0 1 1 1 1 1 1 0 1 1 1 0 0 1 1 1 0 0 1 1 1 1 1 1 1 1 1 1 1 0 1\n",
      " 0 0 0 1 1 1 1 1 0 1 0 1 1 1 0 1 0 1 0 1 0 1 0 0 0 0 0 1 1 1 1 0 1 1 1 0 1\n",
      " 1 0 1 1 1 0 0 1 1 1 0]\n"
     ]
    }
   ],
   "source": [
    "print(voting_clf.predict(X_train))"
   ]
  },
  {
   "cell_type": "code",
   "execution_count": 90,
   "id": "b218ed83-fd14-4ee5-9304-ee7d4976672c",
   "metadata": {},
   "outputs": [
    {
     "name": "stdout",
     "output_type": "stream",
     "text": [
      "(0.9604395604395605, 0.6666666666666666)\n"
     ]
    }
   ],
   "source": [
    "y_pred_train = voting_clf.predict(X_train)\n",
    "y_pred_test = voting_clf.predict(X_test)\n",
    "soft_acc_train = accuracy_score(y_train, y_pred_train)\n",
    "soft_acc_test = accuracy_score(y_test, y_pred_test)\n",
    "soft_acc = (soft_acc_train, soft_acc_test)\n",
    "print(soft_acc)\n",
    "clf_list.append(voting_clf)"
   ]
  },
  {
   "cell_type": "code",
   "execution_count": 91,
   "id": "972e0f23-7506-4a70-a68b-7b6058da31f9",
   "metadata": {},
   "outputs": [
    {
     "name": "stdout",
     "output_type": "stream",
     "text": [
      "[(1.0, 0.6491228070175439), (0.7076923076923077, 0.6491228070175439), (0.7670329670329671, 0.6578947368421053), (0.8483516483516483, 0.6578947368421053), (0.9604395604395605, 0.6666666666666666)]\n"
     ]
    }
   ],
   "source": [
    "acc_list = [tree_clf_acc, lr_acc, knn_clf_acc, hard_acc, soft_acc]\n",
    "print(acc_list)"
   ]
  },
  {
   "cell_type": "code",
   "execution_count": 92,
   "id": "93de1f43-d84a-47a9-b6bf-487e80204460",
   "metadata": {},
   "outputs": [],
   "source": [
    "import pickle\n",
    "open_file = open(\"acc_vote.pkl\", \"wb\")\n",
    "pickle.dump(acc_list, open_file)\n",
    "open_file.close()"
   ]
  },
  {
   "cell_type": "code",
   "execution_count": 93,
   "id": "4f54dd27-ae9c-4ed5-be3e-c5afd75c1b90",
   "metadata": {},
   "outputs": [
    {
     "name": "stdout",
     "output_type": "stream",
     "text": [
      "[(1.0, 0.6491228070175439), (0.7076923076923077, 0.6491228070175439), (0.7670329670329671, 0.6578947368421053), (0.8483516483516483, 0.6578947368421053), (0.9604395604395605, 0.6666666666666666)]\n"
     ]
    }
   ],
   "source": [
    "open_file = open(\"acc_vote.pkl\", \"rb\")\n",
    "loaded_list = pickle.load(open_file)\n",
    "open_file.close()\n",
    "print(loaded_list)"
   ]
  },
  {
   "cell_type": "code",
   "execution_count": 94,
   "id": "f17200a6-2938-43a3-8bb8-8a060575413e",
   "metadata": {},
   "outputs": [
    {
     "name": "stdout",
     "output_type": "stream",
     "text": [
      "[DecisionTreeClassifier(), KNeighborsClassifier(), LogisticRegression(), VotingClassifier(estimators=[('tr', DecisionTreeClassifier()),\n",
      "                             ('knn', KNeighborsClassifier()),\n",
      "                             ('lr', LogisticRegression())]), VotingClassifier(estimators=[('tr', DecisionTreeClassifier()),\n",
      "                             ('knn', KNeighborsClassifier()),\n",
      "                             ('lr', LogisticRegression())],\n",
      "                 voting='soft')]\n"
     ]
    }
   ],
   "source": [
    "print(clf_list)"
   ]
  },
  {
   "cell_type": "code",
   "execution_count": 95,
   "id": "c4377b54-68cf-4b2a-8c41-98f4c39fe24d",
   "metadata": {},
   "outputs": [],
   "source": [
    "open_file = open(\"vote.pkl\", \"wb\")\n",
    "pickle.dump(clf_list, open_file)\n",
    "open_file.close()"
   ]
  },
  {
   "cell_type": "code",
   "execution_count": 96,
   "id": "100215c8-66aa-4ffc-add1-e385cc938df6",
   "metadata": {},
   "outputs": [
    {
     "name": "stdout",
     "output_type": "stream",
     "text": [
      "[DecisionTreeClassifier(), KNeighborsClassifier(), LogisticRegression(), VotingClassifier(estimators=[('tr', DecisionTreeClassifier()),\n",
      "                             ('knn', KNeighborsClassifier()),\n",
      "                             ('lr', LogisticRegression())]), VotingClassifier(estimators=[('tr', DecisionTreeClassifier()),\n",
      "                             ('knn', KNeighborsClassifier()),\n",
      "                             ('lr', LogisticRegression())],\n",
      "                 voting='soft')]\n"
     ]
    }
   ],
   "source": [
    "open_file = open(\"vote.pkl\", \"rb\")\n",
    "loaded_list = pickle.load(open_file)\n",
    "open_file.close()\n",
    "print(loaded_list)"
   ]
  },
  {
   "cell_type": "code",
   "execution_count": 97,
   "id": "7a5dd3ff-4311-4c67-9fd8-0156c05b78d5",
   "metadata": {},
   "outputs": [],
   "source": [
    "from sklearn.ensemble import BaggingClassifier\n",
    "from sklearn.ensemble import RandomForestClassifier\n",
    "from sklearn.ensemble import AdaBoostClassifier\n",
    "from sklearn.ensemble import GradientBoostingClassifier"
   ]
  },
  {
   "cell_type": "code",
   "execution_count": 98,
   "id": "cd76e501-b3f0-4c11-a774-c3b1a13f2436",
   "metadata": {},
   "outputs": [
    {
     "name": "stdout",
     "output_type": "stream",
     "text": [
      "(0.9956043956043956, 0.7280701754385965)\n"
     ]
    }
   ],
   "source": [
    "bag_clf = BaggingClassifier(DecisionTreeClassifier(), n_estimators=30)\n",
    "bag_clf.fit(X_train, y_train)\n",
    "y_pred_train = bag_clf.predict(X_train)\n",
    "y_pred_test = bag_clf.predict(X_test)\n",
    "acc_train = accuracy_score(y_train, y_pred_train)\n",
    "acc_test = accuracy_score(y_test, y_pred_test)\n",
    "bag_acc = (acc_train, acc_test)\n",
    "print(bag_acc)"
   ]
  },
  {
   "cell_type": "code",
   "execution_count": 100,
   "id": "0f83beb0-f827-4218-865f-6b044685e78e",
   "metadata": {},
   "outputs": [
    {
     "name": "stdout",
     "output_type": "stream",
     "text": [
      "(0.9120879120879121, 0.7280701754385965)\n"
     ]
    }
   ],
   "source": [
    "bag_clf_50 = BaggingClassifier(DecisionTreeClassifier(), n_estimators=30, max_samples=0.5)\n",
    "bag_clf_50.fit(X_train, y_train)\n",
    "y_pred_train = bag_clf_50.predict(X_train)\n",
    "y_pred_test = bag_clf_50.predict(X_test)\n",
    "acc_train = accuracy_score(y_train, y_pred_train)\n",
    "acc_test = accuracy_score(y_test, y_pred_test)\n",
    "bag_acc_50 = (acc_train, acc_test)\n",
    "print(bag_acc_50)"
   ]
  },
  {
   "cell_type": "code",
   "execution_count": 102,
   "id": "63b677c5-81a4-4563-b715-e1b0575ff31c",
   "metadata": {},
   "outputs": [
    {
     "name": "stdout",
     "output_type": "stream",
     "text": [
      "(1.0, 0.6403508771929824)\n"
     ]
    }
   ],
   "source": [
    "past_clf = BaggingClassifier(DecisionTreeClassifier(), n_estimators=30, bootstrap=False)\n",
    "past_clf.fit(X_train, y_train)\n",
    "y_pred_train = past_clf.predict(X_train)\n",
    "y_pred_test = past_clf.predict(X_test)\n",
    "acc_train = accuracy_score(y_train, y_pred_train)\n",
    "acc_test = accuracy_score(y_test, y_pred_test)\n",
    "past_acc = (acc_train, acc_test)\n",
    "print(past_acc)"
   ]
  },
  {
   "cell_type": "code",
   "execution_count": 103,
   "id": "bb0030b1-fc5a-41bc-ac75-7d338bfa9f0f",
   "metadata": {},
   "outputs": [
    {
     "name": "stdout",
     "output_type": "stream",
     "text": [
      "(0.9648351648351648, 0.7192982456140351)\n"
     ]
    }
   ],
   "source": [
    "past_clf_50 = BaggingClassifier(DecisionTreeClassifier(), n_estimators=30, max_samples=0.5, bootstrap=False)\n",
    "past_clf_50.fit(X_train, y_train)\n",
    "y_pred_train = past_clf_50.predict(X_train)\n",
    "y_pred_test = past_clf_50.predict(X_test)\n",
    "acc_train = accuracy_score(y_train, y_pred_train)\n",
    "acc_test = accuracy_score(y_test, y_pred_test)\n",
    "past_acc_50 = (acc_train, acc_test)\n",
    "print(past_acc_50)"
   ]
  },
  {
   "cell_type": "code",
   "execution_count": 104,
   "id": "68b1af59-d13f-42f8-8b63-97c89716c0f5",
   "metadata": {},
   "outputs": [
    {
     "name": "stdout",
     "output_type": "stream",
     "text": [
      "(0.9978021978021978, 0.7368421052631579)\n"
     ]
    }
   ],
   "source": [
    "rf_clf = RandomForestClassifier(n_estimators=30)\n",
    "rf_clf.fit(X_train, y_train)\n",
    "y_pred_train = rf_clf.predict(X_train)\n",
    "y_pred_test = rf_clf.predict(X_test)\n",
    "acc_train = accuracy_score(y_train, y_pred_train)\n",
    "acc_test = accuracy_score(y_test, y_pred_test)\n",
    "rf_acc = (acc_train, acc_test)\n",
    "print(rf_acc)"
   ]
  },
  {
   "cell_type": "code",
   "execution_count": 105,
   "id": "ad935914-91e6-4d32-a4e3-a36d4561da27",
   "metadata": {},
   "outputs": [
    {
     "name": "stdout",
     "output_type": "stream",
     "text": [
      "(0.8087912087912088, 0.7368421052631579)\n"
     ]
    }
   ],
   "source": [
    "ada_clf = AdaBoostClassifier(n_estimators=30)\n",
    "ada_clf.fit(X_train, y_train)\n",
    "y_pred_train = ada_clf.predict(X_train)\n",
    "y_pred_test = ada_clf.predict(X_test)\n",
    "acc_train = accuracy_score(y_train, y_pred_train)\n",
    "acc_test = accuracy_score(y_test, y_pred_test)\n",
    "ada_acc = (acc_train, acc_test)\n",
    "print(ada_acc)"
   ]
  },
  {
   "cell_type": "code",
   "execution_count": 106,
   "id": "26d4ef4b-3a08-42ac-a073-bd5672bd0de4",
   "metadata": {},
   "outputs": [
    {
     "name": "stdout",
     "output_type": "stream",
     "text": [
      "(0.8153846153846154, 0.7456140350877193)\n"
     ]
    }
   ],
   "source": [
    "gradient_clf = GradientBoostingClassifier(n_estimators=30)\n",
    "gradient_clf.fit(X_train, y_train)\n",
    "y_pred_train = gradient_clf.predict(X_train)\n",
    "y_pred_test = gradient_clf.predict(X_test)\n",
    "acc_train = accuracy_score(y_train, y_pred_train)\n",
    "acc_test = accuracy_score(y_test, y_pred_test)\n",
    "gradient_acc = (acc_train, acc_test)\n",
    "print(gradient_acc)"
   ]
  },
  {
   "cell_type": "code",
   "execution_count": 107,
   "id": "0f189e4c-b9eb-447a-b4eb-072d484d2460",
   "metadata": {},
   "outputs": [
    {
     "name": "stdout",
     "output_type": "stream",
     "text": [
      "[(0.9956043956043956, 0.7280701754385965), (0.9120879120879121, 0.7280701754385965), (1.0, 0.6403508771929824), (0.9648351648351648, 0.7192982456140351), (0.9978021978021978, 0.7368421052631579), (0.8087912087912088, 0.7368421052631579), (0.8153846153846154, 0.7456140350877193)]\n"
     ]
    }
   ],
   "source": [
    "acc_list2 = [bag_acc, bag_acc_50, past_acc, past_acc_50, rf_acc, ada_acc, gradient_acc]\n",
    "print(acc_list2)"
   ]
  },
  {
   "cell_type": "code",
   "execution_count": 109,
   "id": "36384881-24ea-4a36-84d1-03ce74d6a861",
   "metadata": {},
   "outputs": [],
   "source": [
    "open_file = open(\"acc_bag.pkl\", \"wb\")\n",
    "pickle.dump(acc_list2, open_file)\n",
    "open_file.close()"
   ]
  },
  {
   "cell_type": "code",
   "execution_count": 110,
   "id": "d74c1fd5-1551-40ed-a47c-68506e8203cd",
   "metadata": {},
   "outputs": [
    {
     "name": "stdout",
     "output_type": "stream",
     "text": [
      "[(0.9956043956043956, 0.7280701754385965), (0.9120879120879121, 0.7280701754385965), (1.0, 0.6403508771929824), (0.9648351648351648, 0.7192982456140351), (0.9978021978021978, 0.7368421052631579), (0.8087912087912088, 0.7368421052631579), (0.8153846153846154, 0.7456140350877193)]\n"
     ]
    }
   ],
   "source": [
    "open_file = open(\"acc_bag.pkl\", \"rb\")\n",
    "loaded_list = pickle.load(open_file)\n",
    "open_file.close()\n",
    "print(loaded_list)"
   ]
  },
  {
   "cell_type": "code",
   "execution_count": null,
   "id": "a7a263ac-9466-47bb-aa14-e4ce769e6509",
   "metadata": {},
   "outputs": [],
   "source": []
  }
 ],
 "metadata": {
  "kernelspec": {
   "display_name": "Python 3 (ipykernel)",
   "language": "python",
   "name": "python3"
  },
  "language_info": {
   "codemirror_mode": {
    "name": "ipython",
    "version": 3
   },
   "file_extension": ".py",
   "mimetype": "text/x-python",
   "name": "python",
   "nbconvert_exporter": "python",
   "pygments_lexer": "ipython3",
   "version": "3.9.10"
  }
 },
 "nbformat": 4,
 "nbformat_minor": 5
}
