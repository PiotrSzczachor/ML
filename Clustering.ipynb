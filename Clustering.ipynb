{
 "cells": [
  {
   "cell_type": "code",
   "execution_count": 1,
   "id": "70b08653-c940-4048-859e-90c03f373d03",
   "metadata": {},
   "outputs": [],
   "source": [
    "from sklearn.datasets import fetch_openml \n",
    "import numpy as np\n",
    "import pandas as pd\n",
    "mnist = fetch_openml('mnist_784', version=1, as_frame=False) \n",
    "mnist.target = mnist.target.astype(np.uint8)\n",
    "X = mnist[\"data\"]\n",
    "y = mnist[\"target\"]"
   ]
  },
  {
   "cell_type": "code",
   "execution_count": 2,
   "id": "627f13d6-3db9-4679-8084-28d1bc9d3e86",
   "metadata": {},
   "outputs": [
    {
     "data": {
      "text/plain": [
       "array([[0., 0., 0., ..., 0., 0., 0.],\n",
       "       [0., 0., 0., ..., 0., 0., 0.],\n",
       "       [0., 0., 0., ..., 0., 0., 0.],\n",
       "       ...,\n",
       "       [0., 0., 0., ..., 0., 0., 0.],\n",
       "       [0., 0., 0., ..., 0., 0., 0.],\n",
       "       [0., 0., 0., ..., 0., 0., 0.]])"
      ]
     },
     "execution_count": 2,
     "metadata": {},
     "output_type": "execute_result"
    }
   ],
   "source": [
    "X"
   ]
  },
  {
   "cell_type": "code",
   "execution_count": 3,
   "id": "11a074a6-1991-460c-a4e2-a6028fe25560",
   "metadata": {},
   "outputs": [
    {
     "data": {
      "text/plain": [
       "array([5, 0, 4, ..., 4, 5, 6], dtype=uint8)"
      ]
     },
     "execution_count": 3,
     "metadata": {},
     "output_type": "execute_result"
    }
   ],
   "source": [
    "y"
   ]
  },
  {
   "cell_type": "code",
   "execution_count": 4,
   "id": "c5891207-3e1f-45a7-824c-eb0756a3a265",
   "metadata": {},
   "outputs": [
    {
     "name": "stdout",
     "output_type": "stream",
     "text": [
      "[0 3 5 ... 4 0 2]\n",
      "[0 5 3 ... 7 0 2]\n",
      "[0 5 8 ... 2 1 4]\n",
      "[7 6 9 ... 0 5 2]\n",
      "[ 9  2  3 ... 11  0  6]\n"
     ]
    }
   ],
   "source": [
    "from sklearn.cluster import KMeans\n",
    "from sklearn.metrics import silhouette_score\n",
    "from sklearn.metrics import confusion_matrix\n",
    "\n",
    "conf_matrix = None\n",
    "kmeans_sil = []\n",
    "for i in range(8,13):\n",
    "    kmeans = KMeans(n_clusters=i)\n",
    "    clusters_labels = kmeans.fit_predict(X)\n",
    "    sil = silhouette_score(X, clusters_labels)\n",
    "    kmeans_sil.append(sil)\n",
    "    if i == 10:\n",
    "        conf_matrix = confusion_matrix(y, clusters_labels)\n",
    "    print(kmeans.labels_)"
   ]
  },
  {
   "cell_type": "code",
   "execution_count": 5,
   "id": "f2c4a4d3-55d8-4aba-b26e-18b0d0ec76a4",
   "metadata": {},
   "outputs": [
    {
     "name": "stdout",
     "output_type": "stream",
     "text": [
      "[0.07338426761417954, 0.05679418111062125, 0.05869201052848778, 0.058345868447402464, 0.0581727846213671]\n"
     ]
    }
   ],
   "source": [
    "print(kmeans_sil)"
   ]
  },
  {
   "cell_type": "code",
   "execution_count": 6,
   "id": "c4d332a9-4d8b-48aa-891b-2cff0b2bf9cc",
   "metadata": {},
   "outputs": [],
   "source": [
    "import pickle\n",
    "\n",
    "open_file = open(\"kmeans_sil.pkl\", \"wb\")\n",
    "pickle.dump(kmeans_sil, open_file)\n",
    "open_file.close()"
   ]
  },
  {
   "cell_type": "code",
   "execution_count": 7,
   "id": "d17cd8a2-b309-4cfd-8623-03df28521c38",
   "metadata": {},
   "outputs": [
    {
     "name": "stdout",
     "output_type": "stream",
     "text": [
      "[0.07338426761417954, 0.05679418111062125, 0.05869201052848778, 0.058345868447402464, 0.0581727846213671]\n"
     ]
    }
   ],
   "source": [
    "open_file = open(\"kmeans_sil.pkl\", \"rb\")\n",
    "loaded_list = pickle.load(open_file)\n",
    "open_file.close()\n",
    "print(loaded_list)"
   ]
  },
  {
   "cell_type": "code",
   "execution_count": 8,
   "id": "b5ec629a-3a5e-4cde-9cc6-b4fee96396af",
   "metadata": {},
   "outputs": [
    {
     "name": "stdout",
     "output_type": "stream",
     "text": [
      "[[  72 1265    7    2  162 5053    4  290   39    9]\n",
      " [   8    7   11 4293    7    0 3526    8    7   10]\n",
      " [ 201  246   78  423  147   57  436  323  216 4863]\n",
      " [1083  461   45  449   31   24   58 4581  193  216]\n",
      " [  17  288 2173  178  168    9  234    0 3728   29]\n",
      " [1156 1812  215  155   67   60  280 2129  432    7]\n",
      " [  14 2068    4  190 4326   71   45   38   67   53]\n",
      " [  18   12 4399  372    4   21  314    6 2094   53]\n",
      " [4115  292  193  335   51   36  330 1212  208   53]\n",
      " [  87   31 2849  261   16   51   95   87 3462   19]]\n"
     ]
    }
   ],
   "source": [
    "print(conf_matrix)"
   ]
  },
  {
   "cell_type": "code",
   "execution_count": 9,
   "id": "7b7907b2-cc79-4260-857d-d28732613cb3",
   "metadata": {},
   "outputs": [
    {
     "name": "stdout",
     "output_type": "stream",
     "text": [
      "[5, 3, 9, 7, 8, 7, 4, 2, 0, 8]\n"
     ]
    }
   ],
   "source": [
    "values = []\n",
    "for row in conf_matrix:\n",
    "    values.append(np.argmax(row))\n",
    "print(values)"
   ]
  },
  {
   "cell_type": "code",
   "execution_count": 10,
   "id": "567102d2-05bd-4d9f-9e59-23fe0ed79720",
   "metadata": {},
   "outputs": [],
   "source": [
    "values.sort()"
   ]
  },
  {
   "cell_type": "code",
   "execution_count": 11,
   "id": "c85134de-cf83-48fa-9fbd-f0082bacc563",
   "metadata": {},
   "outputs": [],
   "source": [
    "values = list(set(values))"
   ]
  },
  {
   "cell_type": "code",
   "execution_count": 12,
   "id": "e5d31e22-8a65-47bc-8112-05352b44ee95",
   "metadata": {},
   "outputs": [
    {
     "name": "stdout",
     "output_type": "stream",
     "text": [
      "[0, 2, 3, 4, 5, 7, 8, 9]\n"
     ]
    }
   ],
   "source": [
    "print(values)"
   ]
  },
  {
   "cell_type": "code",
   "execution_count": 13,
   "id": "ec804f01-5e71-471f-bbe0-27d9038f5120",
   "metadata": {},
   "outputs": [],
   "source": [
    "open_file = open(\"kmeans_argmax.pkl\", \"wb\")\n",
    "pickle.dump(values, open_file)\n",
    "open_file.close()"
   ]
  },
  {
   "cell_type": "code",
   "execution_count": 14,
   "id": "eabf063a-483f-4429-9a0b-02493cb7f41c",
   "metadata": {},
   "outputs": [
    {
     "name": "stdout",
     "output_type": "stream",
     "text": [
      "[0, 2, 3, 4, 5, 7, 8, 9]\n"
     ]
    }
   ],
   "source": [
    "open_file = open(\"kmeans_argmax.pkl\", \"rb\")\n",
    "loaded_list = pickle.load(open_file)\n",
    "open_file.close()\n",
    "print(loaded_list)"
   ]
  },
  {
   "cell_type": "code",
   "execution_count": 15,
   "id": "db965e8f-7179-4400-96e4-ed96c7931bc8",
   "metadata": {},
   "outputs": [],
   "source": [
    "from sklearn.cluster import DBSCAN\n",
    "X_300 = X[:300]"
   ]
  },
  {
   "cell_type": "code",
   "execution_count": 16,
   "id": "2ed6efd1-c6d3-49a9-9bac-e85744abc9cf",
   "metadata": {},
   "outputs": [],
   "source": [
    "distance_list = []\n",
    "for i in range(300):\n",
    "    for j in range(len(X)):\n",
    "        distance = np.linalg.norm(X[i]-X[j])\n",
    "        if distance != 0:\n",
    "            distance_list.append(distance)"
   ]
  },
  {
   "cell_type": "code",
   "execution_count": 17,
   "id": "102293c9-1423-47ba-92d8-36862d6e04b9",
   "metadata": {},
   "outputs": [],
   "source": [
    "distance_list.sort()"
   ]
  },
  {
   "cell_type": "code",
   "execution_count": 18,
   "id": "12091f38-f9c9-4110-a6d4-413f7caba698",
   "metadata": {},
   "outputs": [],
   "source": [
    "smallest_distances = distance_list[:10]"
   ]
  },
  {
   "cell_type": "code",
   "execution_count": 19,
   "id": "7d57773c-7b6f-4437-a435-5a690e809fe3",
   "metadata": {},
   "outputs": [
    {
     "name": "stdout",
     "output_type": "stream",
     "text": [
      "[279.26152617215286, 304.37641170103836, 317.5893575043093, 328.7658741414626, 333.4546445920344, 352.89800226127664, 355.1774204534967, 358.07401469528617, 359.64287842247063, 360.42474942767177]\n"
     ]
    }
   ],
   "source": [
    "print(smallest_distances)"
   ]
  },
  {
   "cell_type": "code",
   "execution_count": 20,
   "id": "309b7c8a-ec4b-4cf1-9926-25f0890172e5",
   "metadata": {},
   "outputs": [
    {
     "data": {
      "text/plain": [
       "10"
      ]
     },
     "execution_count": 20,
     "metadata": {},
     "output_type": "execute_result"
    }
   ],
   "source": [
    "len(smallest_distances)"
   ]
  },
  {
   "cell_type": "code",
   "execution_count": 21,
   "id": "285d2b73-afb7-4e15-aca7-4646621c634e",
   "metadata": {},
   "outputs": [],
   "source": [
    "open_file = open(\"dist.pkl\", \"wb\")\n",
    "pickle.dump(smallest_distances, open_file)\n",
    "open_file.close()"
   ]
  },
  {
   "cell_type": "code",
   "execution_count": 22,
   "id": "daa984e7-8324-4542-bf2d-7f5f8fd0317a",
   "metadata": {},
   "outputs": [
    {
     "name": "stdout",
     "output_type": "stream",
     "text": [
      "[279.26152617215286, 304.37641170103836, 317.5893575043093, 328.7658741414626, 333.4546445920344, 352.89800226127664, 355.1774204534967, 358.07401469528617, 359.64287842247063, 360.42474942767177]\n"
     ]
    }
   ],
   "source": [
    "open_file = open(\"dist.pkl\", \"rb\")\n",
    "loaded_list = pickle.load(open_file)\n",
    "open_file.close()\n",
    "print(loaded_list)"
   ]
  },
  {
   "cell_type": "code",
   "execution_count": 23,
   "id": "bf643d77-97ef-4431-a16f-4e8e977a77a1",
   "metadata": {},
   "outputs": [],
   "source": [
    "s = (smallest_distances[0] + smallest_distances[1] + smallest_distances[2])/3"
   ]
  },
  {
   "cell_type": "code",
   "execution_count": 24,
   "id": "13af949e-75aa-403b-bfad-5535db8287b6",
   "metadata": {},
   "outputs": [
    {
     "name": "stdout",
     "output_type": "stream",
     "text": [
      "300.40909845916684\n"
     ]
    }
   ],
   "source": [
    "print(s)"
   ]
  },
  {
   "cell_type": "code",
   "execution_count": 25,
   "id": "f9931383-8188-4c38-9fd5-a9dc572871ee",
   "metadata": {},
   "outputs": [],
   "source": [
    "eps_1 = s\n",
    "eps_2 = 1.04 * s\n",
    "eps_3 = 1.08 * s\n",
    "eps_list = [eps_1, eps_2, eps_3]"
   ]
  },
  {
   "cell_type": "code",
   "execution_count": 26,
   "id": "0ddd4009-5196-443b-ba21-0a9374f01436",
   "metadata": {},
   "outputs": [
    {
     "name": "stdout",
     "output_type": "stream",
     "text": [
      "[300.40909845916684, 312.4254623975335, 324.4418263359002]\n"
     ]
    }
   ],
   "source": [
    "print(eps_list)"
   ]
  },
  {
   "cell_type": "code",
   "execution_count": 28,
   "id": "b29048a6-db24-44ba-8b11-34a7cf8ba64e",
   "metadata": {},
   "outputs": [
    {
     "name": "stdout",
     "output_type": "stream",
     "text": [
      "300.40909845916684    [0, 1, 2, -1]    [0, 1, 2]     [0, 1, 2] \n",
      "\n",
      "\n",
      "312.4254623975335    [0, 1, 2, 3, 4, 5, -1]    [0, 1, 2, 3, 4, 5]     [0, 1, 2, 3, 4, 5] \n",
      "\n",
      "\n",
      "324.4418263359002    [0, 1, 2, 3, 4, 5, 6, 7, 8, 9, 10, 11, 12, 13, 14, 15, 16, 17, 18, 19, 20, -1]    [0, 1, 2, 3, 4, 5, 6, 7, 8, 9, 10, 11, 12, 13, 14, 15, 16, 17, 18, 19, 20]     [0, 1, 2, 3, 4, 5, 6, 7, 8, 9, 10, 11, 12, 13, 14, 15, 16, 17, 18, 19, 20] \n",
      "\n",
      "\n"
     ]
    }
   ],
   "source": [
    "labels_len = []\n",
    "for eps_ in eps_list:\n",
    "    dbscan = DBSCAN(eps=eps_)\n",
    "    pred = dbscan.fit_predict(X)\n",
    "    labels = list(set(dbscan.labels_))\n",
    "    labels_without_anomalies = labels\n",
    "    labels_without_anomalies.remove(-1)\n",
    "    print(eps_, \"  \", list(set(pred)), \"  \", labels, \"   \", labels_without_anomalies, \"\\n\\n\")\n",
    "    labels_len.append(len(labels_without_anomalies))"
   ]
  },
  {
   "cell_type": "code",
   "execution_count": 29,
   "id": "ca47aa94-663b-428a-8ca8-cff3ef7faaa7",
   "metadata": {},
   "outputs": [
    {
     "name": "stdout",
     "output_type": "stream",
     "text": [
      "[3, 6, 21]\n"
     ]
    }
   ],
   "source": [
    "print(labels_len)"
   ]
  },
  {
   "cell_type": "code",
   "execution_count": 30,
   "id": "cd209dff-3127-4c44-8c21-e5e73c874054",
   "metadata": {},
   "outputs": [],
   "source": [
    "open_file = open(\"dbscan_len.pkl\", \"wb\")\n",
    "pickle.dump(labels_len, open_file)\n",
    "open_file.close()"
   ]
  },
  {
   "cell_type": "code",
   "execution_count": 31,
   "id": "9aee8ca9-a518-4b4d-af44-c357ec000863",
   "metadata": {},
   "outputs": [
    {
     "name": "stdout",
     "output_type": "stream",
     "text": [
      "[3, 6, 21]\n"
     ]
    }
   ],
   "source": [
    "open_file = open(\"dbscan_len.pkl\", \"rb\")\n",
    "loaded_list = pickle.load(open_file)\n",
    "open_file.close()\n",
    "print(loaded_list)"
   ]
  },
  {
   "cell_type": "code",
   "execution_count": null,
   "id": "badb3083-b824-4832-aaf1-ee80141ba891",
   "metadata": {},
   "outputs": [],
   "source": []
  }
 ],
 "metadata": {
  "kernelspec": {
   "display_name": "Python 3",
   "language": "python",
   "name": "python3"
  },
  "language_info": {
   "codemirror_mode": {
    "name": "ipython",
    "version": 3
   },
   "file_extension": ".py",
   "mimetype": "text/x-python",
   "name": "python",
   "nbconvert_exporter": "python",
   "pygments_lexer": "ipython3",
   "version": "3.8.8"
  }
 },
 "nbformat": 4,
 "nbformat_minor": 5
}
