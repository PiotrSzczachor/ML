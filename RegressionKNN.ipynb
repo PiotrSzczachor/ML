{
 "cells": [
  {
   "cell_type": "code",
   "execution_count": 166,
   "id": "4ecccbe0-848e-4e23-ae29-02305c07ac01",
   "metadata": {},
   "outputs": [
    {
     "data": {
      "text/plain": [
       "<AxesSubplot:xlabel='x', ylabel='y'>"
      ]
     },
     "execution_count": 166,
     "metadata": {},
     "output_type": "execute_result"
    },
    {
     "data": {
      "image/png": "[encoded data removed]",
      "text/plain": [
       "<Figure size 432x288 with 1 Axes>"
      ]
     },
     "metadata": {
      "needs_background": "light"
     },
     "output_type": "display_data"
    }
   ],
   "source": [
    "import numpy as np\n",
    "import pandas as pd\n",
    "size = 300\n",
    "X = np.random.rand(size)*5-2.5\n",
    "w4, w3, w2, w1, w0 = 1, 2, 1, -4, 2\n",
    "y = w4*(X**4) + w3*(X**3) + w2*(X**2) + w1*X + w0 + np.random.randn(size)*8-4 \n",
    "df = pd.DataFrame({'x': X, 'y': y}) \n",
    "df.to_csv('dane_do_regresji.csv',index=None)\n",
    "df.plot.scatter(x='x',y='y')"
   ]
  },
  {
   "cell_type": "code",
   "execution_count": 167,
   "id": "71721422-b0eb-4c86-bc35-076ee7936240",
   "metadata": {},
   "outputs": [
    {
     "data": {
      "text/plain": [
       "0      0.576551\n",
       "1     -2.290521\n",
       "2     -0.092592\n",
       "3     -1.474765\n",
       "4     -2.363817\n",
       "         ...   \n",
       "295   -1.695141\n",
       "296    1.908283\n",
       "297    1.885164\n",
       "298    2.269418\n",
       "299    1.040084\n",
       "Name: x, Length: 300, dtype: float64"
      ]
     },
     "execution_count": 167,
     "metadata": {},
     "output_type": "execute_result"
    }
   ],
   "source": [
    "X = df.x\n",
    "X"
   ]
  },
  {
   "cell_type": "code",
   "execution_count": 168,
   "id": "763404f9-1ad0-482f-8a11-186eda4ed9a3",
   "metadata": {},
   "outputs": [
    {
     "data": {
      "text/plain": [
       "pandas.core.series.Series"
      ]
     },
     "execution_count": 168,
     "metadata": {},
     "output_type": "execute_result"
    }
   ],
   "source": [
    "type(X)"
   ]
  },
  {
   "cell_type": "code",
   "execution_count": 169,
   "id": "0ca99762-c3eb-4407-838c-e2a27dcfe714",
   "metadata": {},
   "outputs": [
    {
     "data": {
      "text/plain": [
       "0       0.866693\n",
       "1       9.491101\n",
       "2      -9.539880\n",
       "3      -3.959772\n",
       "4      33.284148\n",
       "         ...    \n",
       "295     4.363569\n",
       "296    17.613830\n",
       "297    16.340536\n",
       "298    45.968250\n",
       "299    -2.798351\n",
       "Name: y, Length: 300, dtype: float64"
      ]
     },
     "execution_count": 169,
     "metadata": {},
     "output_type": "execute_result"
    }
   ],
   "source": [
    "y = df.y\n",
    "y"
   ]
  },
  {
   "cell_type": "code",
   "execution_count": 170,
   "id": "4b94e376-78f9-4265-8336-5e2a42b8d85a",
   "metadata": {},
   "outputs": [
    {
     "data": {
      "text/plain": [
       "pandas.core.series.Series"
      ]
     },
     "execution_count": 170,
     "metadata": {},
     "output_type": "execute_result"
    }
   ],
   "source": [
    "type(y)"
   ]
  },
  {
   "cell_type": "code",
   "execution_count": 171,
   "id": "4de7908d-5bbb-4a57-a398-5f9e07fcd280",
   "metadata": {},
   "outputs": [],
   "source": [
    "from sklearn.model_selection import train_test_split\n",
    "X_train, X_test, y_train, y_test = train_test_split(X, y, test_size=0.2)"
   ]
  },
  {
   "cell_type": "code",
   "execution_count": 172,
   "id": "c8dacdb9-11e8-40e1-ade4-a09e30761c04",
   "metadata": {},
   "outputs": [
    {
     "name": "stdout",
     "output_type": "stream",
     "text": [
      "240 60\n"
     ]
    }
   ],
   "source": [
    "print(len(X_train), len(X_test))"
   ]
  },
  {
   "cell_type": "code",
   "execution_count": 173,
   "id": "7a938d95-36fa-4559-84f5-5060bdd8e5eb",
   "metadata": {},
   "outputs": [
    {
     "data": {
      "text/plain": [
       "LinearRegression()"
      ]
     },
     "execution_count": 173,
     "metadata": {},
     "output_type": "execute_result"
    }
   ],
   "source": [
    "from sklearn.linear_model import LinearRegression\n",
    "lin_reg = LinearRegression()\n",
    "lin_reg.fit(X_train.to_numpy().reshape(-1,1), y_train.to_numpy().reshape(-1,1))"
   ]
  },
  {
   "cell_type": "code",
   "execution_count": 174,
   "id": "4f174a19-f2c3-412c-baeb-294801990cd7",
   "metadata": {},
   "outputs": [],
   "source": [
    "lin_reg_pred_test = lin_reg.predict(X_test.to_numpy().reshape(-1,1))\n",
    "lin_reg_pred_train = lin_reg.predict(X_train.to_numpy().reshape(-1,1))"
   ]
  },
  {
   "cell_type": "code",
   "execution_count": 175,
   "id": "4590d9ce-cb46-4157-8319-2a1280a08630",
   "metadata": {},
   "outputs": [
    {
     "name": "stdout",
     "output_type": "stream",
     "text": [
      "[[ 6.8351675 ]\n",
      " [ 8.62837766]\n",
      " [ 9.31101016]\n",
      " [ 3.78433981]\n",
      " [ 7.42993157]\n",
      " [ 3.9211036 ]\n",
      " [ 3.01951788]\n",
      " [ 2.20570592]\n",
      " [ 6.56714691]\n",
      " [ 7.10960394]\n",
      " [ 4.72155375]\n",
      " [12.01110721]\n",
      " [ 6.36811937]\n",
      " [ 6.44622075]\n",
      " [ 8.28887159]\n",
      " [ 7.12855887]\n",
      " [ 9.24252483]\n",
      " [ 4.31515788]\n",
      " [ 2.23535357]\n",
      " [ 8.38401   ]\n",
      " [ 8.91401352]\n",
      " [ 5.97257943]\n",
      " [ 9.78027931]\n",
      " [10.60448858]\n",
      " [ 9.75818396]\n",
      " [ 2.33597552]\n",
      " [ 7.33873525]\n",
      " [ 8.17603935]\n",
      " [ 3.36662962]\n",
      " [ 6.49613697]\n",
      " [11.43512753]\n",
      " [ 8.00799291]\n",
      " [ 8.95726265]\n",
      " [ 7.00981367]\n",
      " [ 6.69417396]\n",
      " [ 5.64068228]\n",
      " [ 2.16394097]\n",
      " [ 9.15355796]\n",
      " [ 7.25238736]\n",
      " [ 7.04349821]\n",
      " [ 8.95871964]\n",
      " [10.17735615]\n",
      " [ 7.00282065]\n",
      " [ 2.69421122]\n",
      " [ 4.77052877]\n",
      " [ 5.52744081]\n",
      " [ 3.04216929]\n",
      " [ 9.45695856]\n",
      " [ 4.91253769]\n",
      " [12.25627764]\n",
      " [11.37706107]\n",
      " [ 3.26997935]\n",
      " [ 7.08198748]\n",
      " [ 5.24190069]\n",
      " [ 8.70940917]\n",
      " [ 2.83667234]\n",
      " [ 7.25736394]\n",
      " [ 2.42995931]\n",
      " [ 4.28817405]\n",
      " [ 4.18258598]]\n"
     ]
    }
   ],
   "source": [
    "print(lin_reg_pred_test)"
   ]
  },
  {
   "cell_type": "code",
   "execution_count": 176,
   "id": "7ebf47a6-fa83-483b-8d05-ea95554a02b1",
   "metadata": {},
   "outputs": [
    {
     "data": {
      "text/plain": [
       "[<matplotlib.lines.Line2D at 0x23ed9a5de80>]"
      ]
     },
     "execution_count": 176,
     "metadata": {},
     "output_type": "execute_result"
    },
    {
     "data": {
      "image/png": "[encoded data removed]",
      "text/plain": [
       "<Figure size 432x288 with 1 Axes>"
      ]
     },
     "metadata": {
      "needs_background": "light"
     },
     "output_type": "display_data"
    }
   ],
   "source": [
    "import matplotlib.pyplot as plt\n",
    "plt.scatter(X_test, y_test, color=\"blue\")\n",
    "plt.plot(X_test, lin_reg_pred_test, color=\"red\", linewidth=3)"
   ]
  },
  {
   "cell_type": "code",
   "execution_count": 177,
   "id": "931cae11-2910-4caa-910c-f6c15b953570",
   "metadata": {},
   "outputs": [
    {
     "data": {
      "text/plain": [
       "[<matplotlib.lines.Line2D at 0x23ed8f2c520>]"
      ]
     },
     "execution_count": 177,
     "metadata": {},
     "output_type": "execute_result"
    },
    {
     "data": {
      "image/png": "[encoded data removed]",
      "text/plain": [
       "<Figure size 432x288 with 1 Axes>"
      ]
     },
     "metadata": {
      "needs_background": "light"
     },
     "output_type": "display_data"
    }
   ],
   "source": [
    "plt.scatter(X_train, y_train, color=\"blue\")\n",
    "plt.plot(X_train, lin_reg_pred_train, color=\"red\", linewidth=3)"
   ]
  },
  {
   "cell_type": "code",
   "execution_count": 178,
   "id": "76d8e766-1e99-48ff-9e90-ccbed2cfdcbf",
   "metadata": {},
   "outputs": [],
   "source": [
    "from sklearn.metrics import mean_squared_error as mse"
   ]
  },
  {
   "cell_type": "code",
   "execution_count": 179,
   "id": "70ae481e-7bf3-4502-bce8-f9e359437b21",
   "metadata": {},
   "outputs": [],
   "source": [
    "lin_reg_mse_test = mse(y_test, lin_reg_pred_test)\n",
    "lin_reg_mse_train = mse(y_train, lin_reg_pred_train)"
   ]
  },
  {
   "cell_type": "code",
   "execution_count": 180,
   "id": "ca39a636-165f-400f-8912-3407288ae387",
   "metadata": {},
   "outputs": [
    {
     "name": "stdout",
     "output_type": "stream",
     "text": [
      "257.90778523698407\n"
     ]
    }
   ],
   "source": [
    "print(lin_reg_mse_test)"
   ]
  },
  {
   "cell_type": "code",
   "execution_count": 181,
   "id": "8a695b79-4edf-4ddd-8c58-0144df39b38b",
   "metadata": {},
   "outputs": [
    {
     "name": "stdout",
     "output_type": "stream",
     "text": [
      "205.4448955332616\n"
     ]
    }
   ],
   "source": [
    "print(lin_reg_mse_train)"
   ]
  },
  {
   "cell_type": "code",
   "execution_count": 182,
   "id": "548c0617-5c34-486f-b3f3-24c799886aea",
   "metadata": {},
   "outputs": [
    {
     "data": {
      "text/plain": [
       "KNeighborsRegressor(n_neighbors=3)"
      ]
     },
     "execution_count": 182,
     "metadata": {},
     "output_type": "execute_result"
    }
   ],
   "source": [
    "import sklearn.neighbors\n",
    "knn_3_reg = sklearn.neighbors.KNeighborsRegressor(n_neighbors=3)\n",
    "knn_3_reg.fit(X_train.to_numpy().reshape(-1,1), y_train.to_numpy().reshape(-1,1))"
   ]
  },
  {
   "cell_type": "code",
   "execution_count": 183,
   "id": "5dfc2d8d-2cf0-4081-bf1e-d297c315422f",
   "metadata": {},
   "outputs": [],
   "source": [
    "knn_3_reg_pred_test = knn_3_reg.predict(X_test.to_numpy().reshape(-1,1))\n",
    "knn_3_reg_pred_train = knn_3_reg.predict(X_train.to_numpy().reshape(-1,1))"
   ]
  },
  {
   "cell_type": "code",
   "execution_count": 184,
   "id": "4839df14-7377-4ac0-a267-1080ffb00a1a",
   "metadata": {},
   "outputs": [
    {
     "name": "stdout",
     "output_type": "stream",
     "text": [
      "[[  1.5348282 ]\n",
      " [  2.35532991]\n",
      " [ -1.7269898 ]\n",
      " [  6.35590743]\n",
      " [ -3.31081801]\n",
      " [  4.69534065]\n",
      " [  7.27558905]\n",
      " [ 25.52014421]\n",
      " [  0.64850427]\n",
      " [-13.59427068]\n",
      " [ -3.16287553]\n",
      " [ 52.23105391]\n",
      " [  0.89754431]\n",
      " [  3.46820841]\n",
      " [  1.93774523]\n",
      " [-13.59427068]\n",
      " [ -6.60881164]\n",
      " [  7.27196106]\n",
      " [ 19.43771561]\n",
      " [ -1.92802231]\n",
      " [ -1.07307678]\n",
      " [  5.94848896]\n",
      " [ 12.80942531]\n",
      " [  6.65576957]\n",
      " [ 11.6233126 ]\n",
      " [ 20.00288365]\n",
      " [ -1.66549607]\n",
      " [ -0.06467609]\n",
      " [  4.34632395]\n",
      " [  3.46820841]\n",
      " [ 37.93877449]\n",
      " [ -0.53758273]\n",
      " [ -4.01246785]\n",
      " [ -0.85472855]\n",
      " [  1.17988113]\n",
      " [ -3.84475375]\n",
      " [ 26.4690247 ]\n",
      " [ -6.12405016]\n",
      " [  1.33132177]\n",
      " [  0.6552993 ]\n",
      " [ -4.01246785]\n",
      " [ -0.08045545]\n",
      " [ -0.85472855]\n",
      " [ 16.38811517]\n",
      " [ -0.45593636]\n",
      " [  1.66156991]\n",
      " [  6.95298836]\n",
      " [  0.39387684]\n",
      " [  6.24043751]\n",
      " [ 55.94891981]\n",
      " [ 31.62053497]\n",
      " [  9.43092452]\n",
      " [ -7.78376386]\n",
      " [  3.03426489]\n",
      " [ -2.79032376]\n",
      " [ 16.78412831]\n",
      " [  1.33132177]\n",
      " [ 20.24948196]\n",
      " [  1.39887961]\n",
      " [ -1.63929433]]\n"
     ]
    }
   ],
   "source": [
    "print(knn_3_reg_pred_test)"
   ]
  },
  {
   "cell_type": "code",
   "execution_count": 185,
   "id": "0dc0b6aa-4c88-4263-9e7a-805b6433f253",
   "metadata": {},
   "outputs": [
    {
     "name": "stdout",
     "output_type": "stream",
     "text": [
      "[[-5.61596585e+00]\n",
      " [ 6.74586191e+00]\n",
      " [ 1.18367164e+01]\n",
      " [ 4.34632395e+00]\n",
      " [ 3.50991476e+00]\n",
      " [ 4.91521708e+01]\n",
      " [ 2.38585151e+00]\n",
      " [ 5.19833166e+00]\n",
      " [-7.75169739e+00]\n",
      " [ 1.32230183e+01]\n",
      " [-4.55936362e-01]\n",
      " [-2.79032376e+00]\n",
      " [ 5.51345566e+00]\n",
      " [ 6.74586191e+00]\n",
      " [ 1.17988113e+00]\n",
      " [ 2.68404159e-01]\n",
      " [ 2.55201442e+01]\n",
      " [ 6.24043751e+00]\n",
      " [ 5.45576133e+00]\n",
      " [ 1.46329464e+00]\n",
      " [ 1.32230183e+01]\n",
      " [ 2.73940873e+00]\n",
      " [ 2.02494820e+01]\n",
      " [ 9.19248696e+00]\n",
      " [ 9.92431974e+00]\n",
      " [ 6.48504270e-01]\n",
      " [ 2.64690247e+01]\n",
      " [ 7.22664179e+00]\n",
      " [ 9.92431974e+00]\n",
      " [ 5.45576133e+00]\n",
      " [ 3.93876839e-01]\n",
      " [ 3.50991476e+00]\n",
      " [ 6.24043751e+00]\n",
      " [ 1.32230183e+01]\n",
      " [ 7.20987461e+00]\n",
      " [ 2.02494820e+01]\n",
      " [ 6.52549163e+00]\n",
      " [ 2.44559824e+00]\n",
      " [ 3.76982650e+00]\n",
      " [ 1.54989702e+01]\n",
      " [ 7.21741799e+00]\n",
      " [ 2.55201442e+01]\n",
      " [ 3.46820841e+00]\n",
      " [ 2.73940873e+00]\n",
      " [ 4.34632395e+00]\n",
      " [ 1.76584064e+01]\n",
      " [ 9.00082109e+00]\n",
      " [ 2.31916651e-01]\n",
      " [ 3.76982650e+00]\n",
      " [ 6.35590743e+00]\n",
      " [ 3.58371078e+01]\n",
      " [ 4.91521708e+01]\n",
      " [-1.42560425e+00]\n",
      " [ 1.93774523e+00]\n",
      " [ 1.28094253e+01]\n",
      " [ 1.53482820e+00]\n",
      " [-6.01944822e+00]\n",
      " [-2.54024310e+00]\n",
      " [ 1.17988113e+00]\n",
      " [-7.78376386e+00]\n",
      " [ 1.04862863e+01]\n",
      " [ 2.35532991e+00]\n",
      " [ 6.55299302e-01]\n",
      " [ 1.69479136e-01]\n",
      " [ 2.64690247e+01]\n",
      " [-1.63929433e+00]\n",
      " [ 4.44988271e+01]\n",
      " [ 3.58371078e+01]\n",
      " [ 2.31916651e-01]\n",
      " [ 9.92431974e+00]\n",
      " [-5.46144144e+00]\n",
      " [-3.84475375e+00]\n",
      " [ 4.73550856e+00]\n",
      " [-3.05016626e+00]\n",
      " [ 7.24992006e-01]\n",
      " [-3.31081801e+00]\n",
      " [ 1.21994877e+01]\n",
      " [ 7.09623108e+00]\n",
      " [ 3.07720031e+00]\n",
      " [-9.97749474e-01]\n",
      " [-1.92802231e+00]\n",
      " [-2.84471185e+00]\n",
      " [-1.42145309e+00]\n",
      " [-2.79032376e+00]\n",
      " [ 3.79387745e+01]\n",
      " [ 1.46329464e+00]\n",
      " [ 2.71434618e+01]\n",
      " [ 2.35532991e+00]\n",
      " [ 7.09623108e+00]\n",
      " [ 3.80762865e+00]\n",
      " [ 6.35590743e+00]\n",
      " [-1.76868594e+00]\n",
      " [ 1.33132177e+00]\n",
      " [ 1.82192594e+00]\n",
      " [ 8.97544307e-01]\n",
      " [ 4.38272741e+00]\n",
      " [-8.54728551e-01]\n",
      " [-6.60881164e+00]\n",
      " [ 2.15292992e+00]\n",
      " [ 1.68830723e+01]\n",
      " [ 1.46329464e+00]\n",
      " [ 4.34632395e+00]\n",
      " [-7.98856154e+00]\n",
      " [-5.61596585e+00]\n",
      " [ 1.33815369e+01]\n",
      " [-5.37582730e-01]\n",
      " [ 1.42374863e+01]\n",
      " [ 1.07051578e+01]\n",
      " [ 1.66156991e+00]\n",
      " [ 1.42354163e+01]\n",
      " [ 5.22310539e+01]\n",
      " [ 5.51345566e+00]\n",
      " [ 2.52993983e-01]\n",
      " [-3.05016626e+00]\n",
      " [-3.05016626e+00]\n",
      " [-5.81744612e+00]\n",
      " [ 6.52549163e+00]\n",
      " [ 7.27558905e+00]\n",
      " [-5.83974922e+00]\n",
      " [ 5.45576133e+00]\n",
      " [ 4.69534065e+00]\n",
      " [-1.81930036e+00]\n",
      " [ 1.07051578e+01]\n",
      " [ 5.59489198e+01]\n",
      " [-2.60621351e+00]\n",
      " [ 5.16591111e+00]\n",
      " [ 4.66097002e-02]\n",
      " [-2.54024310e+00]\n",
      " [ 4.64570853e+00]\n",
      " [-3.84475375e+00]\n",
      " [ 1.21994877e+01]\n",
      " [ 1.04862863e+01]\n",
      " [-4.01246785e+00]\n",
      " [ 1.69479136e-01]\n",
      " [ 1.16649779e+01]\n",
      " [ 6.48504270e-01]\n",
      " [ 6.65576957e+00]\n",
      " [-1.04222370e+00]\n",
      " [ 2.35532991e+00]\n",
      " [-4.01246785e+00]\n",
      " [ 3.90972046e+00]\n",
      " [ 2.73343010e+00]\n",
      " [ 8.83152309e-03]\n",
      " [ 2.73940873e+00]\n",
      " [ 8.83152309e-03]\n",
      " [ 3.05189656e+01]\n",
      " [-6.60881164e+00]\n",
      " [ 1.42354163e+01]\n",
      " [-1.81930036e+00]\n",
      " [ 5.00029895e+00]\n",
      " [ 2.04345363e+01]\n",
      " [ 3.93876839e-01]\n",
      " [ 1.53482820e+00]\n",
      " [-2.49086863e+00]\n",
      " [-5.61596585e+00]\n",
      " [ 4.44988271e+01]\n",
      " [ 2.73343010e+00]\n",
      " [-1.63929433e+00]\n",
      " [ 1.01118809e+01]\n",
      " [-9.21867775e-01]\n",
      " [ 3.19110642e+01]\n",
      " [-7.78376386e+00]\n",
      " [-1.42145309e+00]\n",
      " [ 9.00082109e+00]\n",
      " [ 3.71422436e-01]\n",
      " [ 4.66097002e-02]\n",
      " [ 2.72282407e+01]\n",
      " [-2.60621351e+00]\n",
      " [ 3.59328654e+00]\n",
      " [ 3.05189656e+01]\n",
      " [-2.84471185e+00]\n",
      " [-3.41173347e+00]\n",
      " [-4.46178029e+00]\n",
      " [-6.46760916e-02]\n",
      " [-1.37228412e+00]\n",
      " [ 1.69671265e+00]\n",
      " [ 6.52549163e+00]\n",
      " [ 9.19248696e+00]\n",
      " [ 9.00082109e+00]\n",
      " [ 5.17068116e+01]\n",
      " [-1.63929433e+00]\n",
      " [ 4.69534065e+00]\n",
      " [ 2.64690247e+01]\n",
      " [ 3.90972046e+00]\n",
      " [ 3.38441356e+01]\n",
      " [ 1.32783848e+01]\n",
      " [-6.46760916e-02]\n",
      " [ 1.41625697e+01]\n",
      " [-5.81744612e+00]\n",
      " [ 1.21490836e+00]\n",
      " [ 1.20583210e+01]\n",
      " [-3.31081801e+00]\n",
      " [ 5.17068116e+01]\n",
      " [ 4.44988271e+01]\n",
      " [-1.42145309e+00]\n",
      " [ 1.07051578e+01]\n",
      " [ 7.21741799e+00]\n",
      " [ 9.43092452e+00]\n",
      " [ 5.25364644e+00]\n",
      " [ 3.46820841e+00]\n",
      " [ 1.67841283e+01]\n",
      " [ 2.20985842e+01]\n",
      " [ 5.00029895e+00]\n",
      " [ 2.44559824e+00]\n",
      " [ 1.42354163e+01]\n",
      " [-6.01944822e+00]\n",
      " [-7.75169739e+00]\n",
      " [-1.72698980e+00]\n",
      " [ 2.02494820e+01]\n",
      " [ 4.23312473e+01]\n",
      " [ 2.72282407e+01]\n",
      " [ 2.73343010e+00]\n",
      " [ 4.64570853e+00]\n",
      " [ 1.39887961e+00]\n",
      " [ 1.21490836e+00]\n",
      " [ 1.21490836e+00]\n",
      " [ 6.35590743e+00]\n",
      " [ 2.71434618e+01]\n",
      " [-6.46760916e-02]\n",
      " [-3.84475375e+00]\n",
      " [-8.54728551e-01]\n",
      " [ 1.67841283e+01]\n",
      " [ 1.69479136e-01]\n",
      " [ 2.31916651e-01]\n",
      " [ 7.20987461e+00]\n",
      " [-6.60881164e+00]\n",
      " [ 1.16233126e+01]\n",
      " [ 1.30168238e+01]\n",
      " [ 1.63881152e+01]\n",
      " [ 2.00028836e+01]\n",
      " [ 6.65576957e+00]\n",
      " [ 1.66156991e+00]\n",
      " [ 6.48504270e-01]\n",
      " [ 2.18511848e+00]\n",
      " [-1.44501388e+00]\n",
      " [ 5.25364644e+00]\n",
      " [-4.01246785e+00]\n",
      " [ 1.33874885e+00]\n",
      " [ 3.78395972e+01]\n",
      " [ 4.38272741e+00]]\n"
     ]
    }
   ],
   "source": [
    "print(knn_3_reg_pred_train)"
   ]
  },
  {
   "cell_type": "code",
   "execution_count": 186,
   "id": "34e5db8f-b959-496f-a536-5ee155eced1d",
   "metadata": {},
   "outputs": [
    {
     "data": {
      "text/plain": [
       "[<matplotlib.lines.Line2D at 0x23ed936f0a0>]"
      ]
     },
     "execution_count": 186,
     "metadata": {},
     "output_type": "execute_result"
    },
    {
     "data": {
      "image/png": "[encoded data removed]",
      "text/plain": [
       "<Figure size 432x288 with 1 Axes>"
      ]
     },
     "metadata": {
      "needs_background": "light"
     },
     "output_type": "display_data"
    }
   ],
   "source": [
    "plt.scatter(X_test, y_test, color=\"blue\")\n",
    "plt.plot(X_test, knn_3_reg_pred_test, color=\"red\", linewidth=3)"
   ]
  },
  {
   "cell_type": "code",
   "execution_count": 187,
   "id": "afa49f36-af3e-4665-b3d1-678612e39356",
   "metadata": {},
   "outputs": [
    {
     "data": {
      "text/plain": [
       "[<matplotlib.lines.Line2D at 0x23edbc75dc0>]"
      ]
     },
     "execution_count": 187,
     "metadata": {},
     "output_type": "execute_result"
    },
    {
     "data": {
      "image/png": "[encoded data removed]",
      "text/plain": [
       "<Figure size 432x288 with 1 Axes>"
      ]
     },
     "metadata": {
      "needs_background": "light"
     },
     "output_type": "display_data"
    }
   ],
   "source": [
    "plt.scatter(X_train, y_train, color=\"blue\")\n",
    "plt.plot(X_train, knn_3_reg_pred_train, color=\"red\", linewidth=3)"
   ]
  },
  {
   "cell_type": "code",
   "execution_count": 188,
   "id": "b124b38c-e2c7-446c-881f-40991e19724c",
   "metadata": {},
   "outputs": [],
   "source": [
    "knn_3_reg_mse_test = mse(y_test, knn_3_reg_pred_test)\n",
    "knn_3_reg_mse_train = mse(y_train, knn_3_reg_pred_train)"
   ]
  },
  {
   "cell_type": "code",
   "execution_count": 189,
   "id": "a34b9a61-905f-4abe-b5e9-3edb1722a493",
   "metadata": {},
   "outputs": [
    {
     "name": "stdout",
     "output_type": "stream",
     "text": [
      "72.75363561403748\n"
     ]
    }
   ],
   "source": [
    "print(knn_3_reg_mse_test)"
   ]
  },
  {
   "cell_type": "code",
   "execution_count": 190,
   "id": "72e5c942-9ec0-4872-8c4a-8da48a39a26c",
   "metadata": {},
   "outputs": [
    {
     "name": "stdout",
     "output_type": "stream",
     "text": [
      "42.81247288489973\n"
     ]
    }
   ],
   "source": [
    "print(knn_3_reg_mse_train)"
   ]
  },
  {
   "cell_type": "code",
   "execution_count": 191,
   "id": "56ce8d3a-c51f-4d8d-9232-170d71ff173c",
   "metadata": {},
   "outputs": [
    {
     "data": {
      "text/plain": [
       "KNeighborsRegressor()"
      ]
     },
     "execution_count": 191,
     "metadata": {},
     "output_type": "execute_result"
    }
   ],
   "source": [
    "knn_5_reg = sklearn.neighbors.KNeighborsRegressor(n_neighbors=5)\n",
    "knn_5_reg.fit(X_train.to_numpy().reshape(-1,1), y_train.to_numpy().reshape(-1,1))"
   ]
  },
  {
   "cell_type": "code",
   "execution_count": 192,
   "id": "f3836a32-7a93-40bd-b9d8-7462b6291a48",
   "metadata": {},
   "outputs": [],
   "source": [
    "knn_5_reg_pred_test = knn_5_reg.predict(X_test.to_numpy().reshape(-1,1))\n",
    "knn_5_reg_pred_train = knn_5_reg.predict(X_train.to_numpy().reshape(-1,1))"
   ]
  },
  {
   "cell_type": "code",
   "execution_count": 193,
   "id": "c2424fd3-7f55-4aa1-88ae-557a48c9eacb",
   "metadata": {},
   "outputs": [
    {
     "name": "stdout",
     "output_type": "stream",
     "text": [
      "[[-7.82795998e-01]\n",
      " [ 1.05299525e+00]\n",
      " [-9.95332187e-01]\n",
      " [ 1.92041258e+00]\n",
      " [-5.87644799e+00]\n",
      " [ 4.65281082e-02]\n",
      " [ 1.17434118e+01]\n",
      " [ 2.57869149e+01]\n",
      " [ 2.68584083e+00]\n",
      " [-1.00254811e+01]\n",
      " [ 2.59435667e+00]\n",
      " [ 5.17060917e+01]\n",
      " [-2.69642089e+00]\n",
      " [ 2.22442706e+00]\n",
      " [-8.74680125e-02]\n",
      " [-8.08718036e+00]\n",
      " [-3.87971781e+00]\n",
      " [ 2.96112217e+00]\n",
      " [ 1.85985703e+01]\n",
      " [-1.57280821e+00]\n",
      " [-4.87456466e-01]\n",
      " [ 4.60874284e+00]\n",
      " [ 1.05471726e+01]\n",
      " [ 9.89876386e+00]\n",
      " [ 7.58930176e+00]\n",
      " [ 1.65456343e+01]\n",
      " [-3.24755517e+00]\n",
      " [-6.76089458e-01]\n",
      " [ 3.88930855e+00]\n",
      " [ 1.91409744e+00]\n",
      " [ 3.52787439e+01]\n",
      " [-2.47785613e+00]\n",
      " [-6.17652626e-01]\n",
      " [-2.38175586e+00]\n",
      " [ 5.41101074e-01]\n",
      " [-9.87535951e-01]\n",
      " [ 2.85108943e+01]\n",
      " [-5.05251110e+00]\n",
      " [-7.61440101e-01]\n",
      " [-3.27511943e+00]\n",
      " [-6.17652626e-01]\n",
      " [ 2.12647606e+00]\n",
      " [-1.30500933e+00]\n",
      " [ 1.58684598e+01]\n",
      " [ 3.06516238e+00]\n",
      " [ 2.34778497e+00]\n",
      " [ 8.90056033e+00]\n",
      " [-2.53744342e-01]\n",
      " [ 5.59010858e+00]\n",
      " [ 5.27056790e+01]\n",
      " [ 3.44381824e+01]\n",
      " [ 8.44136339e+00]\n",
      " [-5.49894527e+00]\n",
      " [ 2.37842333e+00]\n",
      " [ 1.07912131e-01]\n",
      " [ 1.76420958e+01]\n",
      " [-7.61440101e-01]\n",
      " [ 2.26220648e+01]\n",
      " [ 2.96112217e+00]\n",
      " [ 1.63314725e-01]]\n"
     ]
    }
   ],
   "source": [
    "print(knn_5_reg_pred_test)"
   ]
  },
  {
   "cell_type": "code",
   "execution_count": 194,
   "id": "8ae2d68d-e617-4633-a621-705472e03ed7",
   "metadata": {},
   "outputs": [
    {
     "name": "stdout",
     "output_type": "stream",
     "text": [
      "[[-3.30405163e-01]\n",
      " [ 1.15341936e+01]\n",
      " [ 1.70075299e+01]\n",
      " [ 3.88930855e+00]\n",
      " [ 4.63146156e+00]\n",
      " [ 4.96757922e+01]\n",
      " [ 2.94564408e-02]\n",
      " [ 7.24978665e-01]\n",
      " [-3.71157759e+00]\n",
      " [ 1.72967253e+01]\n",
      " [ 3.06516238e+00]\n",
      " [ 1.07912131e-01]\n",
      " [ 1.05640888e+00]\n",
      " [ 1.15341936e+01]\n",
      " [ 5.41101074e-01]\n",
      " [-2.38175586e+00]\n",
      " [ 2.57869149e+01]\n",
      " [ 3.06516238e+00]\n",
      " [ 3.83081793e+00]\n",
      " [-2.92128767e-02]\n",
      " [ 1.72967253e+01]\n",
      " [-7.61440101e-01]\n",
      " [ 2.07047391e+01]\n",
      " [ 5.64904826e+00]\n",
      " [ 1.09969314e+01]\n",
      " [ 5.41101074e-01]\n",
      " [ 2.57869149e+01]\n",
      " [ 5.69657242e+00]\n",
      " [ 1.08636517e+01]\n",
      " [ 2.59435667e+00]\n",
      " [-2.53744342e-01]\n",
      " [ 4.63146156e+00]\n",
      " [ 3.06516238e+00]\n",
      " [ 1.72967253e+01]\n",
      " [ 8.84252824e+00]\n",
      " [ 2.07047391e+01]\n",
      " [ 1.96423210e+00]\n",
      " [ 5.34674014e+00]\n",
      " [ 2.20451819e+00]\n",
      " [ 1.31042969e+01]\n",
      " [ 7.79372201e+00]\n",
      " [ 2.57869149e+01]\n",
      " [ 2.22442706e+00]\n",
      " [-7.61440101e-01]\n",
      " [ 3.88930855e+00]\n",
      " [ 1.56135276e+01]\n",
      " [ 1.24913214e+01]\n",
      " [-4.87456466e-01]\n",
      " [ 2.20451819e+00]\n",
      " [ 1.92041258e+00]\n",
      " [ 3.52787439e+01]\n",
      " [ 4.96757922e+01]\n",
      " [ 1.22547309e+00]\n",
      " [-5.65280194e-02]\n",
      " [ 9.08940672e+00]\n",
      " [ 1.07289543e+00]\n",
      " [-2.94272886e+00]\n",
      " [-3.38526909e+00]\n",
      " [ 5.41101074e-01]\n",
      " [-3.27511943e+00]\n",
      " [ 1.08636517e+01]\n",
      " [ 1.05299525e+00]\n",
      " [-2.38175586e+00]\n",
      " [ 6.59551875e-01]\n",
      " [ 2.57869149e+01]\n",
      " [ 1.63314725e-01]\n",
      " [ 4.70667556e+01]\n",
      " [ 3.52787439e+01]\n",
      " [-4.87456466e-01]\n",
      " [ 1.09969314e+01]\n",
      " [-5.38103354e+00]\n",
      " [-9.87535951e-01]\n",
      " [ 1.05248621e+00]\n",
      " [-3.61621609e+00]\n",
      " [ 6.59551875e-01]\n",
      " [-5.87644799e+00]\n",
      " [ 1.44105214e+01]\n",
      " [ 1.15341936e+01]\n",
      " [ 3.89647362e+00]\n",
      " [-3.30405163e-01]\n",
      " [-1.57280821e+00]\n",
      " [-3.87841447e+00]\n",
      " [-1.31213516e+00]\n",
      " [ 1.07912131e-01]\n",
      " [ 3.52787439e+01]\n",
      " [-2.92128767e-02]\n",
      " [ 2.63223572e+01]\n",
      " [ 4.09310779e-01]\n",
      " [ 1.15341936e+01]\n",
      " [ 4.33063736e+00]\n",
      " [ 1.92041258e+00]\n",
      " [-3.87841447e+00]\n",
      " [-7.61440101e-01]\n",
      " [ 4.43604373e+00]\n",
      " [-2.69642089e+00]\n",
      " [ 1.55485149e+00]\n",
      " [-2.38175586e+00]\n",
      " [-3.87971781e+00]\n",
      " [ 2.22442706e+00]\n",
      " [ 1.44105214e+01]\n",
      " [-2.92128767e-02]\n",
      " [ 3.88930855e+00]\n",
      " [-3.61621609e+00]\n",
      " [-3.30405163e-01]\n",
      " [ 1.70075299e+01]\n",
      " [-8.09032134e-01]\n",
      " [ 1.76420958e+01]\n",
      " [ 1.09282713e+01]\n",
      " [ 2.34778497e+00]\n",
      " [ 1.56135276e+01]\n",
      " [ 5.27056790e+01]\n",
      " [ 1.19936637e+00]\n",
      " [-7.82795998e-01]\n",
      " [-3.61621609e+00]\n",
      " [-3.61621609e+00]\n",
      " [-7.67370666e+00]\n",
      " [ 1.96423210e+00]\n",
      " [ 1.17434118e+01]\n",
      " [ 1.16152960e+00]\n",
      " [ 3.83081793e+00]\n",
      " [ 4.01631901e-01]\n",
      " [ 4.01631901e-01]\n",
      " [ 1.21001415e+01]\n",
      " [ 5.27056790e+01]\n",
      " [-5.78650404e+00]\n",
      " [ 3.79603852e+00]\n",
      " [-3.38526909e+00]\n",
      " [-3.38526909e+00]\n",
      " [ 3.06516238e+00]\n",
      " [-9.87535951e-01]\n",
      " [ 1.44105214e+01]\n",
      " [ 1.08636517e+01]\n",
      " [-6.17652626e-01]\n",
      " [ 6.59551875e-01]\n",
      " [ 1.04145248e+01]\n",
      " [ 5.41101074e-01]\n",
      " [ 1.07464539e+01]\n",
      " [ 4.09310779e-01]\n",
      " [ 1.05299525e+00]\n",
      " [-6.17652626e-01]\n",
      " [ 2.20451819e+00]\n",
      " [-1.63691740e+00]\n",
      " [ 5.34674014e+00]\n",
      " [-3.71157759e+00]\n",
      " [ 5.34674014e+00]\n",
      " [ 3.37772408e+01]\n",
      " [-3.87971781e+00]\n",
      " [ 1.43927012e+01]\n",
      " [ 4.01631901e-01]\n",
      " [ 4.63146156e+00]\n",
      " [ 2.22699616e+01]\n",
      " [-2.53744342e-01]\n",
      " [-7.82795998e-01]\n",
      " [-9.07696455e-02]\n",
      " [-3.30405163e-01]\n",
      " [ 4.70667556e+01]\n",
      " [ 3.91879620e+00]\n",
      " [ 2.94564408e-02]\n",
      " [ 4.67592862e+00]\n",
      " [-3.41779681e+00]\n",
      " [ 3.16621177e+01]\n",
      " [-3.27511943e+00]\n",
      " [-1.31213516e+00]\n",
      " [ 1.24913214e+01]\n",
      " [-9.07696455e-02]\n",
      " [-3.38526909e+00]\n",
      " [ 2.22699616e+01]\n",
      " [-5.78650404e+00]\n",
      " [ 3.83023743e+00]\n",
      " [ 3.37772408e+01]\n",
      " [-3.87841447e+00]\n",
      " [-1.16768620e+00]\n",
      " [-1.57266479e+00]\n",
      " [-6.76089458e-01]\n",
      " [-3.38526909e+00]\n",
      " [ 4.36091575e+00]\n",
      " [ 1.96423210e+00]\n",
      " [ 1.04245520e+01]\n",
      " [ 1.23293507e+01]\n",
      " [ 5.17060917e+01]\n",
      " [ 1.63314725e-01]\n",
      " [ 4.01631901e-01]\n",
      " [ 2.57869149e+01]\n",
      " [ 2.20451819e+00]\n",
      " [ 3.37772408e+01]\n",
      " [ 1.22013797e+01]\n",
      " [-1.57678281e+00]\n",
      " [ 1.17850459e+01]\n",
      " [-5.78650404e+00]\n",
      " [-3.18413168e+00]\n",
      " [ 1.44105214e+01]\n",
      " [-5.87644799e+00]\n",
      " [ 5.17060917e+01]\n",
      " [ 4.64072916e+01]\n",
      " [-1.31213516e+00]\n",
      " [ 1.21001415e+01]\n",
      " [ 7.79372201e+00]\n",
      " [ 8.44136339e+00]\n",
      " [ 5.93499654e+00]\n",
      " [ 2.22442706e+00]\n",
      " [ 1.76420958e+01]\n",
      " [ 2.26220648e+01]\n",
      " [ 4.63146156e+00]\n",
      " [ 5.34674014e+00]\n",
      " [ 1.43927012e+01]\n",
      " [-2.94272886e+00]\n",
      " [-3.71157759e+00]\n",
      " [-9.95332187e-01]\n",
      " [ 2.26220648e+01]\n",
      " [ 4.11063247e+01]\n",
      " [ 2.60445988e+01]\n",
      " [-1.63691740e+00]\n",
      " [ 3.06516238e+00]\n",
      " [ 2.96112217e+00]\n",
      " [-3.18413168e+00]\n",
      " [-3.18413168e+00]\n",
      " [ 1.92041258e+00]\n",
      " [ 2.63223572e+01]\n",
      " [-6.76089458e-01]\n",
      " [-1.32590864e+00]\n",
      " [-2.38175586e+00]\n",
      " [ 1.45135972e+01]\n",
      " [ 6.59551875e-01]\n",
      " [-4.87456466e-01]\n",
      " [ 3.79603852e+00]\n",
      " [-5.54773907e+00]\n",
      " [ 7.58930176e+00]\n",
      " [ 1.17850459e+01]\n",
      " [ 1.43380457e+01]\n",
      " [ 1.65456343e+01]\n",
      " [ 9.89876386e+00]\n",
      " [-1.77510449e+00]\n",
      " [ 5.41101074e-01]\n",
      " [ 2.37842333e+00]\n",
      " [ 7.14599057e-01]\n",
      " [ 5.93499654e+00]\n",
      " [-3.41779681e+00]\n",
      " [-1.05787392e+00]\n",
      " [ 3.77085747e+01]\n",
      " [ 4.71047209e+00]]\n"
     ]
    }
   ],
   "source": [
    "print(knn_5_reg_pred_train)"
   ]
  },
  {
   "cell_type": "code",
   "execution_count": 195,
   "id": "8b039850-a903-4f58-943e-5627d03f484e",
   "metadata": {},
   "outputs": [
    {
     "data": {
      "text/plain": [
       "[<matplotlib.lines.Line2D at 0x23edbcc4e80>]"
      ]
     },
     "execution_count": 195,
     "metadata": {},
     "output_type": "execute_result"
    },
    {
     "data": {
      "image/png": "[encoded data removed]",
      "text/plain": [
       "<Figure size 432x288 with 1 Axes>"
      ]
     },
     "metadata": {
      "needs_background": "light"
     },
     "output_type": "display_data"
    }
   ],
   "source": [
    "plt.scatter(X_test, y_test, color=\"blue\")\n",
    "plt.plot(X_test, knn_5_reg_pred_test, color=\"red\", linewidth=3)"
   ]
  },
  {
   "cell_type": "code",
   "execution_count": 196,
   "id": "e71cd717-da20-4f57-8314-042355153d5b",
   "metadata": {},
   "outputs": [
    {
     "data": {
      "text/plain": [
       "[<matplotlib.lines.Line2D at 0x23edbd0a5e0>]"
      ]
     },
     "execution_count": 196,
     "metadata": {},
     "output_type": "execute_result"
    },
    {
     "data": {
      "image/png": "[encoded data removed]",
      "text/plain": [
       "<Figure size 432x288 with 1 Axes>"
      ]
     },
     "metadata": {
      "needs_background": "light"
     },
     "output_type": "display_data"
    }
   ],
   "source": [
    "plt.scatter(X_train, y_train, color=\"blue\")\n",
    "plt.plot(X_train, knn_5_reg_pred_train, color=\"red\", linewidth=3)"
   ]
  },
  {
   "cell_type": "code",
   "execution_count": 197,
   "id": "58a59dd4-5209-48f2-9737-7d5257642e5e",
   "metadata": {},
   "outputs": [],
   "source": [
    "knn_5_reg_mse_test = mse(y_test, knn_5_reg_pred_test)\n",
    "knn_5_reg_mse_train = mse(y_train, knn_5_reg_pred_train)"
   ]
  },
  {
   "cell_type": "code",
   "execution_count": 198,
   "id": "d2943e3f-ba08-467c-8eca-7f7d2bf5919a",
   "metadata": {},
   "outputs": [
    {
     "name": "stdout",
     "output_type": "stream",
     "text": [
      "72.69893450534242\n"
     ]
    }
   ],
   "source": [
    "print(knn_5_reg_mse_test)"
   ]
  },
  {
   "cell_type": "code",
   "execution_count": 199,
   "id": "7317783f-ac62-4fa8-a03d-18591029e30f",
   "metadata": {},
   "outputs": [
    {
     "name": "stdout",
     "output_type": "stream",
     "text": [
      "49.37172832813244\n"
     ]
    }
   ],
   "source": [
    "print(knn_5_reg_mse_train)"
   ]
  },
  {
   "cell_type": "code",
   "execution_count": 200,
   "id": "0ecfe6f6-00c8-4101-bb05-217bbef4a347",
   "metadata": {},
   "outputs": [
    {
     "name": "stdout",
     "output_type": "stream",
     "text": [
      "[-1.055837] [-1.055837    1.11479176]\n"
     ]
    }
   ],
   "source": [
    "from sklearn.preprocessing import PolynomialFeatures\n",
    "poly_feature_2 = PolynomialFeatures(degree=2, include_bias=False)\n",
    "X_poly_train = poly_feature_2.fit_transform(X_train.to_numpy().reshape(-1,1))\n",
    "print(X_train.to_numpy().reshape(-1,1)[0], X_poly_train[0])"
   ]
  },
  {
   "cell_type": "code",
   "execution_count": 201,
   "id": "f97b64ad-3590-4523-9c1b-1ee93e52c059",
   "metadata": {},
   "outputs": [
    {
     "data": {
      "text/plain": [
       "LinearRegression()"
      ]
     },
     "execution_count": 201,
     "metadata": {},
     "output_type": "execute_result"
    }
   ],
   "source": [
    "poly_2_reg = LinearRegression()\n",
    "poly_2_reg.fit(X_poly_train, y_train)"
   ]
  },
  {
   "cell_type": "code",
   "execution_count": 202,
   "id": "9b080c87-c611-4ba4-927b-a434e9235a75",
   "metadata": {},
   "outputs": [],
   "source": [
    "poly_2_reg_pred_test = poly_2_reg.predict(poly_feature_2.fit_transform(X_test.to_numpy().reshape(-1,1)))\n",
    "poly_2_reg_pred_train = poly_2_reg.predict(poly_feature_2.fit_transform(X_train.to_numpy().reshape(-1,1)))"
   ]
  },
  {
   "cell_type": "code",
   "execution_count": 203,
   "id": "9a4ab60d-e595-4ba7-b227-0efd6b6eb279",
   "metadata": {},
   "outputs": [
    {
     "name": "stdout",
     "output_type": "stream",
     "text": [
      "[-5.29928881  0.04467721  4.4823894   6.62440313 -4.54045156  5.52314181\n",
      " 13.76354654 23.18690365 -5.31240594 -5.07415731  0.14449813 35.02396126\n",
      " -5.18995934 -5.25143976 -1.66892859 -5.05069949  3.977363    2.64755502\n",
      " 22.8105445  -1.22179265  1.74030642 -4.61218293  8.30174315 16.52597525\n",
      "  8.10785998 21.55184938 -4.72211103 -2.16585333 10.3172856  -5.28164606\n",
      " 26.76908663 -2.83882539  2.01727482 -5.18080282 -5.33165803 -3.78403999\n",
      " 23.72132602  3.34122117 -4.87231181 -5.14797081  2.02669807 12.02272119\n",
      " -5.18721434 17.30438014 -0.12543259 -3.42979938 13.52820321  5.6031509\n",
      " -0.86956088 38.82400498 25.98924004 11.2424435  -5.10650533 -2.37465008\n",
      "  0.50213042 15.71670549 -4.86423099 20.40220094  2.83038246  3.56569462]\n"
     ]
    }
   ],
   "source": [
    "print(poly_2_reg_pred_test)"
   ]
  },
  {
   "cell_type": "code",
   "execution_count": 204,
   "id": "4fffd258-f2b6-4ad9-b0a7-9e3bb299bd1e",
   "metadata": {},
   "outputs": [
    {
     "name": "stdout",
     "output_type": "stream",
     "text": [
      "[-1.53438904e+00  1.27520022e+01  2.21533901e+01  1.04930663e+01\n",
      "  2.24307464e+00  3.33995158e+01  4.34620347e+00  1.12207889e+01\n",
      " -5.01191502e+00  1.89835409e+01 -1.55370528e-01  7.33959993e-01\n",
      " -2.02318005e+00  1.26156100e+01 -5.33165689e+00 -5.15805358e+00\n",
      "  2.33252694e+01 -6.24623771e-01  6.94396269e-01  4.80496750e+00\n",
      "  1.90106894e+01 -4.92824263e+00  2.02409727e+01  1.34124367e+01\n",
      "  1.52437397e+01 -5.32753871e+00  2.35901317e+01  6.90879481e+00\n",
      "  1.51780362e+01  4.53959877e-01  5.37802687e+00  2.12323394e+00\n",
      " -6.63694173e-01  1.90928090e+01  9.52492734e+00  2.00440307e+01\n",
      "  1.18442645e+01 -4.95649130e+00 -3.14616287e+00  1.92573223e+01\n",
      "  7.41704749e+00  2.31358350e+01 -5.25974816e+00 -4.91667026e+00\n",
      "  1.02891173e+01  2.27945468e+01  1.98791843e+01  1.44622889e+00\n",
      " -3.12007357e+00  6.63011336e+00  2.78759976e+01  3.33106007e+01\n",
      " -3.30373128e+00 -1.56300229e+00  8.54630767e+00 -5.31259161e+00\n",
      " -5.22745199e+00 -6.42825892e-01 -5.33177503e+00 -5.12172540e+00\n",
      "  1.50522560e+01  8.23783934e-02 -5.15358940e+00 -1.85646491e+00\n",
      "  2.34989156e+01  3.55124204e+00  3.20396805e+01  2.79085546e+01\n",
      "  1.70006690e+00  1.52547313e+01 -3.54476438e+00 -3.78907674e+00\n",
      "  1.29871427e+01 -4.35987385e+00 -1.97670105e+00 -4.47703987e+00\n",
      "  1.80445723e+01  1.24138273e+01  7.04644793e+00 -1.32208776e+00\n",
      " -1.29592770e+00  2.58605639e+00  1.23722831e+01  4.44801879e-01\n",
      "  2.75111303e+01  4.86251717e+00  2.43640487e+01  1.55495532e-01\n",
      "  1.23513917e+01  1.07321047e+01  6.58682167e+00  2.50302810e+00\n",
      " -4.82491519e+00 -4.73222059e+00 -5.18514443e+00 -2.70376794e+00\n",
      " -5.17517665e+00  4.05513529e+00 -5.22232908e+00  1.89426853e+01\n",
      "  4.86091232e+00  1.03939780e+01 -4.28258542e+00 -1.46044893e+00\n",
      "  2.23937660e+01 -2.94168408e+00  1.52458466e+01  1.48040989e+01\n",
      " -3.38038585e+00  2.21013625e+01  3.53815668e+01 -2.14543123e+00\n",
      " -5.26501530e+00 -4.35564659e+00 -4.37857769e+00 -3.86607136e+00\n",
      "  1.17484850e+01  1.37753392e+01 -5.09853021e+00  7.46897922e-01\n",
      "  5.72411209e+00  5.97728312e+00  1.44048351e+01  3.72238350e+01\n",
      " -3.96999159e+00  9.99312973e+00 -4.93104245e-01 -6.48238877e-01\n",
      " -4.63581861e-01 -3.75079332e+00  1.84319513e+01  1.49000463e+01\n",
      "  1.96815635e+00 -1.86112375e+00  1.18799223e+01 -5.32835662e+00\n",
      "  1.68325936e+01  3.75191589e-01  3.31526042e-02  2.09327211e+00\n",
      " -3.05647769e+00 -4.23438164e+00 -4.93742073e+00 -4.96520459e+00\n",
      " -4.91905254e+00  2.82168195e+01  3.91205846e+00  2.15173562e+01\n",
      "  5.89258547e+00  1.77430943e+00  2.35812858e+01  5.42731093e+00\n",
      " -5.28640807e+00  1.06191125e+01 -1.57076310e+00  3.20890294e+01\n",
      " -4.31857865e+00  3.88947863e+00 -5.00149012e+00  2.25941112e+00\n",
      "  2.93484834e+01 -5.13663618e+00  1.25547912e+01  2.01003907e+01\n",
      "  1.04133403e+01 -5.51714187e-01  2.44446709e+01 -4.05375260e+00\n",
      "  4.89244572e+00  2.84946787e+01  2.78718784e+00 -5.14155756e+00\n",
      " -2.73153355e+00 -2.25948797e+00 -5.90457983e-01 -5.05534075e+00\n",
      "  1.16254041e+01  1.39264262e+01  2.03422926e+01  3.39981961e+01\n",
      "  3.45567009e+00  5.72775139e+00  2.35556204e+01 -3.08296122e+00\n",
      "  2.81420270e+01  1.77361487e+01 -2.43166851e+00  1.56962192e+01\n",
      " -3.93879240e+00 -3.16975134e+00  1.85532515e+01 -4.48268716e+00\n",
      "  3.41414734e+01  3.18327315e+01  1.26035026e+01  1.45324450e+01\n",
      "  8.06364523e+00  1.12156371e+01  9.67701121e+00 -5.26229725e+00\n",
      "  1.55744272e+01  2.08808552e+01  1.76115417e+00 -4.96385941e+00\n",
      "  2.18964103e+01 -5.22376015e+00 -5.02677104e+00  4.47411939e+00\n",
      "  2.02969109e+01  3.06616500e+01  2.48275130e+01 -4.23964154e+00\n",
      " -4.76377780e-01  2.77739602e+00 -3.27103035e+00 -3.34533596e+00\n",
      "  6.51938626e+00  2.42880699e+01 -2.16090065e+00 -3.91584592e+00\n",
      " -5.18231256e+00  1.59628537e+01 -1.87484245e+00  1.47320047e+00\n",
      "  9.85714806e+00  3.67428572e+00  8.25563642e+00  1.54657183e+01\n",
      "  1.69749766e+01  2.14416070e+01  1.63233752e+01 -3.52285213e+00\n",
      " -5.32388649e+00 -2.31740508e+00  6.78947399e+00  9.79831239e+00\n",
      "  2.09857406e+00 -2.07809674e-01  3.01858750e+01 -2.76845984e+00]\n"
     ]
    }
   ],
   "source": [
    "print(poly_2_reg_pred_train)"
   ]
  },
  {
   "cell_type": "code",
   "execution_count": 205,
   "id": "8e662e21-39b6-46e0-b0d9-d300bedb8dc1",
   "metadata": {},
   "outputs": [
    {
     "data": {
      "text/plain": [
       "[<matplotlib.lines.Line2D at 0x23edbd4b940>]"
      ]
     },
     "execution_count": 205,
     "metadata": {},
     "output_type": "execute_result"
    },
    {
     "data": {
      "image/png": "[encoded data removed]",
      "text/plain": [
       "<Figure size 432x288 with 1 Axes>"
      ]
     },
     "metadata": {
      "needs_background": "light"
     },
     "output_type": "display_data"
    }
   ],
   "source": [
    "plt.scatter(X_test, y_test, color=\"blue\")\n",
    "plt.plot(X_test, poly_2_reg_pred_test, color=\"red\", linewidth=3)"
   ]
  },
  {
   "cell_type": "code",
   "execution_count": 206,
   "id": "e6610ea7-0beb-48eb-a125-67314c544215",
   "metadata": {},
   "outputs": [
    {
     "data": {
      "text/plain": [
       "[<matplotlib.lines.Line2D at 0x23edbd902b0>]"
      ]
     },
     "execution_count": 206,
     "metadata": {},
     "output_type": "execute_result"
    },
    {
     "data": {
      "image/png": "[encoded data removed]",
      "text/plain": [
       "<Figure size 432x288 with 1 Axes>"
      ]
     },
     "metadata": {
      "needs_background": "light"
     },
     "output_type": "display_data"
    }
   ],
   "source": [
    "plt.scatter(X_train, y_train, color=\"blue\")\n",
    "plt.plot(X_train, poly_2_reg_pred_train, color=\"red\", linewidth=3)"
   ]
  },
  {
   "cell_type": "code",
   "execution_count": 207,
   "id": "28f8111d-45ac-4ba9-811d-51134a95dee1",
   "metadata": {},
   "outputs": [],
   "source": [
    "poly_2_reg_mse_test = mse(y_test, poly_2_reg_pred_test)\n",
    "poly_2_reg_mse_train = mse(y_train, poly_2_reg_pred_train)"
   ]
  },
  {
   "cell_type": "code",
   "execution_count": 208,
   "id": "1a1147f9-0473-48b6-a6d6-39e63ab06c17",
   "metadata": {},
   "outputs": [
    {
     "name": "stdout",
     "output_type": "stream",
     "text": [
      "117.16848642789114\n"
     ]
    }
   ],
   "source": [
    "print(poly_2_reg_mse_test)"
   ]
  },
  {
   "cell_type": "code",
   "execution_count": 209,
   "id": "5e40ef58-0ba4-4f9b-b459-510c74d3408d",
   "metadata": {},
   "outputs": [
    {
     "name": "stdout",
     "output_type": "stream",
     "text": [
      "85.76193834244896\n"
     ]
    }
   ],
   "source": [
    "print(poly_2_reg_mse_train)"
   ]
  },
  {
   "cell_type": "markdown",
   "id": "4353ca00-56db-464b-b698-24fc7a8efe31",
   "metadata": {},
   "source": [
    "Polynomial 3:"
   ]
  },
  {
   "cell_type": "code",
   "execution_count": 210,
   "id": "cf88874b-b5f2-41fe-b625-eb2932457c46",
   "metadata": {},
   "outputs": [
    {
     "name": "stdout",
     "output_type": "stream",
     "text": [
      "[-1.055837] [-1.055837    1.11479176 -1.17703839]\n"
     ]
    }
   ],
   "source": [
    "poly_feature_3 = PolynomialFeatures(degree=3, include_bias=False)\n",
    "X_poly_train = poly_feature_3.fit_transform(X_train.to_numpy().reshape(-1,1))\n",
    "print(X_train.to_numpy().reshape(-1,1)[0], X_poly_train[0])"
   ]
  },
  {
   "cell_type": "code",
   "execution_count": 211,
   "id": "26bc23bc-4d31-44ea-95be-9b7192a5b3a3",
   "metadata": {},
   "outputs": [
    {
     "data": {
      "text/plain": [
       "LinearRegression()"
      ]
     },
     "execution_count": 211,
     "metadata": {},
     "output_type": "execute_result"
    }
   ],
   "source": [
    "poly_3_reg = LinearRegression()\n",
    "poly_3_reg.fit(X_poly_train, y_train)"
   ]
  },
  {
   "cell_type": "code",
   "execution_count": 212,
   "id": "b5089ab2-d2ca-4e09-8e83-f1be5b62ad20",
   "metadata": {},
   "outputs": [],
   "source": [
    "poly_3_reg_pred_test = poly_3_reg.predict(poly_feature_3.fit_transform(X_test.to_numpy().reshape(-1,1)))\n",
    "poly_3_reg_pred_train = poly_3_reg.predict(poly_feature_3.fit_transform(X_train.to_numpy().reshape(-1,1)))"
   ]
  },
  {
   "cell_type": "code",
   "execution_count": 213,
   "id": "380f113e-06cf-438f-921f-cabc48edac29",
   "metadata": {},
   "outputs": [
    {
     "name": "stdout",
     "output_type": "stream",
     "text": [
      "[-4.64795214 -3.72841097  0.1785017   9.65888993 -5.5930353   8.93935608\n",
      " 13.32736414 16.15778731 -3.90540048 -5.21330887  4.57955974 43.66990084\n",
      " -3.24510635 -3.51459392 -4.84711405 -5.24449169 -0.32085898  6.80891959\n",
      " 16.08080662 -4.5848358  -2.37623634 -1.69520658  4.29875013 14.75740688\n",
      "  4.07644826 15.80313461 -5.5176191  -5.10846065 11.75215379 -3.67989171\n",
      " 29.99641005 -5.40101592 -2.13698817 -5.03199796 -4.27939789 -0.19241712\n",
      " 16.26240235 -0.93242011 -5.42182019 -5.09638666 -2.12876624  8.79740347\n",
      " -5.01822924 14.62380915  4.3122232   0.35465524 13.23013556  1.32743332\n",
      "  3.54168167 50.3240741  28.76441029 12.20805755 -5.16599865  1.79613839\n",
      " -3.38427418 14.08004546 -5.42797275 15.52165537  6.95658728  7.53257874]\n"
     ]
    }
   ],
   "source": [
    "print(poly_3_reg_pred_test)"
   ]
  },
  {
   "cell_type": "code",
   "execution_count": 214,
   "id": "e60cc7f4-2df7-4a02-9fb6-6363333d9236",
   "metadata": {},
   "outputs": [
    {
     "name": "stdout",
     "output_type": "stream",
     "text": [
      "[ 2.80569304 12.89909651 15.93975382 11.84074007  6.47558468 40.89197132\n",
      "  8.11446912  7.79258893 -5.29119102 15.13634864  4.28219386 -3.20370757\n",
      "  2.23058885 12.83925756 -4.22169977 -5.07760882 16.18539938  3.80106462\n",
      "  5.10615095  0.50357501 15.14412536 -5.3754291  15.48000416 10.58093651\n",
      " 13.00843719 -4.09281032 16.23722775  9.83703216 12.91988709  4.87877237\n",
      "  1.0923282   6.37501391  3.76008412 15.16755154  5.73014804 15.42839026\n",
      "  8.57221934 -2.50624945  0.7663     18.60938027 10.14791355 16.14750274\n",
      " -3.55691555 -5.38560577 11.73787105 23.83452168 19.50926427 -2.6250179\n",
      "  0.80314802  9.66249694 31.76365402 40.74110532  0.5402108  -4.78715596\n",
      "  4.58098652 -4.561256   -4.92008677 -4.21238478 -4.26399242 -5.14174516\n",
      " 12.75066643 -3.70068439 -5.08602334  2.43031921 16.21953049  7.52152476\n",
      " 38.59836207 31.81595822 -2.41060175 13.0232612  -5.60695677 -0.20050353\n",
      " 10.02958308 -5.63704924  2.28666318 -5.61151885 16.87846688 12.7498\n",
      "  2.88286612  3.04611417 -4.62994282 -1.63140221  9.24106957 -3.4283022\n",
      " 31.17874429  0.56205719 16.38100918 -3.64657916 12.72189391 11.95971436\n",
      "  9.63511967 -1.70636228 -5.45612977 -1.95714119 -3.22629467  1.37094112\n",
      " -5.04373118 -0.2447386  -3.37911985 18.15722973  0.56042436 11.79091857\n",
      " -5.64851462  2.89003381 15.99233424 -5.43831841 13.90725508 13.74020945\n",
      "  0.42790444 22.79060498 44.28688916  2.08160646 -4.80166944 -5.63778042\n",
      " -5.63366294 -5.6531921   8.45173047 13.33219817 -2.92175755  5.15522978\n",
      "  9.07429476  9.24193691 13.58504825 47.4959724  -5.65979363  6.29078882\n",
      " -4.11062697 -4.21602374  3.96845006 -0.13927569 17.42785466 12.54641068\n",
      " -2.17975833  2.42478988 12.50767759 -4.10907438 15.18140413 -3.4814228\n",
      " -3.73686303 -2.07052797  0.89230428 -0.95874958 -2.45548698 -5.3406722\n",
      " -2.40746021 32.3121095  -0.38455316 21.91850564  9.186141    6.07730222\n",
      " 25.03067831  1.14361651 -4.7137702   7.0509184   2.76395841 38.68108244\n",
      " -1.11374287  7.77752064 -2.63006761 -1.92404716 34.14751935 -5.11656557\n",
      "  9.47404979 19.8313418   6.7997376  -4.15071321 26.35699135 -5.66165739\n",
      "  8.50485567 32.7607303  -1.44822838 -3.06607162 -5.35982659 -5.15371967\n",
      " -4.1770346  -2.78707679  8.29727854 11.25362253 20.18472564 41.91099986\n",
      "  7.44816353  9.07672303 16.23055079  0.85528981 32.19157997 14.76160834\n",
      " -5.23332018 13.62111355 -5.65829213 -5.51279619 17.60056582 -5.61001452\n",
      " 42.15570398 38.25189366  9.53638617 13.63507533 10.52998728 12.19520256\n",
      " 11.42147827 -3.57031118 14.02840106 15.6421365   6.06593216 -2.52612146\n",
      " 22.48377246 -4.93008809 -5.27396306  0.1702294  15.4945164  36.30439521\n",
      " 26.94959413 -0.96830446  3.95523885  6.91397887 -5.54192908 -5.56163494\n",
      "  9.5923313  16.3673949  -5.10602941 -0.4072723  -5.02879482 14.16824249\n",
      "  2.40849077 -2.60243164  6.12725414 -0.61471798  4.24576862 13.3083838\n",
      " 14.51582251 15.77731    14.47845457  0.21480875 -4.03382613  1.86820854\n",
      "  2.60004815 11.48510156 -2.06587852 -3.91101491 35.51961496  1.28504293]\n"
     ]
    }
   ],
   "source": [
    "print(poly_3_reg_pred_train)"
   ]
  },
  {
   "cell_type": "code",
   "execution_count": 215,
   "id": "110139d9-28e2-476e-af2a-b78cca4e6125",
   "metadata": {},
   "outputs": [
    {
     "data": {
      "text/plain": [
       "[<matplotlib.lines.Line2D at 0x23edbdef4c0>]"
      ]
     },
     "execution_count": 215,
     "metadata": {},
     "output_type": "execute_result"
    },
    {
     "data": {
      "image/png": "[encoded data removed]",
      "text/plain": [
       "<Figure size 432x288 with 1 Axes>"
      ]
     },
     "metadata": {
      "needs_background": "light"
     },
     "output_type": "display_data"
    }
   ],
   "source": [
    "plt.scatter(X_test, y_test, color=\"blue\")\n",
    "plt.plot(X_test, poly_3_reg_pred_test, color=\"red\", linewidth=3)"
   ]
  },
  {
   "cell_type": "code",
   "execution_count": 216,
   "id": "710bb53d-2eef-4bd4-bd75-adb737b8e0a3",
   "metadata": {},
   "outputs": [
    {
     "data": {
      "text/plain": [
       "[<matplotlib.lines.Line2D at 0x23edbe48d60>]"
      ]
     },
     "execution_count": 216,
     "metadata": {},
     "output_type": "execute_result"
    },
    {
     "data": {
      "image/png": "[encoded data removed]",
      "text/plain": [
       "<Figure size 432x288 with 1 Axes>"
      ]
     },
     "metadata": {
      "needs_background": "light"
     },
     "output_type": "display_data"
    }
   ],
   "source": [
    "plt.scatter(X_train, y_train, color=\"blue\")\n",
    "plt.plot(X_test, poly_3_reg_pred_test, color=\"red\", linewidth=3)"
   ]
  },
  {
   "cell_type": "code",
   "execution_count": 217,
   "id": "1560f457-a6e4-4fe6-853e-7b941b8e027f",
   "metadata": {},
   "outputs": [],
   "source": [
    "poly_3_reg_mse_test = mse(y_test, poly_3_reg_pred_test)\n",
    "poly_3_reg_mse_train = mse(y_train, poly_3_reg_pred_train)"
   ]
  },
  {
   "cell_type": "code",
   "execution_count": 218,
   "id": "b1c805cc-f09a-4666-9ba2-af0eecfa0289",
   "metadata": {},
   "outputs": [
    {
     "name": "stdout",
     "output_type": "stream",
     "text": [
      "72.41927865212122\n"
     ]
    }
   ],
   "source": [
    "print(poly_3_reg_mse_train)"
   ]
  },
  {
   "cell_type": "code",
   "execution_count": 219,
   "id": "f8b05e01-2908-4b17-83ae-f07df8c223c8",
   "metadata": {},
   "outputs": [
    {
     "name": "stdout",
     "output_type": "stream",
     "text": [
      "95.80846339266618\n"
     ]
    }
   ],
   "source": [
    "print(poly_3_reg_mse_test)"
   ]
  },
  {
   "cell_type": "markdown",
   "id": "964be727-73b3-4509-8fb9-3cd7a62ee845",
   "metadata": {},
   "source": [
    "Polynomial 4:"
   ]
  },
  {
   "cell_type": "code",
   "execution_count": 220,
   "id": "a3809727-abfe-41fe-b399-40108ea96764",
   "metadata": {},
   "outputs": [
    {
     "name": "stdout",
     "output_type": "stream",
     "text": [
      "[-1.055837] [-1.055837    1.11479176 -1.17703839  1.24276068]\n"
     ]
    }
   ],
   "source": [
    "poly_feature_4 = PolynomialFeatures(degree=4, include_bias=False)\n",
    "X_poly_train = poly_feature_4.fit_transform(X_train.to_numpy().reshape(-1,1))\n",
    "print(X_train.to_numpy().reshape(-1,1)[0], X_poly_train[0])"
   ]
  },
  {
   "cell_type": "code",
   "execution_count": 221,
   "id": "99a4da6d-ab0f-4d0d-8a37-eaef0d5694a4",
   "metadata": {},
   "outputs": [
    {
     "data": {
      "text/plain": [
       "LinearRegression()"
      ]
     },
     "execution_count": 221,
     "metadata": {},
     "output_type": "execute_result"
    }
   ],
   "source": [
    "poly_4_reg = LinearRegression()\n",
    "poly_4_reg.fit(X_poly_train, y_train)"
   ]
  },
  {
   "cell_type": "code",
   "execution_count": 222,
   "id": "9946ad65-734e-4a31-8a31-b3939fdfb474",
   "metadata": {},
   "outputs": [],
   "source": [
    "poly_4_reg_pred_test = poly_4_reg.predict(poly_feature_4.fit_transform(X_test.to_numpy().reshape(-1,1)))\n",
    "poly_4_reg_pred_train = poly_4_reg.predict(poly_feature_4.fit_transform(X_train.to_numpy().reshape(-1,1)))"
   ]
  },
  {
   "cell_type": "code",
   "execution_count": 223,
   "id": "453b642a-878a-4bf7-bb1c-0f4437b5a334",
   "metadata": {},
   "outputs": [
    {
     "name": "stdout",
     "output_type": "stream",
     "text": [
      "[-6.55390120e-01 -3.02912846e+00 -1.85230368e+00  4.65261089e+00\n",
      " -1.68209835e+00  4.02394494e+00  1.04318103e+01  2.28799217e+01\n",
      " -2.45486557e-01 -1.11678702e+00  1.83777946e+00  5.25024960e+01\n",
      "  2.71219932e-02 -7.64978464e-02 -2.91526269e+00 -1.14977652e+00\n",
      " -2.08385058e+00  2.68536102e+00  2.22739574e+01 -2.97993141e+00\n",
      " -2.81424996e+00  4.88560522e-01  6.55388439e-01  1.03626427e+01\n",
      "  4.96615182e-01  2.03138579e+01 -1.52052091e+00 -2.81154701e+00\n",
      "  7.26393401e+00 -1.44998359e-01  3.02929564e+01 -2.61202756e+00\n",
      " -2.75063205e+00 -9.45143607e-01 -4.33944048e-01  8.13044517e-01\n",
      "  2.37561424e+01 -2.34110980e+00 -1.36745380e+00 -1.00266479e+00\n",
      " -2.74833113e+00  4.33544288e+00 -9.33260784e-01  1.44492982e+01\n",
      "  1.76097799e+00  9.17655108e-01  1.01924204e+01 -1.25360283e+00\n",
      "  1.56070959e+00  6.45447108e+01  2.84764311e+01  8.04371745e+00\n",
      " -1.06892586e+00  1.18828090e+00 -3.00153416e+00  1.25509835e+01\n",
      " -1.37625961e+00  1.86127154e+01  2.75810749e+00  3.06706001e+00]\n"
     ]
    }
   ],
   "source": [
    "print(poly_4_reg_pred_test)"
   ]
  },
  {
   "cell_type": "code",
   "execution_count": 224,
   "id": "fc2bf71b-d19e-4af0-b9cd-d66d874d5e33",
   "metadata": {},
   "outputs": [
    {
     "name": "stdout",
     "output_type": "stream",
     "text": [
      "[ 1.39297669e+00  9.42701057e+00  2.12378502e+01  7.40815066e+00\n",
      "  2.53001259e+00  4.77032925e+01  3.42463373e+00  3.44160265e+00\n",
      " -1.20163921e+00  1.66302318e+01  1.75260655e+00 -2.97880977e+00\n",
      "  1.27363003e+00  9.29632852e+00 -4.02812565e-01 -9.85542297e-01\n",
      "  2.31050058e+01  1.62493423e+00  2.00211687e+00 -1.69190381e+00\n",
      "  1.66669644e+01 -1.30435369e+00  1.83809272e+01  6.01374553e+00\n",
      "  8.47363441e+00 -3.36128455e-01  2.35393260e+01  4.82588861e+00\n",
      "  8.38052482e+00  1.92890736e+00 -1.38315976e+00  2.48543851e+00\n",
      "  1.61458619e+00  1.67783596e+01  1.73299333e+00  1.81000542e+01\n",
      "  4.13179239e+00  2.70596003e-01  9.94582163e-01  1.48399581e+01\n",
      "  5.14691012e+00  2.27971600e+01 -9.36535968e-02 -1.31773524e+00\n",
      "  7.24099502e+00  2.15466890e+01  1.59450508e+01 -2.87323559e+00\n",
      "  1.00143875e+00  4.65604554e+00  3.29551815e+01  4.74466471e+01\n",
      "  9.52435850e-01 -2.93296044e+00  8.60379085e-01 -5.99325933e-01\n",
      " -8.52319001e-01 -3.02608747e+00 -4.25550251e-01 -1.04531391e+00\n",
      "  8.20328435e+00 -3.02773261e+00 -9.93178153e-01  1.31413332e+00\n",
      "  2.33892367e+01  3.06073025e+00  4.38468975e+01  3.30349719e+01\n",
      " -2.82284434e+00  8.48924600e+00 -2.31660722e+00  8.11465563e-01\n",
      "  5.48279064e+00 -1.82408174e+00  1.28491066e+00 -1.73381274e+00\n",
      "  1.27760971e+01  9.10507753e+00 -3.13659742e-01  1.44565773e+00\n",
      " -2.97100626e+00 -2.59584131e+00  4.74219824e+00 -3.00625485e+00\n",
      "  3.20667816e+01 -1.66226982e+00  2.48344725e+01 -3.02457210e+00\n",
      "  9.04640389e+00  7.60722807e+00  4.63005143e+00 -2.62044165e+00\n",
      " -1.41809243e+00  4.22603421e-01  3.40168312e-02  1.10740710e+00\n",
      " -9.55381211e-01 -2.04975842e+00 -2.32381430e-02  1.42929017e+01\n",
      " -1.66310037e+00  7.32662846e+00 -1.88027368e+00  1.41124730e+00\n",
      "  2.16136049e+01 -2.57492462e+00  1.20183884e+01  1.15312942e+01\n",
      "  9.31413126e-01  2.01521144e+01  5.35870773e+01  1.24397521e+00\n",
      " -7.62246946e-01 -1.82722066e+00 -1.81009888e+00 -2.14596213e+00\n",
      "  4.02360887e+00  1.04438956e+01  1.40181464e-01  2.01839368e+00\n",
      "  4.13370512e+00  4.27511123e+00  1.11014856e+01  5.93347921e+01\n",
      " -2.08487253e+00  2.17993175e+00 -3.03142606e+00 -3.02584467e+00\n",
      "  1.66802710e+00  8.23392518e-01  1.34221989e+01  7.99056754e+00\n",
      " -2.76248061e+00  1.31299956e+00  8.61100146e+00 -3.44336316e-01\n",
      "  1.08345793e+01 -3.01150415e+00 -3.02952330e+00 -2.73182082e+00\n",
      "  1.01802488e+00  6.56848523e-01  2.85539328e-01 -1.26034989e+00\n",
      "  2.99496755e-01  3.37946717e+01 -2.11203521e+00  1.90074879e+01\n",
      "  4.22741356e+00  2.35934847e+00  2.31766865e+01 -1.35519438e+00\n",
      " -6.99893853e-01  2.80706911e+00  1.38401583e+00  4.39842771e+01\n",
      "  6.23214483e-01  3.21162391e+00  2.33290649e-01 -2.68867913e+00\n",
      "  3.66488046e+01 -1.02140581e+00  4.95868708e+00  1.63457829e+01\n",
      "  2.59719252e+00 -3.02965188e+00  2.50231258e+01 -2.03327785e+00\n",
      "  3.69363863e+00  3.44859603e+01 -2.53343358e+00  9.11084559e-02\n",
      " -2.64876589e+00 -2.78802524e+00 -3.02825648e+00  1.84131287e-01\n",
      "  3.88573580e+00  6.67576569e+00  1.67885857e+01  4.94476637e+01\n",
      "  3.01913556e+00  4.13571299e+00  2.34824768e+01  1.01113912e+00\n",
      "  3.36096507e+01  1.49930189e+01 -2.74130974e+00  9.12462193e+00\n",
      " -2.10354315e+00 -2.48576690e+00  1.36270513e+01 -1.72929336e+00\n",
      "  4.98693465e+01  4.32728939e+01  5.01694505e+00  1.12377821e+01\n",
      "  5.57656212e+00  8.02040042e+00  6.75416870e+00 -9.91372507e-02\n",
      "  1.23885900e+01  1.93106680e+01  2.35470048e+00  2.64691572e-01\n",
      "  1.97472587e+01 -8.60285761e-01 -1.18213868e+00 -1.85628823e+00\n",
      "  1.84611575e+01  4.00889689e+01  2.58611443e+01  6.54798691e-01\n",
      "  1.66457651e+00  2.73686029e+00 -2.44297031e+00 -2.41025181e+00\n",
      "  4.58976878e+00  2.47056004e+01 -2.81275492e+00  7.70667760e-01\n",
      " -9.42366728e-01  1.28349235e+01  1.30966180e+00 -2.86819596e+00\n",
      "  2.04817006e+00 -2.21123357e+00  6.17331226e-01  8.79086643e+00\n",
      "  1.40424036e+01  2.01470486e+01  1.00550829e+01  8.91259805e-01\n",
      " -3.06835497e-01  1.20221611e+00 -4.94749808e-01  6.84887830e+00\n",
      " -2.73048679e+00 -3.03433864e+00  3.88266598e+01  1.09128162e+00]\n"
     ]
    }
   ],
   "source": [
    "print(poly_4_reg_pred_train)"
   ]
  },
  {
   "cell_type": "code",
   "execution_count": 225,
   "id": "7658b701-6d70-41a6-bc63-e1150488249b",
   "metadata": {},
   "outputs": [
    {
     "data": {
      "text/plain": [
       "[<matplotlib.lines.Line2D at 0x23edbeba0d0>]"
      ]
     },
     "execution_count": 225,
     "metadata": {},
     "output_type": "execute_result"
    },
    {
     "data": {
      "image/png": "[encoded data removed]",
      "text/plain": [
       "<Figure size 432x288 with 1 Axes>"
      ]
     },
     "metadata": {
      "needs_background": "light"
     },
     "output_type": "display_data"
    }
   ],
   "source": [
    "plt.scatter(X_test, y_test, color=\"blue\")\n",
    "plt.plot(X_test, poly_4_reg_pred_test, color=\"red\", linewidth=3)"
   ]
  },
  {
   "cell_type": "code",
   "execution_count": 226,
   "id": "86226c9d-ffa9-443b-8944-c9c252ae8a82",
   "metadata": {},
   "outputs": [
    {
     "data": {
      "text/plain": [
       "[<matplotlib.lines.Line2D at 0x23edbf0f220>]"
      ]
     },
     "execution_count": 226,
     "metadata": {},
     "output_type": "execute_result"
    },
    {
     "data": {
      "image/png": "[encoded data removed]",
      "text/plain": [
       "<Figure size 432x288 with 1 Axes>"
      ]
     },
     "metadata": {
      "needs_background": "light"
     },
     "output_type": "display_data"
    }
   ],
   "source": [
    "plt.scatter(X_train, y_train, color=\"blue\")\n",
    "plt.plot(X_train, poly_4_reg_pred_train, color=\"red\", linewidth=3)"
   ]
  },
  {
   "cell_type": "code",
   "execution_count": 227,
   "id": "e9394d68-138f-4c09-962a-0fe8c94af609",
   "metadata": {},
   "outputs": [],
   "source": [
    "poly_4_reg_mse_test = mse(y_test, poly_4_reg_pred_test)\n",
    "poly_4_reg_mse_train = mse(y_train, poly_4_reg_pred_train)"
   ]
  },
  {
   "cell_type": "code",
   "execution_count": 228,
   "id": "bb43c385-f7d1-4102-b85d-6f6fd10c3054",
   "metadata": {},
   "outputs": [
    {
     "name": "stdout",
     "output_type": "stream",
     "text": [
      "71.14435580942612\n"
     ]
    }
   ],
   "source": [
    "print(poly_4_reg_mse_test)"
   ]
  },
  {
   "cell_type": "code",
   "execution_count": 229,
   "id": "08eee079-773f-4fd0-853c-45c60cda50f8",
   "metadata": {},
   "outputs": [
    {
     "name": "stdout",
     "output_type": "stream",
     "text": [
      "58.96290047347008\n"
     ]
    }
   ],
   "source": [
    "print(poly_4_reg_mse_train)"
   ]
  },
  {
   "cell_type": "markdown",
   "id": "3e8f0157-3415-4be2-8fbf-daf6ff00b905",
   "metadata": {},
   "source": [
    "Polynomial 5:"
   ]
  },
  {
   "cell_type": "code",
   "execution_count": 230,
   "id": "e84d5d0d-9a4b-445d-b7a2-515af71f4ec7",
   "metadata": {},
   "outputs": [
    {
     "name": "stdout",
     "output_type": "stream",
     "text": [
      "[-1.055837] [-1.055837    1.11479176 -1.17703839  1.24276068 -1.3121527 ]\n"
     ]
    }
   ],
   "source": [
    "poly_feature_5 = PolynomialFeatures(degree=5, include_bias=False)\n",
    "X_poly_train = poly_feature_5.fit_transform(X_train.to_numpy().reshape(-1,1))\n",
    "print(X_train.to_numpy().reshape(-1,1)[0], X_poly_train[0])"
   ]
  },
  {
   "cell_type": "code",
   "execution_count": 231,
   "id": "d3629e02-178f-49ce-b2b5-a651a35bbe2d",
   "metadata": {},
   "outputs": [
    {
     "data": {
      "text/plain": [
       "LinearRegression()"
      ]
     },
     "execution_count": 231,
     "metadata": {},
     "output_type": "execute_result"
    }
   ],
   "source": [
    "poly_5_reg = LinearRegression()\n",
    "poly_5_reg.fit(X_poly_train, y_train)"
   ]
  },
  {
   "cell_type": "code",
   "execution_count": 232,
   "id": "f304c570-8f30-4ee9-b2ff-7a80c45f3ef8",
   "metadata": {},
   "outputs": [],
   "source": [
    "poly_5_reg_pred_test = poly_5_reg.predict(poly_feature_5.fit_transform(X_test.to_numpy().reshape(-1,1)))\n",
    "poly_5_reg_pred_train = poly_5_reg.predict(poly_feature_5.fit_transform(X_train.to_numpy().reshape(-1,1)))"
   ]
  },
  {
   "cell_type": "code",
   "execution_count": 233,
   "id": "a6a3a99c-85ab-4ac7-b09e-acfab473a979",
   "metadata": {},
   "outputs": [
    {
     "name": "stdout",
     "output_type": "stream",
     "text": [
      "[-6.69096037e-01 -2.97628507e+00 -1.82006884e+00  4.69671875e+00\n",
      " -1.66269341e+00  4.05841739e+00  1.04959180e+01  2.28055087e+01\n",
      " -2.73119284e-01 -1.11510397e+00  1.81424248e+00  5.26072981e+01\n",
      " -9.47001020e-03 -1.09748851e-01 -2.86393443e+00 -1.14702030e+00\n",
      " -2.04818016e+00  2.68990130e+00  2.22095096e+01 -2.92741634e+00\n",
      " -2.76621151e+00  4.39442289e-01  6.57851546e-01  1.03090975e+01\n",
      "  5.00665620e-01  2.02798507e+01 -1.50602678e+00 -2.76235038e+00\n",
      "  7.32896698e+00 -1.75991737e-01  3.02585740e+01 -2.56736206e+00\n",
      " -2.70381261e+00 -9.49109854e-01 -4.55186796e-01  7.60409187e-01\n",
      "  2.36668834e+01 -2.30139994e+00 -1.35773043e+00 -1.00472615e+00\n",
      " -2.70155498e+00  4.30854015e+00 -9.37621914e-01  1.44869315e+01\n",
      "  1.73453756e+00  8.65492826e-01  1.02573226e+01 -1.22956476e+00\n",
      "  1.52660648e+00  6.47612151e+01  2.84353460e+01  8.11066157e+00\n",
      " -1.06880726e+00  1.14128200e+00 -2.94947901e+00  1.26039628e+01\n",
      " -1.36625879e+00  1.86027218e+01  2.76468794e+00  3.08171153e+00]\n"
     ]
    }
   ],
   "source": [
    "print(poly_5_reg_pred_test)"
   ]
  },
  {
   "cell_type": "code",
   "execution_count": 234,
   "id": "13b7f43a-687c-44cb-ad34-003e4f3e1146",
   "metadata": {},
   "outputs": [
    {
     "name": "stdout",
     "output_type": "stream",
     "text": [
      "[ 1.35262983e+00  9.49373899e+00  2.11898449e+01  7.47366046e+00\n",
      "  2.53000662e+00  4.77700537e+01  3.44753180e+00  3.42069768e+00\n",
      " -1.19720472e+00  1.66450602e+01  1.72584752e+00 -2.92730919e+00\n",
      "  1.22920806e+00  9.36325443e+00 -4.25115072e-01 -9.88169518e-01\n",
      "  2.30268276e+01  1.59328830e+00  1.98463328e+00 -1.66195467e+00\n",
      "  1.66813665e+01 -1.29662874e+00  1.83740188e+01  5.97718225e+00\n",
      "  8.42617787e+00 -3.60696921e-01  2.34537875e+01  4.87226645e+00\n",
      "  8.33341687e+00  1.90875772e+00 -1.35742151e+00  2.48407911e+00\n",
      "  1.58254356e+00  1.67914605e+01  1.72547817e+00  1.80968215e+01\n",
      "  4.10620078e+00  2.26735305e-01  9.43335071e-01  1.47786374e+01\n",
      "  5.19710029e+00  2.27241227e+01 -1.26342296e-01 -1.30958499e+00\n",
      "  7.30594673e+00  2.14881181e+01  1.58830849e+01 -2.82402130e+00\n",
      "  9.50296160e-01  4.70019991e+00  3.29320702e+01  4.75114864e+01\n",
      "  9.00628240e-01 -2.88129237e+00  8.60839712e-01 -6.14936540e-01\n",
      " -8.59381579e-01 -2.97291775e+00 -4.47078815e-01 -1.04597031e+00\n",
      "  8.15685315e+00 -2.97493798e+00 -9.95552901e-01  1.27104297e+00\n",
      "  2.33062559e+01  3.07522562e+00  4.38860345e+01  3.30122240e+01\n",
      " -2.77463761e+00  8.44173147e+00 -2.27933504e+00  7.58829835e-01\n",
      "  5.44907191e+00 -1.80047444e+00  1.24085337e+00 -1.71286461e+00\n",
      "  1.27172818e+01  9.17222930e+00 -3.00971209e-01  1.40722784e+00\n",
      " -2.91864428e+00 -2.55183448e+00  4.71277036e+00 -2.95407813e+00\n",
      "  3.20397228e+01 -1.63273526e+00  2.47262641e+01 -2.97188056e+00\n",
      "  9.11360963e+00  7.67330171e+00  4.67385226e+00 -2.57599992e+00\n",
      " -1.40677848e+00  3.74900214e-01 -2.79355425e-03  1.05832718e+00\n",
      " -9.59007616e-01 -2.01460480e+00 -5.82192914e-02  1.42320762e+01\n",
      " -1.63355422e+00  7.39187589e+00 -1.85503378e+00  1.37155898e+00\n",
      "  2.15597255e+01 -2.53114783e+00  1.20748104e+01  1.15905004e+01\n",
      "  8.79379367e-01  2.00917220e+01  5.37010127e+01  1.19861957e+00\n",
      " -7.72337210e-01 -1.80352169e+00 -1.78690056e+00 -2.11325276e+00\n",
      "  3.99872678e+00  1.05079605e+01  1.00087753e-01  2.00149550e+00\n",
      "  4.17002992e+00  4.31371202e+00  1.11628441e+01  5.95002603e+01\n",
      " -2.05384272e+00  2.16864747e+00 -2.97823192e+00 -2.97267689e+00\n",
      "  1.63803394e+00  7.70764674e-01  1.33624104e+01  7.94497156e+00\n",
      " -2.71543742e+00  1.26987113e+00  8.67837533e+00 -3.68626278e-01\n",
      "  1.07797917e+01 -2.95918835e+00 -2.97666561e+00 -2.68535381e+00\n",
      "  9.67150193e-01  6.05074413e-01  2.41271081e-01 -1.25402904e+00\n",
      "  2.54853054e-01  3.37754576e+01 -2.07593450e+00  1.89460671e+01\n",
      "  4.26526023e+00  2.35403918e+00  2.31210024e+01 -1.32982629e+00\n",
      " -7.12091246e-01  2.79082334e+00  1.34334874e+00  4.40243512e+01\n",
      "  5.71844137e-01  3.22974280e+00  1.90470983e-01 -2.64300836e+00\n",
      "  3.66440179e+01 -1.02284900e+00  4.92796473e+00  1.62836971e+01\n",
      "  2.58256626e+00 -2.97646063e+00  2.49716518e+01 -2.00368458e+00\n",
      "  3.72205350e+00  3.44700755e+01 -2.49051257e+00  5.25125842e-02\n",
      " -2.60323326e+00 -2.73933754e+00 -2.97507183e+00  1.42730068e-01\n",
      "  3.86177125e+00  6.63591232e+00  1.67264363e+01  4.95277949e+01\n",
      "  3.03259554e+00  4.17207097e+00  2.33979088e+01  9.60150632e-01\n",
      "  3.35895639e+01  1.50254494e+01 -2.69365501e+00  9.07485863e+00\n",
      " -2.07199754e+00 -2.44417526e+00  1.35669908e+01 -1.70847953e+00\n",
      "  4.99527890e+01  4.33081543e+01  4.98588011e+00  1.12984898e+01\n",
      "  5.63112102e+00  8.08731030e+00  6.81703047e+00 -1.31645750e-01\n",
      "  1.24426618e+01  1.92911082e+01  2.34924213e+00  2.20993442e-01\n",
      "  1.96864535e+01 -8.67081586e-01 -1.17833393e+00 -1.82399568e+00\n",
      "  1.84531864e+01  4.01038793e+01  2.58118974e+01  6.03047161e-01\n",
      "  1.63445103e+00  2.74285058e+00 -2.40245087e+00 -2.37056175e+00\n",
      "  4.63301460e+00  2.45996950e+01 -2.76353238e+00  7.18089043e-01\n",
      " -9.46425214e-01  1.28859049e+01  1.26642151e+00 -2.81908421e+00\n",
      "  2.03797605e+00 -2.17359539e+00  6.20171871e-01  8.74225751e+00\n",
      "  1.40837056e+01  2.01154990e+01  1.00024054e+01  8.38894253e-01\n",
      " -3.32396716e-01  1.15561375e+00 -4.79996167e-01  6.91220281e+00\n",
      " -2.68404465e+00 -2.98124834e+00  3.88340590e+01  1.04183610e+00]\n"
     ]
    }
   ],
   "source": [
    "print(poly_5_reg_pred_train)"
   ]
  },
  {
   "cell_type": "code",
   "execution_count": 235,
   "id": "3d5b159b-98d4-4e66-8ab5-eca1bc6e3bce",
   "metadata": {},
   "outputs": [
    {
     "data": {
      "text/plain": [
       "[<matplotlib.lines.Line2D at 0x23edbf54880>]"
      ]
     },
     "execution_count": 235,
     "metadata": {},
     "output_type": "execute_result"
    },
    {
     "data": {
      "image/png": "[encoded data removed]",
      "text/plain": [
       "<Figure size 432x288 with 1 Axes>"
      ]
     },
     "metadata": {
      "needs_background": "light"
     },
     "output_type": "display_data"
    }
   ],
   "source": [
    "plt.scatter(X_test, y_test, color=\"blue\")\n",
    "plt.plot(X_test, poly_5_reg_pred_test, color=\"red\", linewidth=3)"
   ]
  },
  {
   "cell_type": "code",
   "execution_count": 236,
   "id": "ae2d6407-6173-493c-aac3-9e120629d9d9",
   "metadata": {},
   "outputs": [
    {
     "data": {
      "text/plain": [
       "[<matplotlib.lines.Line2D at 0x23edbf9c9a0>]"
      ]
     },
     "execution_count": 236,
     "metadata": {},
     "output_type": "execute_result"
    },
    {
     "data": {
      "image/png": "[encoded data removed]",
      "text/plain": [
       "<Figure size 432x288 with 1 Axes>"
      ]
     },
     "metadata": {
      "needs_background": "light"
     },
     "output_type": "display_data"
    }
   ],
   "source": [
    "plt.scatter(X_train, y_train, color=\"blue\")\n",
    "plt.plot(X_train, poly_4_reg_pred_train, color=\"red\", linewidth=3)"
   ]
  },
  {
   "cell_type": "code",
   "execution_count": 237,
   "id": "0abf2186-a933-48e6-aac2-251811819d85",
   "metadata": {},
   "outputs": [],
   "source": [
    "poly_5_reg_mse_test = mse(y_test, poly_5_reg_pred_test)\n",
    "poly_5_reg_mse_train = mse(y_train, poly_5_reg_pred_train)"
   ]
  },
  {
   "cell_type": "code",
   "execution_count": 238,
   "id": "5fec93d4-6ca9-4577-8c18-dd62241c3d66",
   "metadata": {},
   "outputs": [
    {
     "name": "stdout",
     "output_type": "stream",
     "text": [
      "71.15624494060187\n"
     ]
    }
   ],
   "source": [
    "print(poly_5_reg_mse_test)"
   ]
  },
  {
   "cell_type": "code",
   "execution_count": 239,
   "id": "d819a913-6cfc-464f-879e-65bd619b012f",
   "metadata": {},
   "outputs": [
    {
     "name": "stdout",
     "output_type": "stream",
     "text": [
      "58.96081239553453\n"
     ]
    }
   ],
   "source": [
    "print(poly_5_reg_mse_train)"
   ]
  },
  {
   "cell_type": "code",
   "execution_count": 240,
   "id": "c3814d36-a6e1-4dac-8479-8690c0fd2d92",
   "metadata": {},
   "outputs": [
    {
     "name": "stdout",
     "output_type": "stream",
     "text": [
      "257.90778523698407   205.4448955332616\n",
      "72.75363561403748   42.81247288489973\n",
      "72.69893450534242   49.37172832813244\n",
      "117.16848642789114   85.76193834244896\n",
      "95.80846339266618   72.41927865212122\n",
      "71.14435580942612   58.96290047347008\n",
      "71.15624494060187   58.96081239553453\n"
     ]
    }
   ],
   "source": [
    "print(lin_reg_mse_test, \" \", lin_reg_mse_train)\n",
    "print(knn_3_reg_mse_test, \" \", knn_3_reg_mse_train)\n",
    "print(knn_5_reg_mse_test, \" \", knn_5_reg_mse_train)\n",
    "print(poly_2_reg_mse_test, \" \", poly_2_reg_mse_train)\n",
    "print(poly_3_reg_mse_test, \" \", poly_3_reg_mse_train)\n",
    "print(poly_4_reg_mse_test, \" \", poly_4_reg_mse_train)\n",
    "print(poly_5_reg_mse_test, \" \", poly_5_reg_mse_train)"
   ]
  },
  {
   "cell_type": "code",
   "execution_count": 241,
   "id": "b37d8db7-67a5-489e-b63e-1bc9ac7a1cc1",
   "metadata": {},
   "outputs": [],
   "source": [
    "result_dict = {'train_mse':[lin_reg_mse_train, knn_3_reg_mse_train, knn_5_reg_mse_train, poly_2_reg_mse_train, poly_3_reg_mse_train,\n",
    "                           poly_4_reg_mse_train, poly_5_reg_mse_train], 'test_mse':[lin_reg_mse_test, knn_3_reg_mse_test,\n",
    "                            knn_5_reg_mse_test, poly_2_reg_mse_test, poly_3_reg_mse_test, poly_4_reg_mse_test, poly_5_reg_mse_test]}\n",
    "result_df = pd.DataFrame(data=result_dict, index=[\"lin_reg\", \"knn_3_reg\", \"knn_5_reg\", \"poly_2_reg\", \"poly_3_reg\", \"poly_4_reg\", \"poly_5_reg\"])"
   ]
  },
  {
   "cell_type": "code",
   "execution_count": 242,
   "id": "f8da9cd5-9e28-470f-bea4-b75dd4e961c7",
   "metadata": {},
   "outputs": [
    {
     "data": {
      "text/html": [
       "<div>\n",
       "<style scoped>\n",
       "    .dataframe tbody tr th:only-of-type {\n",
       "        vertical-align: middle;\n",
       "    }\n",
       "\n",
       "    .dataframe tbody tr th {\n",
       "        vertical-align: top;\n",
       "    }\n",
       "\n",
       "    .dataframe thead th {\n",
       "        text-align: right;\n",
       "    }\n",
       "</style>\n",
       "<table border=\"1\" class=\"dataframe\">\n",
       "  <thead>\n",
       "    <tr style=\"text-align: right;\">\n",
       "      <th></th>\n",
       "      <th>train_mse</th>\n",
       "      <th>test_mse</th>\n",
       "    </tr>\n",
       "  </thead>\n",
       "  <tbody>\n",
       "    <tr>\n",
       "      <th>lin_reg</th>\n",
       "      <td>205.444896</td>\n",
       "      <td>257.907785</td>\n",
       "    </tr>\n",
       "    <tr>\n",
       "      <th>knn_3_reg</th>\n",
       "      <td>42.812473</td>\n",
       "      <td>72.753636</td>\n",
       "    </tr>\n",
       "    <tr>\n",
       "      <th>knn_5_reg</th>\n",
       "      <td>49.371728</td>\n",
       "      <td>72.698935</td>\n",
       "    </tr>\n",
       "    <tr>\n",
       "      <th>poly_2_reg</th>\n",
       "      <td>85.761938</td>\n",
       "      <td>117.168486</td>\n",
       "    </tr>\n",
       "    <tr>\n",
       "      <th>poly_3_reg</th>\n",
       "      <td>72.419279</td>\n",
       "      <td>95.808463</td>\n",
       "    </tr>\n",
       "    <tr>\n",
       "      <th>poly_4_reg</th>\n",
       "      <td>58.962900</td>\n",
       "      <td>71.144356</td>\n",
       "    </tr>\n",
       "    <tr>\n",
       "      <th>poly_5_reg</th>\n",
       "      <td>58.960812</td>\n",
       "      <td>71.156245</td>\n",
       "    </tr>\n",
       "  </tbody>\n",
       "</table>\n",
       "</div>"
      ],
      "text/plain": [
       "             train_mse    test_mse\n",
       "lin_reg     205.444896  257.907785\n",
       "knn_3_reg    42.812473   72.753636\n",
       "knn_5_reg    49.371728   72.698935\n",
       "poly_2_reg   85.761938  117.168486\n",
       "poly_3_reg   72.419279   95.808463\n",
       "poly_4_reg   58.962900   71.144356\n",
       "poly_5_reg   58.960812   71.156245"
      ]
     },
     "execution_count": 242,
     "metadata": {},
     "output_type": "execute_result"
    }
   ],
   "source": [
    "result_df"
   ]
  },
  {
   "cell_type": "code",
   "execution_count": 243,
   "id": "cc593821-51e6-46c4-bf19-30c7850f02bb",
   "metadata": {},
   "outputs": [],
   "source": [
    "reg_list = [(lin_reg, None), (knn_3_reg, None), (knn_5_reg, None), (poly_2_reg, poly_feature_2), (poly_3_reg, poly_feature_3), \n",
    "           (poly_4_reg, poly_feature_4), (poly_5_reg, poly_feature_5)]"
   ]
  },
  {
   "cell_type": "code",
   "execution_count": 244,
   "id": "c6697f2a-9f2a-40c1-bc06-8ddf01c90b55",
   "metadata": {},
   "outputs": [
    {
     "data": {
      "text/plain": [
       "[(LinearRegression(), None),\n",
       " (KNeighborsRegressor(n_neighbors=3), None),\n",
       " (KNeighborsRegressor(), None),\n",
       " (LinearRegression(), PolynomialFeatures(include_bias=False)),\n",
       " (LinearRegression(), PolynomialFeatures(degree=3, include_bias=False)),\n",
       " (LinearRegression(), PolynomialFeatures(degree=4, include_bias=False)),\n",
       " (LinearRegression(), PolynomialFeatures(degree=5, include_bias=False))]"
      ]
     },
     "execution_count": 244,
     "metadata": {},
     "output_type": "execute_result"
    }
   ],
   "source": [
    "reg_list"
   ]
  },
  {
   "cell_type": "code",
   "execution_count": 246,
   "id": "34fb26b4-2aa5-4f34-bf7d-6fc6ef958574",
   "metadata": {},
   "outputs": [],
   "source": [
    "import pickle\n",
    "open_file = open(\"mse.pkl\", \"wb\")\n",
    "pickle.dump(result_df, open_file)\n",
    "open_file.close()"
   ]
  },
  {
   "cell_type": "code",
   "execution_count": 248,
   "id": "a4c7375f-cffd-46bb-8920-860ff66a9865",
   "metadata": {},
   "outputs": [
    {
     "name": "stdout",
     "output_type": "stream",
     "text": [
      "             train_mse    test_mse\n",
      "lin_reg     205.444896  257.907785\n",
      "knn_3_reg    42.812473   72.753636\n",
      "knn_5_reg    49.371728   72.698935\n",
      "poly_2_reg   85.761938  117.168486\n",
      "poly_3_reg   72.419279   95.808463\n",
      "poly_4_reg   58.962900   71.144356\n",
      "poly_5_reg   58.960812   71.156245\n"
     ]
    }
   ],
   "source": [
    "open_file = open(\"mse.pkl\", \"rb\")\n",
    "loaded_list = pickle.load(open_file)\n",
    "open_file.close()\n",
    "print(loaded_list)"
   ]
  },
  {
   "cell_type": "code",
   "execution_count": 247,
   "id": "d3f17fc9-c989-4d13-ae9f-e9b267483620",
   "metadata": {},
   "outputs": [],
   "source": [
    "open_file = open(\"reg.pkl\", \"wb\")\n",
    "pickle.dump(reg_list, open_file)\n",
    "open_file.close()"
   ]
  },
  {
   "cell_type": "code",
   "execution_count": 249,
   "id": "2d634717-133e-401a-aa5e-c6d5c6b950b2",
   "metadata": {},
   "outputs": [
    {
     "name": "stdout",
     "output_type": "stream",
     "text": [
      "[(LinearRegression(), None), (KNeighborsRegressor(n_neighbors=3), None), (KNeighborsRegressor(), None), (LinearRegression(), PolynomialFeatures(include_bias=False)), (LinearRegression(), PolynomialFeatures(degree=3, include_bias=False)), (LinearRegression(), PolynomialFeatures(degree=4, include_bias=False)), (LinearRegression(), PolynomialFeatures(degree=5, include_bias=False))]\n"
     ]
    }
   ],
   "source": [
    "open_file = open(\"reg.pkl\", \"rb\")\n",
    "loaded_list = pickle.load(open_file)\n",
    "open_file.close()\n",
    "print(loaded_list)"
   ]
  }
 ],
 "metadata": {
  "kernelspec": {
   "display_name": "Python 3",
   "language": "python",
   "name": "python3"
  },
  "language_info": {
   "codemirror_mode": {
    "name": "ipython",
    "version": 3
   },
   "file_extension": ".py",
   "mimetype": "text/x-python",
   "name": "python",
   "nbconvert_exporter": "python",
   "pygments_lexer": "ipython3",
   "version": "3.8.8"
  }
 },
 "nbformat": 4,
 "nbformat_minor": 5
}
