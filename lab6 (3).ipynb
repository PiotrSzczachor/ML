{
 "cells": [
  {
   "cell_type": "code",
   "execution_count": 2,
   "id": "07460f00-3e49-4525-b028-8404126360a1",
   "metadata": {},
   "outputs": [],
   "source": [
    "import pandas as pd\n",
    "from sklearn import datasets\n",
    "data_breast_cancer = datasets.load_breast_cancer(as_frame=True)"
   ]
  },
  {
   "cell_type": "code",
   "execution_count": 3,
   "id": "6c5018e6-1bb5-4e3f-b76a-bf42de8da360",
   "metadata": {},
   "outputs": [
    {
     "data": {
      "text/html": [
       "<div>\n",
       "<style scoped>\n",
       "    .dataframe tbody tr th:only-of-type {\n",
       "        vertical-align: middle;\n",
       "    }\n",
       "\n",
       "    .dataframe tbody tr th {\n",
       "        vertical-align: top;\n",
       "    }\n",
       "\n",
       "    .dataframe thead th {\n",
       "        text-align: right;\n",
       "    }\n",
       "</style>\n",
       "<table border=\"1\" class=\"dataframe\">\n",
       "  <thead>\n",
       "    <tr style=\"text-align: right;\">\n",
       "      <th></th>\n",
       "      <th>mean texture</th>\n",
       "      <th>mean symmetry</th>\n",
       "    </tr>\n",
       "  </thead>\n",
       "  <tbody>\n",
       "    <tr>\n",
       "      <th>0</th>\n",
       "      <td>10.38</td>\n",
       "      <td>0.2419</td>\n",
       "    </tr>\n",
       "    <tr>\n",
       "      <th>1</th>\n",
       "      <td>17.77</td>\n",
       "      <td>0.1812</td>\n",
       "    </tr>\n",
       "    <tr>\n",
       "      <th>2</th>\n",
       "      <td>21.25</td>\n",
       "      <td>0.2069</td>\n",
       "    </tr>\n",
       "    <tr>\n",
       "      <th>3</th>\n",
       "      <td>20.38</td>\n",
       "      <td>0.2597</td>\n",
       "    </tr>\n",
       "    <tr>\n",
       "      <th>4</th>\n",
       "      <td>14.34</td>\n",
       "      <td>0.1809</td>\n",
       "    </tr>\n",
       "  </tbody>\n",
       "</table>\n",
       "</div>"
      ],
      "text/plain": [
       "   mean texture  mean symmetry\n",
       "0         10.38         0.2419\n",
       "1         17.77         0.1812\n",
       "2         21.25         0.2069\n",
       "3         20.38         0.2597\n",
       "4         14.34         0.1809"
      ]
     },
     "execution_count": 3,
     "metadata": {},
     "output_type": "execute_result"
    }
   ],
   "source": [
    "X = data_breast_cancer.data[[\"mean texture\",\"mean symmetry\"]]\n",
    "X.head()"
   ]
  },
  {
   "cell_type": "code",
   "execution_count": 4,
   "id": "2929578d-d0b2-4db4-9405-eb7bcf667d4a",
   "metadata": {},
   "outputs": [
    {
     "data": {
      "text/plain": [
       "0    0\n",
       "1    0\n",
       "2    0\n",
       "3    0\n",
       "4    0\n",
       "Name: target, dtype: int32"
      ]
     },
     "execution_count": 4,
     "metadata": {},
     "output_type": "execute_result"
    }
   ],
   "source": [
    "y = data_breast_cancer.target\n",
    "y.head()"
   ]
  },
  {
   "cell_type": "code",
   "execution_count": 5,
   "id": "273d2d08-d22c-44b6-b9d5-e2935b7f6497",
   "metadata": {},
   "outputs": [],
   "source": [
    "from sklearn.model_selection import train_test_split\n",
    "X_train, X_test, y_train, y_test = train_test_split(X, y, test_size=0.2)"
   ]
  },
  {
   "cell_type": "code",
   "execution_count": 6,
   "id": "55e37aaa-0eff-42b3-8cc0-a974ba88c13c",
   "metadata": {},
   "outputs": [
    {
     "name": "stdout",
     "output_type": "stream",
     "text": [
      "455 114\n"
     ]
    }
   ],
   "source": [
    "print(len(X_train), len(X_test))"
   ]
  },
  {
   "cell_type": "code",
   "execution_count": 7,
   "id": "e2bc7d57-4ba5-47b4-ae81-c2c189696a3f",
   "metadata": {},
   "outputs": [],
   "source": [
    "from sklearn.tree import DecisionTreeClassifier\n",
    "from sklearn.neighbors import KNeighborsClassifier\n",
    "from sklearn.linear_model import LogisticRegression\n",
    "from sklearn.metrics import accuracy_score\n",
    "clf_list = []"
   ]
  },
  {
   "cell_type": "code",
   "execution_count": 8,
   "id": "a4e9f6b6-faa5-42ca-ab53-dcba9cc76085",
   "metadata": {},
   "outputs": [
    {
     "name": "stdout",
     "output_type": "stream",
     "text": [
      "(1.0, 0.6578947368421053)\n"
     ]
    }
   ],
   "source": [
    "tree_clf = DecisionTreeClassifier()\n",
    "tree_clf.fit(X_train, y_train)\n",
    "y_pred_train = tree_clf.predict(X_train)\n",
    "y_pred_test = tree_clf.predict(X_test)\n",
    "acc_train = accuracy_score(y_train, y_pred_train)\n",
    "acc_test = accuracy_score(y_test, y_pred_test)\n",
    "tree_clf_acc = (acc_train, acc_test)\n",
    "print(tree_clf_acc)\n",
    "clf_list.append(tree_clf)"
   ]
  },
  {
   "cell_type": "code",
   "execution_count": 9,
   "id": "6e2502a7-feac-483d-a873-9d0066a1bc76",
   "metadata": {},
   "outputs": [
    {
     "name": "stdout",
     "output_type": "stream",
     "text": [
      "(0.7714285714285715, 0.6578947368421053)\n"
     ]
    }
   ],
   "source": [
    "knn_clf = KNeighborsClassifier()\n",
    "knn_clf.fit(X_train, y_train)\n",
    "y_pred_train = knn_clf.predict(X_train)\n",
    "y_pred_test = knn_clf.predict(X_test)\n",
    "acc_train = accuracy_score(y_train, y_pred_train)\n",
    "acc_test = accuracy_score(y_test, y_pred_test)\n",
    "knn_clf_acc = (acc_train, acc_test)\n",
    "print(knn_clf_acc)\n",
    "clf_list.append(knn_clf)"
   ]
  },
  {
   "cell_type": "code",
   "execution_count": 10,
   "id": "3cec4a9f-67f3-40a1-b9da-7e469e9c1d7b",
   "metadata": {},
   "outputs": [
    {
     "name": "stdout",
     "output_type": "stream",
     "text": [
      "(0.6989010989010989, 0.7105263157894737)\n"
     ]
    }
   ],
   "source": [
    "lr_clf = LogisticRegression()\n",
    "lr_clf.fit(X_train, y_train)\n",
    "y_pred_train = lr_clf.predict(X_train)\n",
    "y_pred_test = lr_clf.predict(X_test)\n",
    "acc_train = accuracy_score(y_train, y_pred_train)\n",
    "acc_test = accuracy_score(y_test, y_pred_test)\n",
    "lr_acc = (acc_train, acc_test)\n",
    "print(lr_acc)\n",
    "clf_list.append(lr_clf)"
   ]
  },
  {
   "cell_type": "code",
   "execution_count": 11,
   "id": "4664caab-4459-42f1-99a9-7b2ef7337a34",
   "metadata": {},
   "outputs": [],
   "source": [
    "from sklearn.ensemble import VotingClassifier"
   ]
  },
  {
   "cell_type": "code",
   "execution_count": 12,
   "id": "670b7316-0dbc-420a-b69e-56e75b7bd630",
   "metadata": {},
   "outputs": [],
   "source": [
    "voting_clf = VotingClassifier(estimators=[(\"tr\", tree_clf),\n",
    "                                          (\"knn\", knn_clf),\n",
    "                                          (\"lr\", lr_clf)], voting=\"hard\")"
   ]
  },
  {
   "cell_type": "code",
   "execution_count": 13,
   "id": "23fd3c10-8c7a-4691-abbd-139f61907c41",
   "metadata": {},
   "outputs": [
    {
     "data": {
      "text/plain": [
       "VotingClassifier(estimators=[('tr', DecisionTreeClassifier()),\n",
       "                             ('knn', KNeighborsClassifier()),\n",
       "                             ('lr', LogisticRegression())])"
      ]
     },
     "execution_count": 13,
     "metadata": {},
     "output_type": "execute_result"
    }
   ],
   "source": [
    "voting_clf.fit(X_train, y_train)"
   ]
  },
  {
   "cell_type": "code",
   "execution_count": 14,
   "id": "c331e88a-f3ca-4a5f-8121-bf9bbf036760",
   "metadata": {},
   "outputs": [
    {
     "name": "stdout",
     "output_type": "stream",
     "text": [
      "[1 0 1 0 0 1 1 1 1 1 1 1 0 1 1 1 1 1 1 1 1 1 1 1 1 1 1 1 0 1 0 0 1 1 1 1 1\n",
      " 1 0 1 0 1 0 1 0 1 1 0 1 1 1 1 1 1 1 1 1 0 1 1 1 1 1 1 0 0 1 1 1 0 1 1 0 1\n",
      " 0 1 0 1 1 1 1 1 1 1 1 1 0 1 1 1 0 1 0 1 0 1 1 1 1 1 1 1 0 1 1 1 1 1 0 0 1\n",
      " 1 1 1 1 1 1 1 1 1 1 0 1 1 1 1 1 0 0 1 1 1 1 1 0 0 1 1 1 1 1 1 1 1 0 1 0 1\n",
      " 0 1 1 0 1 1 1 0 1 0 1 0 0 1 0 1 0 1 0 1 1 1 1 1 0 1 1 1 1 1 1 1 0 1 1 1 1\n",
      " 0 1 1 1 1 0 1 1 1 1 0 0 1 1 0 0 0 0 1 0 1 1 1 1 0 1 1 1 1 1 1 1 1 0 1 0 0\n",
      " 1 0 0 0 0 1 0 0 1 1 1 1 1 1 0 1 0 1 1 1 1 1 1 0 0 0 1 1 1 1 1 0 1 1 0 1 0\n",
      " 0 1 0 0 0 0 1 1 1 0 1 1 1 1 0 0 1 0 0 1 1 0 0 1 1 1 1 1 1 0 1 1 1 0 0 0 1\n",
      " 1 0 1 0 1 1 1 1 1 1 1 0 1 1 1 1 1 0 1 0 0 1 1 1 1 0 1 0 1 1 1 1 1 0 1 0 0\n",
      " 0 1 1 0 1 0 1 1 0 0 1 0 0 1 1 1 0 0 1 1 1 1 0 1 1 0 1 1 1 1 1 0 1 1 1 1 1\n",
      " 0 1 1 0 1 1 0 1 0 0 1 0 0 1 1 1 0 0 1 0 0 1 1 0 1 1 1 1 1 1 1 1 0 1 1 1 1\n",
      " 1 1 0 0 1 0 1 0 0 0 0 1 1 1 0 1 1 1 1 0 1 1 1 1 0 1 0 1 1 1 0 1 1 1 1 1 1\n",
      " 1 1 1 0 1 1 1 1 1 1 1]\n"
     ]
    }
   ],
   "source": [
    "print(voting_clf.predict(X_train))"
   ]
  },
  {
   "cell_type": "code",
   "execution_count": 15,
   "id": "a73c333e-4b45-4199-b4a9-6605417b0a62",
   "metadata": {},
   "outputs": [
    {
     "name": "stdout",
     "output_type": "stream",
     "text": [
      "(0.8461538461538461, 0.6842105263157895)\n"
     ]
    }
   ],
   "source": [
    "y_pred_train = voting_clf.predict(X_train)\n",
    "y_pred_test = voting_clf.predict(X_test)\n",
    "hard_acc_train = accuracy_score(y_train, y_pred_train)\n",
    "hard_acc_test = accuracy_score(y_test, y_pred_test)\n",
    "hard_acc = (hard_acc_train, hard_acc_test)\n",
    "print(hard_acc)\n",
    "clf_list.append(voting_clf)"
   ]
  },
  {
   "cell_type": "code",
   "execution_count": 16,
   "id": "a6b85a36-8335-4bb2-816b-41ed2a79d92c",
   "metadata": {},
   "outputs": [],
   "source": [
    "voting_clf = VotingClassifier(estimators=[(\"tr\", tree_clf),\n",
    "                                          (\"knn\", knn_clf),\n",
    "                                          (\"lr\", lr_clf)], voting=\"soft\")"
   ]
  },
  {
   "cell_type": "code",
   "execution_count": 17,
   "id": "cb41ff19-2b02-48ec-93a1-2db24d5d9b00",
   "metadata": {},
   "outputs": [
    {
     "data": {
      "text/plain": [
       "VotingClassifier(estimators=[('tr', DecisionTreeClassifier()),\n",
       "                             ('knn', KNeighborsClassifier()),\n",
       "                             ('lr', LogisticRegression())],\n",
       "                 voting='soft')"
      ]
     },
     "execution_count": 17,
     "metadata": {},
     "output_type": "execute_result"
    }
   ],
   "source": [
    "voting_clf.fit(X_train, y_train)"
   ]
  },
  {
   "cell_type": "code",
   "execution_count": 18,
   "id": "a70c3e8d-c518-4393-acfb-e70df9751421",
   "metadata": {},
   "outputs": [
    {
     "name": "stdout",
     "output_type": "stream",
     "text": [
      "[1 0 1 0 0 1 1 0 1 1 1 1 0 1 0 0 1 1 1 1 1 1 1 1 1 1 1 1 0 1 0 1 1 0 1 1 1\n",
      " 1 0 1 0 1 0 1 0 1 1 1 1 1 1 1 1 1 1 1 1 0 1 1 1 1 1 1 0 0 1 1 1 0 1 1 0 1\n",
      " 0 1 0 1 1 1 0 1 1 0 1 0 0 1 1 0 0 1 0 1 0 1 1 1 1 1 1 1 0 1 1 1 1 1 0 0 1\n",
      " 1 1 1 1 1 0 1 0 1 1 0 1 1 1 1 1 1 0 1 1 0 1 1 0 0 1 0 1 1 0 1 1 1 1 0 0 0\n",
      " 0 1 1 1 1 1 1 0 1 0 1 0 0 0 0 1 0 1 0 1 1 1 1 1 0 1 1 1 1 0 1 1 0 1 1 1 1\n",
      " 0 1 1 1 1 0 1 1 1 1 0 0 1 0 0 0 0 0 1 0 1 1 1 1 0 0 1 1 1 1 1 1 1 1 1 0 1\n",
      " 1 0 0 0 0 1 0 0 0 1 1 1 1 1 0 1 0 1 1 1 1 1 1 1 1 0 1 1 1 1 1 0 1 1 0 1 0\n",
      " 0 1 0 0 0 0 1 1 1 0 1 1 1 0 0 0 1 0 0 0 1 0 1 1 1 1 1 1 1 0 1 1 1 0 0 0 1\n",
      " 1 1 1 0 1 1 0 1 1 1 1 0 0 1 1 1 1 1 1 0 0 1 1 1 1 0 1 0 1 1 1 1 1 0 1 0 0\n",
      " 0 1 1 0 1 0 1 1 0 0 1 0 1 1 1 1 0 1 1 1 1 0 0 1 1 0 1 1 1 1 1 0 0 1 1 1 0\n",
      " 0 1 1 0 1 0 0 1 0 0 1 0 0 1 1 0 0 0 1 0 0 1 1 0 1 1 0 1 0 1 1 1 0 1 1 1 1\n",
      " 0 1 0 0 1 0 1 1 1 0 0 0 1 1 0 1 1 1 1 0 0 1 1 1 0 1 0 0 1 1 1 0 1 1 1 1 1\n",
      " 1 1 1 0 1 1 1 1 1 1 1]\n"
     ]
    }
   ],
   "source": [
    "print(voting_clf.predict(X_train))"
   ]
  },
  {
   "cell_type": "code",
   "execution_count": 19,
   "id": "b218ed83-fd14-4ee5-9304-ee7d4976672c",
   "metadata": {},
   "outputs": [
    {
     "name": "stdout",
     "output_type": "stream",
     "text": [
      "(0.9626373626373627, 0.6842105263157895)\n"
     ]
    }
   ],
   "source": [
    "y_pred_train = voting_clf.predict(X_train)\n",
    "y_pred_test = voting_clf.predict(X_test)\n",
    "soft_acc_train = accuracy_score(y_train, y_pred_train)\n",
    "soft_acc_test = accuracy_score(y_test, y_pred_test)\n",
    "soft_acc = (soft_acc_train, soft_acc_test)\n",
    "print(soft_acc)\n",
    "clf_list.append(voting_clf)"
   ]
  },
  {
   "cell_type": "code",
   "execution_count": 20,
   "id": "972e0f23-7506-4a70-a68b-7b6058da31f9",
   "metadata": {},
   "outputs": [
    {
     "name": "stdout",
     "output_type": "stream",
     "text": [
      "[(1.0, 0.6578947368421053), (0.6989010989010989, 0.7105263157894737), (0.7714285714285715, 0.6578947368421053), (0.8461538461538461, 0.6842105263157895), (0.9626373626373627, 0.6842105263157895)]\n"
     ]
    }
   ],
   "source": [
    "acc_list = [tree_clf_acc, lr_acc, knn_clf_acc, hard_acc, soft_acc]\n",
    "print(acc_list)"
   ]
  },
  {
   "cell_type": "code",
   "execution_count": 21,
   "id": "93de1f43-d84a-47a9-b6bf-487e80204460",
   "metadata": {},
   "outputs": [],
   "source": [
    "import pickle\n",
    "open_file = open(\"acc_vote.pkl\", \"wb\")\n",
    "pickle.dump(acc_list, open_file)\n",
    "open_file.close()"
   ]
  },
  {
   "cell_type": "code",
   "execution_count": 22,
   "id": "4f54dd27-ae9c-4ed5-be3e-c5afd75c1b90",
   "metadata": {},
   "outputs": [
    {
     "name": "stdout",
     "output_type": "stream",
     "text": [
      "[(1.0, 0.6578947368421053), (0.6989010989010989, 0.7105263157894737), (0.7714285714285715, 0.6578947368421053), (0.8461538461538461, 0.6842105263157895), (0.9626373626373627, 0.6842105263157895)]\n"
     ]
    }
   ],
   "source": [
    "open_file = open(\"acc_vote.pkl\", \"rb\")\n",
    "loaded_list = pickle.load(open_file)\n",
    "open_file.close()\n",
    "print(loaded_list)"
   ]
  },
  {
   "cell_type": "code",
   "execution_count": 23,
   "id": "f17200a6-2938-43a3-8bb8-8a060575413e",
   "metadata": {},
   "outputs": [
    {
     "name": "stdout",
     "output_type": "stream",
     "text": [
      "[DecisionTreeClassifier(), KNeighborsClassifier(), LogisticRegression(), VotingClassifier(estimators=[('tr', DecisionTreeClassifier()),\n",
      "                             ('knn', KNeighborsClassifier()),\n",
      "                             ('lr', LogisticRegression())]), VotingClassifier(estimators=[('tr', DecisionTreeClassifier()),\n",
      "                             ('knn', KNeighborsClassifier()),\n",
      "                             ('lr', LogisticRegression())],\n",
      "                 voting='soft')]\n"
     ]
    }
   ],
   "source": [
    "print(clf_list)"
   ]
  },
  {
   "cell_type": "code",
   "execution_count": 24,
   "id": "c4377b54-68cf-4b2a-8c41-98f4c39fe24d",
   "metadata": {},
   "outputs": [],
   "source": [
    "open_file = open(\"vote.pkl\", \"wb\")\n",
    "pickle.dump(clf_list, open_file)\n",
    "open_file.close()"
   ]
  },
  {
   "cell_type": "code",
   "execution_count": 25,
   "id": "100215c8-66aa-4ffc-add1-e385cc938df6",
   "metadata": {},
   "outputs": [
    {
     "name": "stdout",
     "output_type": "stream",
     "text": [
      "[DecisionTreeClassifier(), KNeighborsClassifier(), LogisticRegression(), VotingClassifier(estimators=[('tr', DecisionTreeClassifier()),\n",
      "                             ('knn', KNeighborsClassifier()),\n",
      "                             ('lr', LogisticRegression())]), VotingClassifier(estimators=[('tr', DecisionTreeClassifier()),\n",
      "                             ('knn', KNeighborsClassifier()),\n",
      "                             ('lr', LogisticRegression())],\n",
      "                 voting='soft')]\n"
     ]
    }
   ],
   "source": [
    "open_file = open(\"vote.pkl\", \"rb\")\n",
    "loaded_list = pickle.load(open_file)\n",
    "open_file.close()\n",
    "print(loaded_list)"
   ]
  },
  {
   "cell_type": "code",
   "execution_count": 26,
   "id": "7a5dd3ff-4311-4c67-9fd8-0156c05b78d5",
   "metadata": {},
   "outputs": [],
   "source": [
    "from sklearn.ensemble import BaggingClassifier\n",
    "from sklearn.ensemble import RandomForestClassifier\n",
    "from sklearn.ensemble import AdaBoostClassifier\n",
    "from sklearn.ensemble import GradientBoostingClassifier\n",
    "clf_list2 = []"
   ]
  },
  {
   "cell_type": "code",
   "execution_count": 27,
   "id": "cd76e501-b3f0-4c11-a774-c3b1a13f2436",
   "metadata": {},
   "outputs": [
    {
     "name": "stdout",
     "output_type": "stream",
     "text": [
      "(0.9956043956043956, 0.7368421052631579)\n"
     ]
    }
   ],
   "source": [
    "bag_clf = BaggingClassifier(DecisionTreeClassifier(), n_estimators=30)\n",
    "bag_clf.fit(X_train, y_train)\n",
    "y_pred_train = bag_clf.predict(X_train)\n",
    "y_pred_test = bag_clf.predict(X_test)\n",
    "acc_train = accuracy_score(y_train, y_pred_train)\n",
    "acc_test = accuracy_score(y_test, y_pred_test)\n",
    "bag_acc = (acc_train, acc_test)\n",
    "print(bag_acc)\n",
    "clf_list2.append(bag_clf)"
   ]
  },
  {
   "cell_type": "code",
   "execution_count": 28,
   "id": "0f83beb0-f827-4218-865f-6b044685e78e",
   "metadata": {},
   "outputs": [
    {
     "name": "stdout",
     "output_type": "stream",
     "text": [
      "(0.9076923076923077, 0.7368421052631579)\n"
     ]
    }
   ],
   "source": [
    "bag_clf_50 = BaggingClassifier(DecisionTreeClassifier(), n_estimators=30, max_samples=0.5)\n",
    "bag_clf_50.fit(X_train, y_train)\n",
    "y_pred_train = bag_clf_50.predict(X_train)\n",
    "y_pred_test = bag_clf_50.predict(X_test)\n",
    "acc_train = accuracy_score(y_train, y_pred_train)\n",
    "acc_test = accuracy_score(y_test, y_pred_test)\n",
    "bag_acc_50 = (acc_train, acc_test)\n",
    "print(bag_acc_50)\n",
    "clf_list2.append(bag_clf_50)"
   ]
  },
  {
   "cell_type": "code",
   "execution_count": 29,
   "id": "63b677c5-81a4-4563-b715-e1b0575ff31c",
   "metadata": {},
   "outputs": [
    {
     "name": "stdout",
     "output_type": "stream",
     "text": [
      "(1.0, 0.6403508771929824)\n"
     ]
    }
   ],
   "source": [
    "past_clf = BaggingClassifier(DecisionTreeClassifier(), n_estimators=30, bootstrap=False)\n",
    "past_clf.fit(X_train, y_train)\n",
    "y_pred_train = past_clf.predict(X_train)\n",
    "y_pred_test = past_clf.predict(X_test)\n",
    "acc_train = accuracy_score(y_train, y_pred_train)\n",
    "acc_test = accuracy_score(y_test, y_pred_test)\n",
    "past_acc = (acc_train, acc_test)\n",
    "print(past_acc)\n",
    "clf_list2.append(past_clf)"
   ]
  },
  {
   "cell_type": "code",
   "execution_count": 30,
   "id": "bb0030b1-fc5a-41bc-ac75-7d338bfa9f0f",
   "metadata": {},
   "outputs": [
    {
     "name": "stdout",
     "output_type": "stream",
     "text": [
      "(0.9736263736263736, 0.7105263157894737)\n"
     ]
    }
   ],
   "source": [
    "past_clf_50 = BaggingClassifier(DecisionTreeClassifier(), n_estimators=30, max_samples=0.5, bootstrap=False)\n",
    "past_clf_50.fit(X_train, y_train)\n",
    "y_pred_train = past_clf_50.predict(X_train)\n",
    "y_pred_test = past_clf_50.predict(X_test)\n",
    "acc_train = accuracy_score(y_train, y_pred_train)\n",
    "acc_test = accuracy_score(y_test, y_pred_test)\n",
    "past_acc_50 = (acc_train, acc_test)\n",
    "print(past_acc_50)\n",
    "clf_list2.append(past_clf_50)"
   ]
  },
  {
   "cell_type": "code",
   "execution_count": 31,
   "id": "68b1af59-d13f-42f8-8b63-97c89716c0f5",
   "metadata": {},
   "outputs": [
    {
     "name": "stdout",
     "output_type": "stream",
     "text": [
      "(0.9978021978021978, 0.7192982456140351)\n"
     ]
    }
   ],
   "source": [
    "rf_clf = RandomForestClassifier(n_estimators=30)\n",
    "rf_clf.fit(X_train, y_train)\n",
    "y_pred_train = rf_clf.predict(X_train)\n",
    "y_pred_test = rf_clf.predict(X_test)\n",
    "acc_train = accuracy_score(y_train, y_pred_train)\n",
    "acc_test = accuracy_score(y_test, y_pred_test)\n",
    "rf_acc = (acc_train, acc_test)\n",
    "print(rf_acc)\n",
    "clf_list2.append(rf_clf)"
   ]
  },
  {
   "cell_type": "code",
   "execution_count": 32,
   "id": "ad935914-91e6-4d32-a4e3-a36d4561da27",
   "metadata": {},
   "outputs": [
    {
     "name": "stdout",
     "output_type": "stream",
     "text": [
      "(0.7912087912087912, 0.7807017543859649)\n"
     ]
    }
   ],
   "source": [
    "ada_clf = AdaBoostClassifier(n_estimators=30)\n",
    "ada_clf.fit(X_train, y_train)\n",
    "y_pred_train = ada_clf.predict(X_train)\n",
    "y_pred_test = ada_clf.predict(X_test)\n",
    "acc_train = accuracy_score(y_train, y_pred_train)\n",
    "acc_test = accuracy_score(y_test, y_pred_test)\n",
    "ada_acc = (acc_train, acc_test)\n",
    "print(ada_acc)\n",
    "clf_list2.append(ada_clf)"
   ]
  },
  {
   "cell_type": "code",
   "execution_count": 33,
   "id": "26d4ef4b-3a08-42ac-a073-bd5672bd0de4",
   "metadata": {},
   "outputs": [
    {
     "name": "stdout",
     "output_type": "stream",
     "text": [
      "(0.8263736263736263, 0.7719298245614035)\n"
     ]
    }
   ],
   "source": [
    "gradient_clf = GradientBoostingClassifier(n_estimators=30)\n",
    "gradient_clf.fit(X_train, y_train)\n",
    "y_pred_train = gradient_clf.predict(X_train)\n",
    "y_pred_test = gradient_clf.predict(X_test)\n",
    "acc_train = accuracy_score(y_train, y_pred_train)\n",
    "acc_test = accuracy_score(y_test, y_pred_test)\n",
    "gradient_acc = (acc_train, acc_test)\n",
    "print(gradient_acc)\n",
    "clf_list2.append(gradient_clf)"
   ]
  },
  {
   "cell_type": "code",
   "execution_count": 34,
   "id": "0f189e4c-b9eb-447a-b4eb-072d484d2460",
   "metadata": {},
   "outputs": [
    {
     "name": "stdout",
     "output_type": "stream",
     "text": [
      "[(0.9956043956043956, 0.7368421052631579), (0.9076923076923077, 0.7368421052631579), (1.0, 0.6403508771929824), (0.9736263736263736, 0.7105263157894737), (0.9978021978021978, 0.7192982456140351), (0.7912087912087912, 0.7807017543859649), (0.8263736263736263, 0.7719298245614035)]\n"
     ]
    }
   ],
   "source": [
    "acc_list2 = [bag_acc, bag_acc_50, past_acc, past_acc_50, rf_acc, ada_acc, gradient_acc]\n",
    "print(acc_list2)"
   ]
  },
  {
   "cell_type": "code",
   "execution_count": 35,
   "id": "36384881-24ea-4a36-84d1-03ce74d6a861",
   "metadata": {},
   "outputs": [],
   "source": [
    "open_file = open(\"acc_bag.pkl\", \"wb\")\n",
    "pickle.dump(acc_list2, open_file)\n",
    "open_file.close()"
   ]
  },
  {
   "cell_type": "code",
   "execution_count": 36,
   "id": "d74c1fd5-1551-40ed-a47c-68506e8203cd",
   "metadata": {},
   "outputs": [
    {
     "name": "stdout",
     "output_type": "stream",
     "text": [
      "[(0.9956043956043956, 0.7368421052631579), (0.9076923076923077, 0.7368421052631579), (1.0, 0.6403508771929824), (0.9736263736263736, 0.7105263157894737), (0.9978021978021978, 0.7192982456140351), (0.7912087912087912, 0.7807017543859649), (0.8263736263736263, 0.7719298245614035)]\n"
     ]
    }
   ],
   "source": [
    "open_file = open(\"acc_bag.pkl\", \"rb\")\n",
    "loaded_list = pickle.load(open_file)\n",
    "open_file.close()\n",
    "print(loaded_list)"
   ]
  },
  {
   "cell_type": "code",
   "execution_count": 37,
   "id": "a7a263ac-9466-47bb-aa14-e4ce769e6509",
   "metadata": {},
   "outputs": [
    {
     "name": "stdout",
     "output_type": "stream",
     "text": [
      "[BaggingClassifier(base_estimator=DecisionTreeClassifier(), n_estimators=30), BaggingClassifier(base_estimator=DecisionTreeClassifier(), max_samples=0.5,\n",
      "                  n_estimators=30), BaggingClassifier(base_estimator=DecisionTreeClassifier(), bootstrap=False,\n",
      "                  n_estimators=30), BaggingClassifier(base_estimator=DecisionTreeClassifier(), bootstrap=False,\n",
      "                  max_samples=0.5, n_estimators=30), RandomForestClassifier(n_estimators=30), AdaBoostClassifier(n_estimators=30), GradientBoostingClassifier(n_estimators=30)]\n"
     ]
    }
   ],
   "source": [
    "print(clf_list2)"
   ]
  },
  {
   "cell_type": "code",
   "execution_count": 38,
   "id": "de10e12d-1382-4f12-ab4a-a70006ab9d5d",
   "metadata": {},
   "outputs": [],
   "source": [
    "open_file = open(\"bag.pkl\", \"wb\")\n",
    "pickle.dump(clf_list2, open_file)\n",
    "open_file.close()"
   ]
  },
  {
   "cell_type": "code",
   "execution_count": 39,
   "id": "667bf536-cccd-4fb7-9766-4c4a90d1df6d",
   "metadata": {},
   "outputs": [
    {
     "name": "stdout",
     "output_type": "stream",
     "text": [
      "[BaggingClassifier(base_estimator=DecisionTreeClassifier(), n_estimators=30), BaggingClassifier(base_estimator=DecisionTreeClassifier(), max_samples=0.5,\n",
      "                  n_estimators=30), BaggingClassifier(base_estimator=DecisionTreeClassifier(), bootstrap=False,\n",
      "                  n_estimators=30), BaggingClassifier(base_estimator=DecisionTreeClassifier(), bootstrap=False,\n",
      "                  max_samples=0.5, n_estimators=30), RandomForestClassifier(n_estimators=30), AdaBoostClassifier(n_estimators=30), GradientBoostingClassifier(n_estimators=30)]\n"
     ]
    }
   ],
   "source": [
    "open_file = open(\"bag.pkl\", \"rb\")\n",
    "loaded_list = pickle.load(open_file)\n",
    "open_file.close()\n",
    "print(loaded_list)"
   ]
  },
  {
   "cell_type": "code",
   "execution_count": 40,
   "id": "cddc4268-02d1-4986-837d-c00db195dd34",
   "metadata": {},
   "outputs": [],
   "source": [
    "X = data_breast_cancer.data"
   ]
  },
  {
   "cell_type": "code",
   "execution_count": 41,
   "id": "030061a0-59d9-4b61-be2e-ede952dffb2e",
   "metadata": {},
   "outputs": [
    {
     "data": {
      "text/html": [
       "<div>\n",
       "<style scoped>\n",
       "    .dataframe tbody tr th:only-of-type {\n",
       "        vertical-align: middle;\n",
       "    }\n",
       "\n",
       "    .dataframe tbody tr th {\n",
       "        vertical-align: top;\n",
       "    }\n",
       "\n",
       "    .dataframe thead th {\n",
       "        text-align: right;\n",
       "    }\n",
       "</style>\n",
       "<table border=\"1\" class=\"dataframe\">\n",
       "  <thead>\n",
       "    <tr style=\"text-align: right;\">\n",
       "      <th></th>\n",
       "      <th>mean radius</th>\n",
       "      <th>mean texture</th>\n",
       "      <th>mean perimeter</th>\n",
       "      <th>mean area</th>\n",
       "      <th>mean smoothness</th>\n",
       "      <th>mean compactness</th>\n",
       "      <th>mean concavity</th>\n",
       "      <th>mean concave points</th>\n",
       "      <th>mean symmetry</th>\n",
       "      <th>mean fractal dimension</th>\n",
       "      <th>...</th>\n",
       "      <th>worst radius</th>\n",
       "      <th>worst texture</th>\n",
       "      <th>worst perimeter</th>\n",
       "      <th>worst area</th>\n",
       "      <th>worst smoothness</th>\n",
       "      <th>worst compactness</th>\n",
       "      <th>worst concavity</th>\n",
       "      <th>worst concave points</th>\n",
       "      <th>worst symmetry</th>\n",
       "      <th>worst fractal dimension</th>\n",
       "    </tr>\n",
       "  </thead>\n",
       "  <tbody>\n",
       "    <tr>\n",
       "      <th>0</th>\n",
       "      <td>17.99</td>\n",
       "      <td>10.38</td>\n",
       "      <td>122.80</td>\n",
       "      <td>1001.0</td>\n",
       "      <td>0.11840</td>\n",
       "      <td>0.27760</td>\n",
       "      <td>0.3001</td>\n",
       "      <td>0.14710</td>\n",
       "      <td>0.2419</td>\n",
       "      <td>0.07871</td>\n",
       "      <td>...</td>\n",
       "      <td>25.38</td>\n",
       "      <td>17.33</td>\n",
       "      <td>184.60</td>\n",
       "      <td>2019.0</td>\n",
       "      <td>0.1622</td>\n",
       "      <td>0.6656</td>\n",
       "      <td>0.7119</td>\n",
       "      <td>0.2654</td>\n",
       "      <td>0.4601</td>\n",
       "      <td>0.11890</td>\n",
       "    </tr>\n",
       "    <tr>\n",
       "      <th>1</th>\n",
       "      <td>20.57</td>\n",
       "      <td>17.77</td>\n",
       "      <td>132.90</td>\n",
       "      <td>1326.0</td>\n",
       "      <td>0.08474</td>\n",
       "      <td>0.07864</td>\n",
       "      <td>0.0869</td>\n",
       "      <td>0.07017</td>\n",
       "      <td>0.1812</td>\n",
       "      <td>0.05667</td>\n",
       "      <td>...</td>\n",
       "      <td>24.99</td>\n",
       "      <td>23.41</td>\n",
       "      <td>158.80</td>\n",
       "      <td>1956.0</td>\n",
       "      <td>0.1238</td>\n",
       "      <td>0.1866</td>\n",
       "      <td>0.2416</td>\n",
       "      <td>0.1860</td>\n",
       "      <td>0.2750</td>\n",
       "      <td>0.08902</td>\n",
       "    </tr>\n",
       "    <tr>\n",
       "      <th>2</th>\n",
       "      <td>19.69</td>\n",
       "      <td>21.25</td>\n",
       "      <td>130.00</td>\n",
       "      <td>1203.0</td>\n",
       "      <td>0.10960</td>\n",
       "      <td>0.15990</td>\n",
       "      <td>0.1974</td>\n",
       "      <td>0.12790</td>\n",
       "      <td>0.2069</td>\n",
       "      <td>0.05999</td>\n",
       "      <td>...</td>\n",
       "      <td>23.57</td>\n",
       "      <td>25.53</td>\n",
       "      <td>152.50</td>\n",
       "      <td>1709.0</td>\n",
       "      <td>0.1444</td>\n",
       "      <td>0.4245</td>\n",
       "      <td>0.4504</td>\n",
       "      <td>0.2430</td>\n",
       "      <td>0.3613</td>\n",
       "      <td>0.08758</td>\n",
       "    </tr>\n",
       "    <tr>\n",
       "      <th>3</th>\n",
       "      <td>11.42</td>\n",
       "      <td>20.38</td>\n",
       "      <td>77.58</td>\n",
       "      <td>386.1</td>\n",
       "      <td>0.14250</td>\n",
       "      <td>0.28390</td>\n",
       "      <td>0.2414</td>\n",
       "      <td>0.10520</td>\n",
       "      <td>0.2597</td>\n",
       "      <td>0.09744</td>\n",
       "      <td>...</td>\n",
       "      <td>14.91</td>\n",
       "      <td>26.50</td>\n",
       "      <td>98.87</td>\n",
       "      <td>567.7</td>\n",
       "      <td>0.2098</td>\n",
       "      <td>0.8663</td>\n",
       "      <td>0.6869</td>\n",
       "      <td>0.2575</td>\n",
       "      <td>0.6638</td>\n",
       "      <td>0.17300</td>\n",
       "    </tr>\n",
       "    <tr>\n",
       "      <th>4</th>\n",
       "      <td>20.29</td>\n",
       "      <td>14.34</td>\n",
       "      <td>135.10</td>\n",
       "      <td>1297.0</td>\n",
       "      <td>0.10030</td>\n",
       "      <td>0.13280</td>\n",
       "      <td>0.1980</td>\n",
       "      <td>0.10430</td>\n",
       "      <td>0.1809</td>\n",
       "      <td>0.05883</td>\n",
       "      <td>...</td>\n",
       "      <td>22.54</td>\n",
       "      <td>16.67</td>\n",
       "      <td>152.20</td>\n",
       "      <td>1575.0</td>\n",
       "      <td>0.1374</td>\n",
       "      <td>0.2050</td>\n",
       "      <td>0.4000</td>\n",
       "      <td>0.1625</td>\n",
       "      <td>0.2364</td>\n",
       "      <td>0.07678</td>\n",
       "    </tr>\n",
       "  </tbody>\n",
       "</table>\n",
       "<p>5 rows × 30 columns</p>\n",
       "</div>"
      ],
      "text/plain": [
       "   mean radius  mean texture  mean perimeter  mean area  mean smoothness  \\\n",
       "0        17.99         10.38          122.80     1001.0          0.11840   \n",
       "1        20.57         17.77          132.90     1326.0          0.08474   \n",
       "2        19.69         21.25          130.00     1203.0          0.10960   \n",
       "3        11.42         20.38           77.58      386.1          0.14250   \n",
       "4        20.29         14.34          135.10     1297.0          0.10030   \n",
       "\n",
       "   mean compactness  mean concavity  mean concave points  mean symmetry  \\\n",
       "0           0.27760          0.3001              0.14710         0.2419   \n",
       "1           0.07864          0.0869              0.07017         0.1812   \n",
       "2           0.15990          0.1974              0.12790         0.2069   \n",
       "3           0.28390          0.2414              0.10520         0.2597   \n",
       "4           0.13280          0.1980              0.10430         0.1809   \n",
       "\n",
       "   mean fractal dimension  ...  worst radius  worst texture  worst perimeter  \\\n",
       "0                 0.07871  ...         25.38          17.33           184.60   \n",
       "1                 0.05667  ...         24.99          23.41           158.80   \n",
       "2                 0.05999  ...         23.57          25.53           152.50   \n",
       "3                 0.09744  ...         14.91          26.50            98.87   \n",
       "4                 0.05883  ...         22.54          16.67           152.20   \n",
       "\n",
       "   worst area  worst smoothness  worst compactness  worst concavity  \\\n",
       "0      2019.0            0.1622             0.6656           0.7119   \n",
       "1      1956.0            0.1238             0.1866           0.2416   \n",
       "2      1709.0            0.1444             0.4245           0.4504   \n",
       "3       567.7            0.2098             0.8663           0.6869   \n",
       "4      1575.0            0.1374             0.2050           0.4000   \n",
       "\n",
       "   worst concave points  worst symmetry  worst fractal dimension  \n",
       "0                0.2654          0.4601                  0.11890  \n",
       "1                0.1860          0.2750                  0.08902  \n",
       "2                0.2430          0.3613                  0.08758  \n",
       "3                0.2575          0.6638                  0.17300  \n",
       "4                0.1625          0.2364                  0.07678  \n",
       "\n",
       "[5 rows x 30 columns]"
      ]
     },
     "execution_count": 41,
     "metadata": {},
     "output_type": "execute_result"
    }
   ],
   "source": [
    "X.head()"
   ]
  },
  {
   "cell_type": "code",
   "execution_count": 43,
   "id": "fc5ab338-daef-4bcf-88d8-6b1a4b6325e2",
   "metadata": {},
   "outputs": [],
   "source": [
    "X_train, X_test, y_train, y_test = train_test_split(X, y, test_size=0.2)"
   ]
  },
  {
   "cell_type": "code",
   "execution_count": 44,
   "id": "f80ae504-82db-4e76-aa8f-a29658be0c14",
   "metadata": {},
   "outputs": [
    {
     "name": "stdout",
     "output_type": "stream",
     "text": [
      "[0.9956043956043956, 0.9298245614035088]\n"
     ]
    }
   ],
   "source": [
    "bag_clf = BaggingClassifier(DecisionTreeClassifier(), n_estimators = 30,\n",
    "                            bootstrap = True, bootstrap_features = False,\n",
    "                            max_samples = 0.5, max_features = 2)\n",
    "bag_clf.fit(X_train, y_train)\n",
    "y_pred_train = bag_clf.predict(X_train)\n",
    "y_pred_test = bag_clf.predict(X_test)\n",
    "acc_train = accuracy_score(y_train, y_pred_train)\n",
    "acc_test = accuracy_score(y_test, y_pred_test)\n",
    "bag_acc_list = [acc_train, acc_test]\n",
    "print(bag_acc_list)"
   ]
  },
  {
   "cell_type": "code",
   "execution_count": 45,
   "id": "fe39f0cb-7fa0-4b27-896a-66d1f08399e7",
   "metadata": {},
   "outputs": [],
   "source": [
    "open_file = open(\"acc_fea.pkl\", \"wb\")\n",
    "pickle.dump(bag_acc_list, open_file)\n",
    "open_file.close()"
   ]
  },
  {
   "cell_type": "code",
   "execution_count": 46,
   "id": "c5a0a3b9-f827-4839-945d-660d22ac9e5e",
   "metadata": {},
   "outputs": [
    {
     "name": "stdout",
     "output_type": "stream",
     "text": [
      "[0.9956043956043956, 0.9298245614035088]\n"
     ]
    }
   ],
   "source": [
    "open_file = open(\"acc_fea.pkl\", \"rb\")\n",
    "loaded_list = pickle.load(open_file)\n",
    "open_file.close()\n",
    "print(loaded_list)"
   ]
  },
  {
   "cell_type": "code",
   "execution_count": 49,
   "id": "d955d057-b609-4769-8140-84c3dd13b690",
   "metadata": {},
   "outputs": [
    {
     "name": "stdout",
     "output_type": "stream",
     "text": [
      "[BaggingClassifier(base_estimator=DecisionTreeClassifier(), max_features=2,\n",
      "                  max_samples=0.5, n_estimators=30)]\n"
     ]
    }
   ],
   "source": [
    "clf_list = [bag_clf]\n",
    "print(clf_list)"
   ]
  },
  {
   "cell_type": "code",
   "execution_count": 50,
   "id": "8e686590-7a96-4791-b9ec-668967013866",
   "metadata": {},
   "outputs": [],
   "source": [
    "open_file = open(\"fea.pkl\", \"wb\")\n",
    "pickle.dump(clf_list, open_file)\n",
    "open_file.close()"
   ]
  },
  {
   "cell_type": "code",
   "execution_count": 51,
   "id": "4b9ce8d8-fbac-4e5a-aea3-62af1e66f44c",
   "metadata": {},
   "outputs": [
    {
     "name": "stdout",
     "output_type": "stream",
     "text": [
      "[BaggingClassifier(base_estimator=DecisionTreeClassifier(), max_features=2,\n",
      "                  max_samples=0.5, n_estimators=30)]\n"
     ]
    }
   ],
   "source": [
    "open_file = open(\"fea.pkl\", \"rb\")\n",
    "loaded_list = pickle.load(open_file)\n",
    "open_file.close()\n",
    "print(loaded_list)"
   ]
  },
  {
   "cell_type": "code",
   "execution_count": 72,
   "id": "24040083-2e64-418e-9b3a-7ae559b88448",
   "metadata": {},
   "outputs": [
    {
     "name": "stdout",
     "output_type": "stream",
     "text": [
      "[17  4]\n",
      "[0.8065934065934066, 0.631578947368421, ['concave points error', 'mean smoothness']]\n",
      "[ 1 28]\n",
      "[0.8153846153846154, 0.6754385964912281, ['mean texture', 'worst symmetry']]\n",
      "[1 0]\n",
      "[0.9054945054945055, 0.8245614035087719, ['mean texture', 'mean radius']]\n",
      "[26 28]\n",
      "[0.9010989010989011, 0.8070175438596491, ['worst concavity', 'worst symmetry']]\n",
      "[2 5]\n",
      "[0.9208791208791208, 0.8508771929824561, ['mean perimeter', 'mean compactness']]\n",
      "[14 12]\n",
      "[0.843956043956044, 0.7807017543859649, ['smoothness error', 'perimeter error']]\n",
      "[28  4]\n",
      "[0.7758241758241758, 0.6052631578947368, ['worst symmetry', 'mean smoothness']]\n",
      "[9 5]\n",
      "[0.8725274725274725, 0.8508771929824561, ['mean fractal dimension', 'mean compactness']]\n",
      "[22 23]\n",
      "[0.9406593406593406, 0.8859649122807017, ['worst perimeter', 'worst area']]\n",
      "[29  8]\n",
      "[0.7802197802197802, 0.6842105263157895, ['worst fractal dimension', 'mean symmetry']]\n",
      "[28 26]\n",
      "[0.8703296703296703, 0.8508771929824561, ['worst symmetry', 'worst concavity']]\n",
      "[26 20]\n",
      "[0.9494505494505494, 0.8771929824561403, ['worst concavity', 'worst radius']]\n",
      "[ 0 25]\n",
      "[0.9120879120879121, 0.8245614035087719, ['mean radius', 'worst compactness']]\n",
      "[20  1]\n",
      "[0.9494505494505494, 0.9385964912280702, ['worst radius', 'mean texture']]\n",
      "[8 3]\n",
      "[0.9186813186813186, 0.8508771929824561, ['mean symmetry', 'mean area']]\n",
      "[11  7]\n",
      "[0.9120879120879121, 0.8596491228070176, ['texture error', 'mean concave points']]\n",
      "[ 9 10]\n",
      "[0.8219780219780219, 0.8157894736842105, ['mean fractal dimension', 'radius error']]\n",
      "[7 2]\n",
      "[0.9318681318681319, 0.8771929824561403, ['mean concave points', 'mean perimeter']]\n",
      "[11  5]\n",
      "[0.8461538461538461, 0.7894736842105263, ['texture error', 'mean compactness']]\n",
      "[19 26]\n",
      "[0.8813186813186813, 0.8245614035087719, ['fractal dimension error', 'worst concavity']]\n",
      "[13 18]\n",
      "[0.8901098901098901, 0.8157894736842105, ['area error', 'symmetry error']]\n",
      "[21  5]\n",
      "[0.8505494505494505, 0.8333333333333334, ['worst texture', 'mean compactness']]\n",
      "[24 27]\n",
      "[0.9318681318681319, 0.8859649122807017, ['worst smoothness', 'worst concave points']]\n",
      "[ 3 20]\n",
      "[0.9340659340659341, 0.9035087719298246, ['mean area', 'worst radius']]\n",
      "[25  5]\n",
      "[0.865934065934066, 0.6754385964912281, ['worst compactness', 'mean compactness']]\n",
      "[ 5 23]\n",
      "[0.9582417582417583, 0.8947368421052632, ['mean compactness', 'worst area']]\n",
      "[ 3 13]\n",
      "[0.9054945054945055, 0.7894736842105263, ['mean area', 'area error']]\n",
      "[3 6]\n",
      "[0.9230769230769231, 0.8771929824561403, ['mean area', 'mean concavity']]\n",
      "[16 27]\n",
      "[0.9274725274725275, 0.8771929824561403, ['concavity error', 'worst concave points']]\n",
      "[6 3]\n",
      "[0.945054945054945, 0.868421052631579, ['mean concavity', 'mean area']]\n"
     ]
    }
   ],
   "source": [
    "df = []\n",
    "for estimator, features in zip(bag_clf.estimators_, bag_clf.estimators_features_):\n",
    "    print(features)\n",
    "    y_pred_train = estimator.predict(X_train.iloc[:, features])\n",
    "    y_pred_test = estimator.predict(X_test.iloc[:, features])\n",
    "    acc_train = accuracy_score(y_train, y_pred_train)\n",
    "    acc_test = accuracy_score(y_test, y_pred_test)\n",
    "    features_names = [X.columns[features[0]], X.columns[features[1]]]\n",
    "    row = [acc_train, acc_test, features_names]\n",
    "    print(row)\n",
    "    df.append(row)\n",
    "df = pd.DataFrame(df, columns = ['train_acc', 'test_acc', 'features_names'])"
   ]
  },
  {
   "cell_type": "code",
   "execution_count": 82,
   "id": "150afc85-5554-44c1-9a1f-7124940d76fe",
   "metadata": {},
   "outputs": [],
   "source": [
    "df.sort_values(['train_acc', 'test_acc'], ascending=[False, False], inplace=True)"
   ]
  },
  {
   "cell_type": "code",
   "execution_count": 83,
   "id": "612258e2-8756-4cd8-8571-b84de33ddf9a",
   "metadata": {},
   "outputs": [
    {
     "data": {
      "text/html": [
       "<div>\n",
       "<style scoped>\n",
       "    .dataframe tbody tr th:only-of-type {\n",
       "        vertical-align: middle;\n",
       "    }\n",
       "\n",
       "    .dataframe tbody tr th {\n",
       "        vertical-align: top;\n",
       "    }\n",
       "\n",
       "    .dataframe thead th {\n",
       "        text-align: right;\n",
       "    }\n",
       "</style>\n",
       "<table border=\"1\" class=\"dataframe\">\n",
       "  <thead>\n",
       "    <tr style=\"text-align: right;\">\n",
       "      <th></th>\n",
       "      <th>train_acc</th>\n",
       "      <th>test_acc</th>\n",
       "      <th>features_names</th>\n",
       "    </tr>\n",
       "  </thead>\n",
       "  <tbody>\n",
       "    <tr>\n",
       "      <th>25</th>\n",
       "      <td>0.958242</td>\n",
       "      <td>0.894737</td>\n",
       "      <td>[mean compactness, worst area]</td>\n",
       "    </tr>\n",
       "    <tr>\n",
       "      <th>13</th>\n",
       "      <td>0.949451</td>\n",
       "      <td>0.938596</td>\n",
       "      <td>[worst radius, mean texture]</td>\n",
       "    </tr>\n",
       "    <tr>\n",
       "      <th>11</th>\n",
       "      <td>0.949451</td>\n",
       "      <td>0.877193</td>\n",
       "      <td>[worst concavity, worst radius]</td>\n",
       "    </tr>\n",
       "    <tr>\n",
       "      <th>29</th>\n",
       "      <td>0.945055</td>\n",
       "      <td>0.868421</td>\n",
       "      <td>[mean concavity, mean area]</td>\n",
       "    </tr>\n",
       "    <tr>\n",
       "      <th>8</th>\n",
       "      <td>0.940659</td>\n",
       "      <td>0.885965</td>\n",
       "      <td>[worst perimeter, worst area]</td>\n",
       "    </tr>\n",
       "    <tr>\n",
       "      <th>23</th>\n",
       "      <td>0.934066</td>\n",
       "      <td>0.903509</td>\n",
       "      <td>[mean area, worst radius]</td>\n",
       "    </tr>\n",
       "    <tr>\n",
       "      <th>22</th>\n",
       "      <td>0.931868</td>\n",
       "      <td>0.885965</td>\n",
       "      <td>[worst smoothness, worst concave points]</td>\n",
       "    </tr>\n",
       "    <tr>\n",
       "      <th>17</th>\n",
       "      <td>0.931868</td>\n",
       "      <td>0.877193</td>\n",
       "      <td>[mean concave points, mean perimeter]</td>\n",
       "    </tr>\n",
       "    <tr>\n",
       "      <th>28</th>\n",
       "      <td>0.927473</td>\n",
       "      <td>0.877193</td>\n",
       "      <td>[concavity error, worst concave points]</td>\n",
       "    </tr>\n",
       "    <tr>\n",
       "      <th>27</th>\n",
       "      <td>0.923077</td>\n",
       "      <td>0.877193</td>\n",
       "      <td>[mean area, mean concavity]</td>\n",
       "    </tr>\n",
       "    <tr>\n",
       "      <th>4</th>\n",
       "      <td>0.920879</td>\n",
       "      <td>0.850877</td>\n",
       "      <td>[mean perimeter, mean compactness]</td>\n",
       "    </tr>\n",
       "    <tr>\n",
       "      <th>14</th>\n",
       "      <td>0.918681</td>\n",
       "      <td>0.850877</td>\n",
       "      <td>[mean symmetry, mean area]</td>\n",
       "    </tr>\n",
       "    <tr>\n",
       "      <th>15</th>\n",
       "      <td>0.912088</td>\n",
       "      <td>0.859649</td>\n",
       "      <td>[texture error, mean concave points]</td>\n",
       "    </tr>\n",
       "    <tr>\n",
       "      <th>12</th>\n",
       "      <td>0.912088</td>\n",
       "      <td>0.824561</td>\n",
       "      <td>[mean radius, worst compactness]</td>\n",
       "    </tr>\n",
       "    <tr>\n",
       "      <th>2</th>\n",
       "      <td>0.905495</td>\n",
       "      <td>0.824561</td>\n",
       "      <td>[mean texture, mean radius]</td>\n",
       "    </tr>\n",
       "    <tr>\n",
       "      <th>26</th>\n",
       "      <td>0.905495</td>\n",
       "      <td>0.789474</td>\n",
       "      <td>[mean area, area error]</td>\n",
       "    </tr>\n",
       "    <tr>\n",
       "      <th>3</th>\n",
       "      <td>0.901099</td>\n",
       "      <td>0.807018</td>\n",
       "      <td>[worst concavity, worst symmetry]</td>\n",
       "    </tr>\n",
       "    <tr>\n",
       "      <th>20</th>\n",
       "      <td>0.890110</td>\n",
       "      <td>0.815789</td>\n",
       "      <td>[area error, symmetry error]</td>\n",
       "    </tr>\n",
       "    <tr>\n",
       "      <th>19</th>\n",
       "      <td>0.881319</td>\n",
       "      <td>0.824561</td>\n",
       "      <td>[fractal dimension error, worst concavity]</td>\n",
       "    </tr>\n",
       "    <tr>\n",
       "      <th>7</th>\n",
       "      <td>0.872527</td>\n",
       "      <td>0.850877</td>\n",
       "      <td>[mean fractal dimension, mean compactness]</td>\n",
       "    </tr>\n",
       "    <tr>\n",
       "      <th>10</th>\n",
       "      <td>0.870330</td>\n",
       "      <td>0.850877</td>\n",
       "      <td>[worst symmetry, worst concavity]</td>\n",
       "    </tr>\n",
       "    <tr>\n",
       "      <th>24</th>\n",
       "      <td>0.865934</td>\n",
       "      <td>0.675439</td>\n",
       "      <td>[worst compactness, mean compactness]</td>\n",
       "    </tr>\n",
       "    <tr>\n",
       "      <th>21</th>\n",
       "      <td>0.850549</td>\n",
       "      <td>0.833333</td>\n",
       "      <td>[worst texture, mean compactness]</td>\n",
       "    </tr>\n",
       "    <tr>\n",
       "      <th>18</th>\n",
       "      <td>0.846154</td>\n",
       "      <td>0.789474</td>\n",
       "      <td>[texture error, mean compactness]</td>\n",
       "    </tr>\n",
       "    <tr>\n",
       "      <th>5</th>\n",
       "      <td>0.843956</td>\n",
       "      <td>0.780702</td>\n",
       "      <td>[smoothness error, perimeter error]</td>\n",
       "    </tr>\n",
       "    <tr>\n",
       "      <th>16</th>\n",
       "      <td>0.821978</td>\n",
       "      <td>0.815789</td>\n",
       "      <td>[mean fractal dimension, radius error]</td>\n",
       "    </tr>\n",
       "    <tr>\n",
       "      <th>1</th>\n",
       "      <td>0.815385</td>\n",
       "      <td>0.675439</td>\n",
       "      <td>[mean texture, worst symmetry]</td>\n",
       "    </tr>\n",
       "    <tr>\n",
       "      <th>0</th>\n",
       "      <td>0.806593</td>\n",
       "      <td>0.631579</td>\n",
       "      <td>[concave points error, mean smoothness]</td>\n",
       "    </tr>\n",
       "    <tr>\n",
       "      <th>9</th>\n",
       "      <td>0.780220</td>\n",
       "      <td>0.684211</td>\n",
       "      <td>[worst fractal dimension, mean symmetry]</td>\n",
       "    </tr>\n",
       "    <tr>\n",
       "      <th>6</th>\n",
       "      <td>0.775824</td>\n",
       "      <td>0.605263</td>\n",
       "      <td>[worst symmetry, mean smoothness]</td>\n",
       "    </tr>\n",
       "  </tbody>\n",
       "</table>\n",
       "</div>"
      ],
      "text/plain": [
       "    train_acc  test_acc                              features_names\n",
       "25   0.958242  0.894737              [mean compactness, worst area]\n",
       "13   0.949451  0.938596                [worst radius, mean texture]\n",
       "11   0.949451  0.877193             [worst concavity, worst radius]\n",
       "29   0.945055  0.868421                 [mean concavity, mean area]\n",
       "8    0.940659  0.885965               [worst perimeter, worst area]\n",
       "23   0.934066  0.903509                   [mean area, worst radius]\n",
       "22   0.931868  0.885965    [worst smoothness, worst concave points]\n",
       "17   0.931868  0.877193       [mean concave points, mean perimeter]\n",
       "28   0.927473  0.877193     [concavity error, worst concave points]\n",
       "27   0.923077  0.877193                 [mean area, mean concavity]\n",
       "4    0.920879  0.850877          [mean perimeter, mean compactness]\n",
       "14   0.918681  0.850877                  [mean symmetry, mean area]\n",
       "15   0.912088  0.859649        [texture error, mean concave points]\n",
       "12   0.912088  0.824561            [mean radius, worst compactness]\n",
       "2    0.905495  0.824561                 [mean texture, mean radius]\n",
       "26   0.905495  0.789474                     [mean area, area error]\n",
       "3    0.901099  0.807018           [worst concavity, worst symmetry]\n",
       "20   0.890110  0.815789                [area error, symmetry error]\n",
       "19   0.881319  0.824561  [fractal dimension error, worst concavity]\n",
       "7    0.872527  0.850877  [mean fractal dimension, mean compactness]\n",
       "10   0.870330  0.850877           [worst symmetry, worst concavity]\n",
       "24   0.865934  0.675439       [worst compactness, mean compactness]\n",
       "21   0.850549  0.833333           [worst texture, mean compactness]\n",
       "18   0.846154  0.789474           [texture error, mean compactness]\n",
       "5    0.843956  0.780702         [smoothness error, perimeter error]\n",
       "16   0.821978  0.815789      [mean fractal dimension, radius error]\n",
       "1    0.815385  0.675439              [mean texture, worst symmetry]\n",
       "0    0.806593  0.631579     [concave points error, mean smoothness]\n",
       "9    0.780220  0.684211    [worst fractal dimension, mean symmetry]\n",
       "6    0.775824  0.605263           [worst symmetry, mean smoothness]"
      ]
     },
     "execution_count": 83,
     "metadata": {},
     "output_type": "execute_result"
    }
   ],
   "source": [
    "df"
   ]
  },
  {
   "cell_type": "code",
   "execution_count": 85,
   "id": "dda074f7-635a-4253-bff3-76f28a2a063e",
   "metadata": {},
   "outputs": [],
   "source": [
    "open_file = open(\"acc_fea_rank.pkl\", \"wb\")\n",
    "pickle.dump(df, open_file)\n",
    "open_file.close()"
   ]
  },
  {
   "cell_type": "code",
   "execution_count": null,
   "id": "def414c6-478d-4a95-a078-b59390fed5fa",
   "metadata": {},
   "outputs": [],
   "source": [
    "open_file = open(\"fea.pkl\", \"rb\")\n",
    "loaded_list = pickle.load(open_file)\n",
    "open_file.close()\n",
    "print(loaded_list)"
   ]
  }
 ],
 "metadata": {
  "kernelspec": {
   "display_name": "Python 3",
   "language": "python",
   "name": "python3"
  },
  "language_info": {
   "codemirror_mode": {
    "name": "ipython",
    "version": 3
   },
   "file_extension": ".py",
   "mimetype": "text/x-python",
   "name": "python",
   "nbconvert_exporter": "python",
   "pygments_lexer": "ipython3",
   "version": "3.8.8"
  }
 },
 "nbformat": 4,
 "nbformat_minor": 5
}
