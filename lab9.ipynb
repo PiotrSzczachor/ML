{
 "cells": [
  {
   "cell_type": "code",
   "execution_count": 660,
   "id": "50435c6e-fd4c-42c0-9bda-da5b1f4c096b",
   "metadata": {},
   "outputs": [],
   "source": [
    "from sklearn.datasets import load_iris\n",
    "import pandas as pd\n",
    "import numpy as np\n",
    "iris = load_iris(as_frame=True)"
   ]
  },
  {
   "cell_type": "code",
   "execution_count": 661,
   "id": "0907b4c5-43fb-4bd8-b14a-67ba8ca9d3ea",
   "metadata": {},
   "outputs": [
    {
     "data": {
      "text/plain": [
       "<AxesSubplot:xlabel='petal length (cm)', ylabel='petal width (cm)'>"
      ]
     },
     "execution_count": 661,
     "metadata": {},
     "output_type": "execute_result"
    },
    {
     "data": {
      "image/png": "[encoded data removed]",
      "text/plain": [
       "<Figure size 432x288 with 2 Axes>"
      ]
     },
     "metadata": {
      "needs_background": "light"
     },
     "output_type": "display_data"
    }
   ],
   "source": [
    "pd.concat([iris.data, iris.target], axis=1).plot.scatter(\n",
    "x='petal length (cm)',\n",
    "y='petal width (cm)',\n",
    "c='target',\n",
    "colormap='viridis'\n",
    ")"
   ]
  },
  {
   "cell_type": "code",
   "execution_count": 662,
   "id": "d3f5bc11-628a-4091-a331-eaaae2e859c2",
   "metadata": {},
   "outputs": [],
   "source": [
    "X = iris.data[['petal length (cm)', 'petal width (cm)']]"
   ]
  },
  {
   "cell_type": "code",
   "execution_count": 663,
   "id": "d9db4e6a-5c9b-481c-a89a-9b15f6f1234f",
   "metadata": {},
   "outputs": [
    {
     "data": {
      "text/html": [
       "<div>\n",
       "<style scoped>\n",
       "    .dataframe tbody tr th:only-of-type {\n",
       "        vertical-align: middle;\n",
       "    }\n",
       "\n",
       "    .dataframe tbody tr th {\n",
       "        vertical-align: top;\n",
       "    }\n",
       "\n",
       "    .dataframe thead th {\n",
       "        text-align: right;\n",
       "    }\n",
       "</style>\n",
       "<table border=\"1\" class=\"dataframe\">\n",
       "  <thead>\n",
       "    <tr style=\"text-align: right;\">\n",
       "      <th></th>\n",
       "      <th>petal length (cm)</th>\n",
       "      <th>petal width (cm)</th>\n",
       "    </tr>\n",
       "  </thead>\n",
       "  <tbody>\n",
       "    <tr>\n",
       "      <th>0</th>\n",
       "      <td>1.4</td>\n",
       "      <td>0.2</td>\n",
       "    </tr>\n",
       "    <tr>\n",
       "      <th>1</th>\n",
       "      <td>1.4</td>\n",
       "      <td>0.2</td>\n",
       "    </tr>\n",
       "    <tr>\n",
       "      <th>2</th>\n",
       "      <td>1.3</td>\n",
       "      <td>0.2</td>\n",
       "    </tr>\n",
       "    <tr>\n",
       "      <th>3</th>\n",
       "      <td>1.5</td>\n",
       "      <td>0.2</td>\n",
       "    </tr>\n",
       "    <tr>\n",
       "      <th>4</th>\n",
       "      <td>1.4</td>\n",
       "      <td>0.2</td>\n",
       "    </tr>\n",
       "  </tbody>\n",
       "</table>\n",
       "</div>"
      ],
      "text/plain": [
       "   petal length (cm)  petal width (cm)\n",
       "0                1.4               0.2\n",
       "1                1.4               0.2\n",
       "2                1.3               0.2\n",
       "3                1.5               0.2\n",
       "4                1.4               0.2"
      ]
     },
     "execution_count": 663,
     "metadata": {},
     "output_type": "execute_result"
    }
   ],
   "source": [
    "X.head()"
   ]
  },
  {
   "cell_type": "code",
   "execution_count": 664,
   "id": "5382925d-154a-4d5c-9993-950cb4f94828",
   "metadata": {},
   "outputs": [],
   "source": [
    "from sklearn.model_selection import train_test_split\n",
    "from sklearn.linear_model import Perceptron\n",
    "from sklearn.metrics import accuracy_score\n",
    "\n",
    "acc_list = []\n",
    "weights_list = []\n",
    "\n",
    "for i in range(3):\n",
    "    y = (iris.target == i).astype(int)\n",
    "    X_train, X_test, y_train, y_test = train_test_split(X, y, test_size=0.2)\n",
    "    perceptron = Perceptron()\n",
    "    perceptron.fit(X_train, y_train)\n",
    "    y_pred_train = perceptron.predict(X_train)\n",
    "    y_pred_test = perceptron.predict(X_test)\n",
    "    train_acc = accuracy_score(y_train, y_pred_train)\n",
    "    test_acc = accuracy_score(y_test, y_pred_test)\n",
    "    acc = (train_acc, test_acc)\n",
    "    weight = (perceptron.intercept_[0], perceptron.coef_[0][0], perceptron.coef_[0][1])\n",
    "    acc_list.append(acc)\n",
    "    weights_list.append(weight)"
   ]
  },
  {
   "cell_type": "code",
   "execution_count": 665,
   "id": "1d41f46e-9977-4864-b5c5-afa45f0bbf1a",
   "metadata": {},
   "outputs": [
    {
     "data": {
      "text/plain": [
       "[(1.0, 1.0),\n",
       " (0.7833333333333333, 0.8),\n",
       " (0.7166666666666667, 0.7333333333333333)]"
      ]
     },
     "execution_count": 665,
     "metadata": {},
     "output_type": "execute_result"
    }
   ],
   "source": [
    "acc_list"
   ]
  },
  {
   "cell_type": "code",
   "execution_count": 666,
   "id": "e1abc35e-43da-482b-93ed-0a5412aa94b5",
   "metadata": {},
   "outputs": [
    {
     "data": {
      "text/plain": [
       "[(4.0, -0.9999999999999996, -2.9999999999999996),\n",
       " (-7.0, 5.800000000000007, -12.399999999999995),\n",
       " (-30.0, 2.59999999999999, 19.300000000000004)]"
      ]
     },
     "execution_count": 666,
     "metadata": {},
     "output_type": "execute_result"
    }
   ],
   "source": [
    "weights_list"
   ]
  },
  {
   "cell_type": "code",
   "execution_count": 667,
   "id": "f91a9c4b-4a47-438a-8d46-3b02e43c0925",
   "metadata": {},
   "outputs": [],
   "source": [
    "import pickle\n",
    "open_file = open(\"per_acc.pkl\", \"wb\")\n",
    "pickle.dump(acc_list, open_file)\n",
    "open_file.close()"
   ]
  },
  {
   "cell_type": "code",
   "execution_count": 668,
   "id": "0c2529ad-790c-4e42-a5ac-e23e3f6aed07",
   "metadata": {},
   "outputs": [
    {
     "name": "stdout",
     "output_type": "stream",
     "text": [
      "[(1.0, 1.0), (0.7833333333333333, 0.8), (0.7166666666666667, 0.7333333333333333)]\n"
     ]
    }
   ],
   "source": [
    "open_file = open(\"per_acc.pkl\", \"rb\")\n",
    "loaded_list = pickle.load(open_file)\n",
    "open_file.close()\n",
    "\n",
    "print(loaded_list)"
   ]
  },
  {
   "cell_type": "code",
   "execution_count": 669,
   "id": "fedde4ff-4ab8-4963-82ad-303f8fa05cbc",
   "metadata": {},
   "outputs": [],
   "source": [
    "open_file = open(\"per_wght.pkl\", \"wb\")\n",
    "pickle.dump(weights_list, open_file)\n",
    "open_file.close()"
   ]
  },
  {
   "cell_type": "code",
   "execution_count": 670,
   "id": "e0b5c379-e983-40aa-9ef1-8799635e3c57",
   "metadata": {},
   "outputs": [
    {
     "name": "stdout",
     "output_type": "stream",
     "text": [
      "[(4.0, -0.9999999999999996, -2.9999999999999996), (-7.0, 5.800000000000007, -12.399999999999995), (-30.0, 2.59999999999999, 19.300000000000004)]\n"
     ]
    }
   ],
   "source": [
    "open_file = open(\"per_wght.pkl\", \"rb\")\n",
    "loaded_list = pickle.load(open_file)\n",
    "open_file.close()\n",
    "\n",
    "print(loaded_list)"
   ]
  },
  {
   "cell_type": "code",
   "execution_count": 671,
   "id": "366e741d-cfe1-4ed8-979a-e8a417990c47",
   "metadata": {},
   "outputs": [],
   "source": [
    "X = np.array([[0, 0],\n",
    "[0, 1],\n",
    "[1, 0],\n",
    "[1, 1]])\n",
    "y = np.array([0,\n",
    "1,\n",
    "1,\n",
    "0])"
   ]
  },
  {
   "cell_type": "code",
   "execution_count": 672,
   "id": "424935b2-978b-4a1b-8e24-4f966f1f459a",
   "metadata": {},
   "outputs": [
    {
     "data": {
      "text/plain": [
       "Perceptron()"
      ]
     },
     "execution_count": 672,
     "metadata": {},
     "output_type": "execute_result"
    }
   ],
   "source": [
    "perceptron = Perceptron()\n",
    "perceptron.fit(X,y)"
   ]
  },
  {
   "cell_type": "code",
   "execution_count": 673,
   "id": "d07068ed-3544-4b81-b984-ce256106eef6",
   "metadata": {},
   "outputs": [
    {
     "data": {
      "text/plain": [
       "array([0, 0, 0, 0])"
      ]
     },
     "execution_count": 673,
     "metadata": {},
     "output_type": "execute_result"
    }
   ],
   "source": [
    "perceptron.predict(X)"
   ]
  },
  {
   "cell_type": "code",
   "execution_count": 674,
   "id": "e9901150-6ba4-402e-bcb7-5c5eafd660c2",
   "metadata": {},
   "outputs": [
    {
     "data": {
      "text/plain": [
       "array([0.])"
      ]
     },
     "execution_count": 674,
     "metadata": {},
     "output_type": "execute_result"
    }
   ],
   "source": [
    "perceptron.intercept_"
   ]
  },
  {
   "cell_type": "code",
   "execution_count": 675,
   "id": "096dc0bc-0e18-47ff-9a1e-72dba4163453",
   "metadata": {},
   "outputs": [
    {
     "data": {
      "text/plain": [
       "array([[0., 0.]])"
      ]
     },
     "execution_count": 675,
     "metadata": {},
     "output_type": "execute_result"
    }
   ],
   "source": [
    "perceptron.coef_"
   ]
  },
  {
   "cell_type": "code",
   "execution_count": 676,
   "id": "7d59a4a8-b832-4de1-a755-0df2133e377a",
   "metadata": {},
   "outputs": [],
   "source": [
    "import tensorflow as tf\n",
    "from tensorflow import keras\n",
    "model = tf.keras.Sequential()\n",
    "model.add(tf.keras.layers.Dense(2, activation='relu'))\n",
    "model.add(tf.keras.layers.Dense(1, activation='sigmoid'))"
   ]
  },
  {
   "cell_type": "code",
   "execution_count": 677,
   "id": "920f0ed6-2515-437f-8a91-3ecb1eb899a1",
   "metadata": {},
   "outputs": [],
   "source": [
    "model.compile(optimizer='sgd', loss='binary_crossentropy')"
   ]
  },
  {
   "cell_type": "code",
   "execution_count": 678,
   "id": "bf87296f-6752-4da3-8d46-1756673e9edb",
   "metadata": {},
   "outputs": [
    {
     "name": "stdout",
     "output_type": "stream",
     "text": [
      "[0.7200224995613098, 0.7194325923919678, 0.718960165977478, 0.7186121344566345, 0.7182677984237671, 0.717927098274231, 0.7175900340080261, 0.7172565460205078, 0.7169265151023865, 0.7165999412536621, 0.7162768840789795, 0.7159570455551147, 0.715640664100647, 0.7153274416923523, 0.7150174379348755, 0.7147107720375061, 0.7144070863723755, 0.7141066789627075, 0.7138091325759888, 0.7135147452354431, 0.7132232189178467, 0.7129347324371338, 0.7126491069793701, 0.7123663425445557, 0.7120863795280457, 0.7118092179298401, 0.7115347385406494, 0.7112630605697632, 0.7109940648078918, 0.7107276916503906, 0.71046382188797, 0.7102025747299194, 0.7099438905715942, 0.7096877098083496, 0.7094339728355408, 0.7091826796531677, 0.7089337110519409, 0.7086872458457947, 0.7084430456161499, 0.7082011699676514, 0.7079615592956543, 0.7077242136001587, 0.707489013671875, 0.7072560787200928, 0.7070253491401672, 0.7067967057228088, 0.7065701484680176, 0.7063456773757935, 0.7061233520507812, 0.7059029340744019, 0.7056845426559448, 0.7054681777954102, 0.7052537202835083, 0.7050411701202393, 0.704830527305603, 0.7046217322349548, 0.7044148445129395, 0.7042098045349121, 0.704006552696228, 0.7038050293922424, 0.7036052942276001, 0.7034072875976562, 0.7032110095024109, 0.7030164003372192, 0.7028235197067261, 0.7026321887969971, 0.7024425268173218, 0.7022545337677002, 0.7020680904388428, 0.7018831968307495, 0.7016998529434204, 0.7015180587768555, 0.7013378143310547, 0.7011590003967285, 0.700981616973877, 0.7008057832717896, 0.700631320476532, 0.700458288192749, 0.7002866864204407, 0.7001164555549622, 0.6999475955963135, 0.6997800469398499, 0.6996138095855713, 0.6994489431381226, 0.6992853879928589, 0.6991230845451355, 0.6989619731903076, 0.6988022327423096, 0.698643684387207, 0.698486328125, 0.6983302235603333, 0.6981752514839172, 0.6980215311050415, 0.6978689432144165, 0.6977174878120422, 0.6975671052932739, 0.6974179148674011, 0.697269856929779, 0.6971228122711182, 0.696976900100708]\n"
     ]
    }
   ],
   "source": [
    "history = model.fit(X, y, epochs=100, verbose=False)\n",
    "print(history.history['loss'])"
   ]
  },
  {
   "cell_type": "code",
   "execution_count": 679,
   "id": "29040cfa-b345-4615-9706-b1b67b7ce999",
   "metadata": {},
   "outputs": [
    {
     "name": "stdout",
     "output_type": "stream",
     "text": [
      "Model: \"sequential_824\"\n",
      "_________________________________________________________________\n",
      "Layer (type)                 Output Shape              Param #   \n",
      "=================================================================\n",
      "dense_1664 (Dense)           (None, 2)                 6         \n",
      "_________________________________________________________________\n",
      "dense_1665 (Dense)           (None, 1)                 3         \n",
      "=================================================================\n",
      "Total params: 9\n",
      "Trainable params: 9\n",
      "Non-trainable params: 0\n",
      "_________________________________________________________________\n"
     ]
    }
   ],
   "source": [
    "model.summary()"
   ]
  },
  {
   "cell_type": "code",
   "execution_count": 680,
   "id": "93bb9823-0e8b-465b-8c42-8d49ae99cd0c",
   "metadata": {},
   "outputs": [
    {
     "name": "stdout",
     "output_type": "stream",
     "text": [
      "WARNING:tensorflow:10 out of the last 11 calls to <function Model.make_predict_function.<locals>.predict_function at 0x0000012A275FD310> triggered tf.function retracing. Tracing is expensive and the excessive number of tracings could be due to (1) creating @tf.function repeatedly in a loop, (2) passing tensors with different shapes, (3) passing Python objects instead of tensors. For (1), please define your @tf.function outside of the loop. For (2), @tf.function has experimental_relax_shapes=True option that relaxes argument shapes that can avoid unnecessary retracing. For (3), please refer to https://www.tensorflow.org/tutorials/customization/performance#python_or_tensor_args and https://www.tensorflow.org/api_docs/python/tf/function for  more details.\n"
     ]
    },
    {
     "data": {
      "text/plain": [
       "array([[0.51702094],\n",
       "       [0.48592463],\n",
       "       [0.4206018 ],\n",
       "       [0.37610653]], dtype=float32)"
      ]
     },
     "execution_count": 680,
     "metadata": {},
     "output_type": "execute_result"
    }
   ],
   "source": [
    "model.predict(X)"
   ]
  },
  {
   "cell_type": "code",
   "execution_count": 686,
   "id": "4806e561-d537-43ca-8fcd-94beac1c91ca",
   "metadata": {},
   "outputs": [
    {
     "name": "stdout",
     "output_type": "stream",
     "text": [
      "WARNING:tensorflow:9 out of the last 11 calls to <function Model.make_predict_function.<locals>.predict_function at 0x0000012A2EC951F0> triggered tf.function retracing. Tracing is expensive and the excessive number of tracings could be due to (1) creating @tf.function repeatedly in a loop, (2) passing tensors with different shapes, (3) passing Python objects instead of tensors. For (1), please define your @tf.function outside of the loop. For (2), @tf.function has experimental_relax_shapes=True option that relaxes argument shapes that can avoid unnecessary retracing. For (3), please refer to https://www.tensorflow.org/tutorials/customization/performance#python_or_tensor_args and https://www.tensorflow.org/api_docs/python/tf/function for  more details.\n",
      "WARNING:tensorflow:9 out of the last 11 calls to <function Model.make_predict_function.<locals>.predict_function at 0x0000012A240A58B0> triggered tf.function retracing. Tracing is expensive and the excessive number of tracings could be due to (1) creating @tf.function repeatedly in a loop, (2) passing tensors with different shapes, (3) passing Python objects instead of tensors. For (1), please define your @tf.function outside of the loop. For (2), @tf.function has experimental_relax_shapes=True option that relaxes argument shapes that can avoid unnecessary retracing. For (3), please refer to https://www.tensorflow.org/tutorials/customization/performance#python_or_tensor_args and https://www.tensorflow.org/api_docs/python/tf/function for  more details.\n",
      "WARNING:tensorflow:9 out of the last 11 calls to <function Model.make_predict_function.<locals>.predict_function at 0x0000012A2A399F70> triggered tf.function retracing. Tracing is expensive and the excessive number of tracings could be due to (1) creating @tf.function repeatedly in a loop, (2) passing tensors with different shapes, (3) passing Python objects instead of tensors. For (1), please define your @tf.function outside of the loop. For (2), @tf.function has experimental_relax_shapes=True option that relaxes argument shapes that can avoid unnecessary retracing. For (3), please refer to https://www.tensorflow.org/tutorials/customization/performance#python_or_tensor_args and https://www.tensorflow.org/api_docs/python/tf/function for  more details.\n",
      "WARNING:tensorflow:9 out of the last 11 calls to <function Model.make_predict_function.<locals>.predict_function at 0x0000012A28E40430> triggered tf.function retracing. Tracing is expensive and the excessive number of tracings could be due to (1) creating @tf.function repeatedly in a loop, (2) passing tensors with different shapes, (3) passing Python objects instead of tensors. For (1), please define your @tf.function outside of the loop. For (2), @tf.function has experimental_relax_shapes=True option that relaxes argument shapes that can avoid unnecessary retracing. For (3), please refer to https://www.tensorflow.org/tutorials/customization/performance#python_or_tensor_args and https://www.tensorflow.org/api_docs/python/tf/function for  more details.\n",
      "WARNING:tensorflow:10 out of the last 12 calls to <function Model.make_predict_function.<locals>.predict_function at 0x0000012A23B62F70> triggered tf.function retracing. Tracing is expensive and the excessive number of tracings could be due to (1) creating @tf.function repeatedly in a loop, (2) passing tensors with different shapes, (3) passing Python objects instead of tensors. For (1), please define your @tf.function outside of the loop. For (2), @tf.function has experimental_relax_shapes=True option that relaxes argument shapes that can avoid unnecessary retracing. For (3), please refer to https://www.tensorflow.org/tutorials/customization/performance#python_or_tensor_args and https://www.tensorflow.org/api_docs/python/tf/function for  more details.\n",
      "WARNING:tensorflow:10 out of the last 11 calls to <function Model.make_predict_function.<locals>.predict_function at 0x0000012A2264B1F0> triggered tf.function retracing. Tracing is expensive and the excessive number of tracings could be due to (1) creating @tf.function repeatedly in a loop, (2) passing tensors with different shapes, (3) passing Python objects instead of tensors. For (1), please define your @tf.function outside of the loop. For (2), @tf.function has experimental_relax_shapes=True option that relaxes argument shapes that can avoid unnecessary retracing. For (3), please refer to https://www.tensorflow.org/tutorials/customization/performance#python_or_tensor_args and https://www.tensorflow.org/api_docs/python/tf/function for  more details.\n",
      "WARNING:tensorflow:10 out of the last 11 calls to <function Model.make_predict_function.<locals>.predict_function at 0x0000012A23CFC9D0> triggered tf.function retracing. Tracing is expensive and the excessive number of tracings could be due to (1) creating @tf.function repeatedly in a loop, (2) passing tensors with different shapes, (3) passing Python objects instead of tensors. For (1), please define your @tf.function outside of the loop. For (2), @tf.function has experimental_relax_shapes=True option that relaxes argument shapes that can avoid unnecessary retracing. For (3), please refer to https://www.tensorflow.org/tutorials/customization/performance#python_or_tensor_args and https://www.tensorflow.org/api_docs/python/tf/function for  more details.\n",
      "WARNING:tensorflow:10 out of the last 11 calls to <function Model.make_predict_function.<locals>.predict_function at 0x0000012A302F3EE0> triggered tf.function retracing. Tracing is expensive and the excessive number of tracings could be due to (1) creating @tf.function repeatedly in a loop, (2) passing tensors with different shapes, (3) passing Python objects instead of tensors. For (1), please define your @tf.function outside of the loop. For (2), @tf.function has experimental_relax_shapes=True option that relaxes argument shapes that can avoid unnecessary retracing. For (3), please refer to https://www.tensorflow.org/tutorials/customization/performance#python_or_tensor_args and https://www.tensorflow.org/api_docs/python/tf/function for  more details.\n",
      "WARNING:tensorflow:10 out of the last 11 calls to <function Model.make_predict_function.<locals>.predict_function at 0x0000012A31A76430> triggered tf.function retracing. Tracing is expensive and the excessive number of tracings could be due to (1) creating @tf.function repeatedly in a loop, (2) passing tensors with different shapes, (3) passing Python objects instead of tensors. For (1), please define your @tf.function outside of the loop. For (2), @tf.function has experimental_relax_shapes=True option that relaxes argument shapes that can avoid unnecessary retracing. For (3), please refer to https://www.tensorflow.org/tutorials/customization/performance#python_or_tensor_args and https://www.tensorflow.org/api_docs/python/tf/function for  more details.\n",
      "WARNING:tensorflow:11 out of the last 12 calls to <function Model.make_predict_function.<locals>.predict_function at 0x0000012A2EF9A310> triggered tf.function retracing. Tracing is expensive and the excessive number of tracings could be due to (1) creating @tf.function repeatedly in a loop, (2) passing tensors with different shapes, (3) passing Python objects instead of tensors. For (1), please define your @tf.function outside of the loop. For (2), @tf.function has experimental_relax_shapes=True option that relaxes argument shapes that can avoid unnecessary retracing. For (3), please refer to https://www.tensorflow.org/tutorials/customization/performance#python_or_tensor_args and https://www.tensorflow.org/api_docs/python/tf/function for  more details.\n",
      "--- 9.009238719940186 seconds ---\n"
     ]
    }
   ],
   "source": [
    "import time\n",
    "start_time = time.time()\n",
    "while True:\n",
    "    model = tf.keras.Sequential()\n",
    "    adam = tf.keras.optimizers.Adam(learning_rate=0.1)\n",
    "    model.add(tf.keras.layers.Dense(2, activation='tanh'))\n",
    "    model.add(tf.keras.layers.Dense(1, activation='sigmoid'))\n",
    "    model.compile(optimizer=adam, loss='mae', metrics=[\"accuracy\"])\n",
    "    history = model.fit(X, y, epochs=100, verbose=False)\n",
    "    prediction = model.predict(X)\n",
    "    if prediction[0][0] < 0.1 and prediction[3][0] < 0.1 and prediction[1][0] > 0.9 and prediction[2][0] > 0.9:\n",
    "        break\n",
    "print(\"--- %s seconds ---\" % (time.time() - start_time))"
   ]
  },
  {
   "cell_type": "code",
   "execution_count": 682,
   "id": "ee4d3d2a-0348-4348-af99-05be8387283e",
   "metadata": {},
   "outputs": [
    {
     "name": "stdout",
     "output_type": "stream",
     "text": [
      "[[0.00322646]\n",
      " [0.9817691 ]\n",
      " [0.9985297 ]\n",
      " [0.00378338]]\n"
     ]
    }
   ],
   "source": [
    "print(model.predict(X))"
   ]
  },
  {
   "cell_type": "code",
   "execution_count": 683,
   "id": "b56e3a8f-5d73-4beb-bf97-5537e6ea818e",
   "metadata": {},
   "outputs": [
    {
     "data": {
      "text/plain": [
       "[array([[ 4.366791 ,  2.36186  ],\n",
       "        [-4.295105 , -2.3608797]], dtype=float32),\n",
       " array([-0.03943987,  2.3584697 ], dtype=float32),\n",
       " array([[ 5.08099  ],\n",
       "        [-4.1210494]], dtype=float32),\n",
       " array([3.9862373], dtype=float32)]"
      ]
     },
     "execution_count": 683,
     "metadata": {},
     "output_type": "execute_result"
    }
   ],
   "source": [
    "model.get_weights()"
   ]
  },
  {
   "cell_type": "code",
   "execution_count": 684,
   "id": "a923daca-8217-46e5-9a27-c3969380cb7e",
   "metadata": {},
   "outputs": [],
   "source": [
    "open_file = open(\"mlp_xor_weights.pkl\", \"wb\")\n",
    "pickle.dump(model.get_weights(), open_file)\n",
    "open_file.close()"
   ]
  },
  {
   "cell_type": "code",
   "execution_count": 685,
   "id": "4ed4bd4d-d5fb-43ff-80ae-e951be288781",
   "metadata": {},
   "outputs": [
    {
     "name": "stdout",
     "output_type": "stream",
     "text": [
      "[array([[ 4.366791 ,  2.36186  ],\n",
      "       [-4.295105 , -2.3608797]], dtype=float32), array([-0.03943987,  2.3584697 ], dtype=float32), array([[ 5.08099  ],\n",
      "       [-4.1210494]], dtype=float32), array([3.9862373], dtype=float32)]\n"
     ]
    }
   ],
   "source": [
    "open_file = open(\"mlp_xor_weights.pkl\", \"rb\")\n",
    "loaded_list = pickle.load(open_file)\n",
    "open_file.close()\n",
    "\n",
    "print(loaded_list)"
   ]
  }
 ],
 "metadata": {
  "kernelspec": {
   "display_name": "Python 3",
   "language": "python",
   "name": "python3"
  },
  "language_info": {
   "codemirror_mode": {
    "name": "ipython",
    "version": 3
   },
   "file_extension": ".py",
   "mimetype": "text/x-python",
   "name": "python",
   "nbconvert_exporter": "python",
   "pygments_lexer": "ipython3",
   "version": "3.8.8"
  }
 },
 "nbformat": 4,
 "nbformat_minor": 5
}
