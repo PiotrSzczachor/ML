{
 "cells": [
  {
   "cell_type": "code",
   "execution_count": 1,
   "id": "70b08653-c940-4048-859e-90c03f373d03",
   "metadata": {},
   "outputs": [],
   "source": [
    "from sklearn.datasets import fetch_openml \n",
    "import numpy as np\n",
    "import pandas as pd\n",
    "mnist = fetch_openml('mnist_784', version=1, as_frame=False) \n",
    "mnist.target = mnist.target.astype(np.uint8)\n",
    "X = mnist[\"data\"]\n",
    "y = mnist[\"target\"]"
   ]
  },
  {
   "cell_type": "code",
   "execution_count": 2,
   "id": "627f13d6-3db9-4679-8084-28d1bc9d3e86",
   "metadata": {},
   "outputs": [
    {
     "data": {
      "text/plain": [
       "array([[0., 0., 0., ..., 0., 0., 0.],\n",
       "       [0., 0., 0., ..., 0., 0., 0.],\n",
       "       [0., 0., 0., ..., 0., 0., 0.],\n",
       "       ...,\n",
       "       [0., 0., 0., ..., 0., 0., 0.],\n",
       "       [0., 0., 0., ..., 0., 0., 0.],\n",
       "       [0., 0., 0., ..., 0., 0., 0.]])"
      ]
     },
     "execution_count": 2,
     "metadata": {},
     "output_type": "execute_result"
    }
   ],
   "source": [
    "X"
   ]
  },
  {
   "cell_type": "code",
   "execution_count": 3,
   "id": "11a074a6-1991-460c-a4e2-a6028fe25560",
   "metadata": {},
   "outputs": [
    {
     "data": {
      "text/plain": [
       "array([5, 0, 4, ..., 4, 5, 6], dtype=uint8)"
      ]
     },
     "execution_count": 3,
     "metadata": {},
     "output_type": "execute_result"
    }
   ],
   "source": [
    "y"
   ]
  },
  {
   "cell_type": "code",
   "execution_count": 12,
   "id": "c5891207-3e1f-45a7-824c-eb0756a3a265",
   "metadata": {},
   "outputs": [
    {
     "name": "stdout",
     "output_type": "stream",
     "text": [
      "[0 4 7 ... 2 0 6]\n",
      "[6 4 7 ... 8 6 3]\n",
      "[4 6 5 ... 3 4 0]\n",
      "[ 9  2 10 ...  0  8  5]\n",
      "[ 4  6 10 ...  5  3  1]\n"
     ]
    }
   ],
   "source": [
    "from sklearn.cluster import KMeans\n",
    "from sklearn.metrics import silhouette_score\n",
    "from sklearn.metrics import confusion_matrix\n",
    "\n",
    "conf_matrix = None\n",
    "kmeans_sil = []\n",
    "for i in range(8,13):\n",
    "    kmeans = KMeans(n_clusters=i)\n",
    "    clusters_labels = kmeans.fit_predict(X)\n",
    "    sil = silhouette_score(X, clusters_labels)\n",
    "    kmeans_sil.append(sil)\n",
    "    if i == 10:\n",
    "        conf_matrix = confusion_matrix(y, clusters_labels)\n",
    "    print(kmeans.labels_)"
   ]
  },
  {
   "cell_type": "code",
   "execution_count": 13,
   "id": "f2c4a4d3-55d8-4aba-b26e-18b0d0ec76a4",
   "metadata": {},
   "outputs": [
    {
     "name": "stdout",
     "output_type": "stream",
     "text": [
      "[0.07339126267893233, 0.05678937316868785, 0.05601412540818749, 0.05834598230471449, 0.05816843959627188]\n"
     ]
    }
   ],
   "source": [
    "print(kmeans_sil)"
   ]
  },
  {
   "cell_type": "code",
   "execution_count": 14,
   "id": "c4d332a9-4d8b-48aa-891b-2cff0b2bf9cc",
   "metadata": {},
   "outputs": [],
   "source": [
    "import pickle\n",
    "\n",
    "open_file = open(\"kmeans_sil.pkl\", \"wb\")\n",
    "pickle.dump(kmeans_sil, open_file)\n",
    "open_file.close()"
   ]
  },
  {
   "cell_type": "code",
   "execution_count": 15,
   "id": "d17cd8a2-b309-4cfd-8623-03df28521c38",
   "metadata": {},
   "outputs": [
    {
     "name": "stdout",
     "output_type": "stream",
     "text": [
      "[0.07339126267893233, 0.05678937316868785, 0.05601412540818749, 0.05834598230471449, 0.05816843959627188]\n"
     ]
    }
   ],
   "source": [
    "open_file = open(\"kmeans_sil.pkl\", \"rb\")\n",
    "loaded_list = pickle.load(open_file)\n",
    "open_file.close()\n",
    "print(loaded_list)"
   ]
  },
  {
   "cell_type": "code",
   "execution_count": 16,
   "id": "b5ec629a-3a5e-4cde-9cc6-b4fee96396af",
   "metadata": {},
   "outputs": [
    {
     "name": "stdout",
     "output_type": "stream",
     "text": [
      "[[ 248   34    0   36  646   82 5505  292   46   14]\n",
      " [  10 3457 4364    7    8    4    0    9    9    9]\n",
      " [ 188  478  368   72  162  246   73  448 4907   48]\n",
      " [  68   91  426   48 1400   83   37 4566  254  168]\n",
      " [ 149  244  116 1818   11 2602    4    0   21 1859]\n",
      " [ 143  772  139  394 2167  228   68 2063   20  319]\n",
      " [5472  220  295    1  184  464   91   34  113    2]\n",
      " [   5  279  247 3182    3  707   14    3   39 2814]\n",
      " [  66  440  302  282 3664  152   36 1584   51  248]\n",
      " [   9   84  149 1893   55 1718   40   93    9 2908]]\n"
     ]
    }
   ],
   "source": [
    "print(conf_matrix)"
   ]
  },
  {
   "cell_type": "code",
   "execution_count": 24,
   "id": "7b7907b2-cc79-4260-857d-d28732613cb3",
   "metadata": {},
   "outputs": [
    {
     "name": "stdout",
     "output_type": "stream",
     "text": [
      "[6, 2, 8, 7, 5, 4, 0, 3, 4, 9]\n"
     ]
    }
   ],
   "source": [
    "values = []\n",
    "for row in conf_matrix:\n",
    "    values.append(np.argmax(row))\n",
    "print(values)"
   ]
  },
  {
   "cell_type": "code",
   "execution_count": 25,
   "id": "567102d2-05bd-4d9f-9e59-23fe0ed79720",
   "metadata": {},
   "outputs": [],
   "source": [
    "values.sort()"
   ]
  },
  {
   "cell_type": "code",
   "execution_count": 27,
   "id": "c85134de-cf83-48fa-9fbd-f0082bacc563",
   "metadata": {},
   "outputs": [],
   "source": [
    "values = list(set(values))"
   ]
  },
  {
   "cell_type": "code",
   "execution_count": 28,
   "id": "e5d31e22-8a65-47bc-8112-05352b44ee95",
   "metadata": {},
   "outputs": [
    {
     "name": "stdout",
     "output_type": "stream",
     "text": [
      "[0, 2, 3, 4, 5, 6, 7, 8, 9]\n"
     ]
    }
   ],
   "source": [
    "print(values)"
   ]
  },
  {
   "cell_type": "code",
   "execution_count": 29,
   "id": "ec804f01-5e71-471f-bbe0-27d9038f5120",
   "metadata": {},
   "outputs": [],
   "source": [
    "open_file = open(\"kmeans_argmax.pkl\", \"wb\")\n",
    "pickle.dump(values, open_file)\n",
    "open_file.close()"
   ]
  },
  {
   "cell_type": "code",
   "execution_count": 30,
   "id": "eabf063a-483f-4429-9a0b-02493cb7f41c",
   "metadata": {},
   "outputs": [
    {
     "name": "stdout",
     "output_type": "stream",
     "text": [
      "[0, 2, 3, 4, 5, 6, 7, 8, 9]\n"
     ]
    }
   ],
   "source": [
    "open_file = open(\"kmeans_argmax.pkl\", \"rb\")\n",
    "loaded_list = pickle.load(open_file)\n",
    "open_file.close()\n",
    "print(loaded_list)"
   ]
  },
  {
   "cell_type": "code",
   "execution_count": 36,
   "id": "db965e8f-7179-4400-96e4-ed96c7931bc8",
   "metadata": {},
   "outputs": [],
   "source": [
    "from sklearn.cluster import DBSCAN\n",
    "X_300 = X[:300]"
   ]
  },
  {
   "cell_type": "code",
   "execution_count": 39,
   "id": "2ed6efd1-c6d3-49a9-9bac-e85744abc9cf",
   "metadata": {},
   "outputs": [],
   "source": [
    "distance_list = []\n",
    "for i in range(300):\n",
    "    for j in range(len(X)):\n",
    "        distance = np.linalg.norm(X[i]-X[j])\n",
    "        if distance != 0:\n",
    "            distance_list.append(distance)"
   ]
  },
  {
   "cell_type": "code",
   "execution_count": 41,
   "id": "102293c9-1423-47ba-92d8-36862d6e04b9",
   "metadata": {},
   "outputs": [],
   "source": [
    "distance_list.sort()"
   ]
  },
  {
   "cell_type": "code",
   "execution_count": 44,
   "id": "12091f38-f9c9-4110-a6d4-413f7caba698",
   "metadata": {},
   "outputs": [],
   "source": [
    "smallest_distances = distance_list[:10]"
   ]
  },
  {
   "cell_type": "code",
   "execution_count": 45,
   "id": "7d57773c-7b6f-4437-a435-5a690e809fe3",
   "metadata": {},
   "outputs": [
    {
     "name": "stdout",
     "output_type": "stream",
     "text": [
      "[279.26152617215286, 304.37641170103836, 317.5893575043093, 328.7658741414626, 333.4546445920344, 352.89800226127664, 355.1774204534967, 358.07401469528617, 359.64287842247063, 360.42474942767177]\n"
     ]
    }
   ],
   "source": [
    "print(smallest_distances)"
   ]
  },
  {
   "cell_type": "code",
   "execution_count": 46,
   "id": "309b7c8a-ec4b-4cf1-9926-25f0890172e5",
   "metadata": {},
   "outputs": [
    {
     "data": {
      "text/plain": [
       "10"
      ]
     },
     "execution_count": 46,
     "metadata": {},
     "output_type": "execute_result"
    }
   ],
   "source": [
    "len(smallest_distances)"
   ]
  },
  {
   "cell_type": "code",
   "execution_count": null,
   "id": "285d2b73-afb7-4e15-aca7-4646621c634e",
   "metadata": {},
   "outputs": [],
   "source": []
  }
 ],
 "metadata": {
  "kernelspec": {
   "display_name": "Python 3 (ipykernel)",
   "language": "python",
   "name": "python3"
  },
  "language_info": {
   "codemirror_mode": {
    "name": "ipython",
    "version": 3
   },
   "file_extension": ".py",
   "mimetype": "text/x-python",
   "name": "python",
   "nbconvert_exporter": "python",
   "pygments_lexer": "ipython3",
   "version": "3.9.10"
  }
 },
 "nbformat": 4,
 "nbformat_minor": 5
}
