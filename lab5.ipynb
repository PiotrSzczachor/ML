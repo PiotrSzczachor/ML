{
 "cells": [
  {
   "cell_type": "code",
   "execution_count": 1,
   "id": "345d2f67-0d46-42ca-a93b-a0ad4d470c60",
   "metadata": {},
   "outputs": [
    {
     "name": "stdout",
     "output_type": "stream",
     "text": [
      ".. _breast_cancer_dataset:\n",
      "\n",
      "Breast cancer wisconsin (diagnostic) dataset\n",
      "--------------------------------------------\n",
      "\n",
      "**Data Set Characteristics:**\n",
      "\n",
      "    :Number of Instances: 569\n",
      "\n",
      "    :Number of Attributes: 30 numeric, predictive attributes and the class\n",
      "\n",
      "    :Attribute Information:\n",
      "        - radius (mean of distances from center to points on the perimeter)\n",
      "        - texture (standard deviation of gray-scale values)\n",
      "        - perimeter\n",
      "        - area\n",
      "        - smoothness (local variation in radius lengths)\n",
      "        - compactness (perimeter^2 / area - 1.0)\n",
      "        - concavity (severity of concave portions of the contour)\n",
      "        - concave points (number of concave portions of the contour)\n",
      "        - symmetry\n",
      "        - fractal dimension (\"coastline approximation\" - 1)\n",
      "\n",
      "        The mean, standard error, and \"worst\" or largest (mean of the three\n",
      "        worst/largest values) of these features were computed for each image,\n",
      "        resulting in 30 features.  For instance, field 0 is Mean Radius, field\n",
      "        10 is Radius SE, field 20 is Worst Radius.\n",
      "\n",
      "        - class:\n",
      "                - WDBC-Malignant\n",
      "                - WDBC-Benign\n",
      "\n",
      "    :Summary Statistics:\n",
      "\n",
      "    ===================================== ====== ======\n",
      "                                           Min    Max\n",
      "    ===================================== ====== ======\n",
      "    radius (mean):                        6.981  28.11\n",
      "    texture (mean):                       9.71   39.28\n",
      "    perimeter (mean):                     43.79  188.5\n",
      "    area (mean):                          143.5  2501.0\n",
      "    smoothness (mean):                    0.053  0.163\n",
      "    compactness (mean):                   0.019  0.345\n",
      "    concavity (mean):                     0.0    0.427\n",
      "    concave points (mean):                0.0    0.201\n",
      "    symmetry (mean):                      0.106  0.304\n",
      "    fractal dimension (mean):             0.05   0.097\n",
      "    radius (standard error):              0.112  2.873\n",
      "    texture (standard error):             0.36   4.885\n",
      "    perimeter (standard error):           0.757  21.98\n",
      "    area (standard error):                6.802  542.2\n",
      "    smoothness (standard error):          0.002  0.031\n",
      "    compactness (standard error):         0.002  0.135\n",
      "    concavity (standard error):           0.0    0.396\n",
      "    concave points (standard error):      0.0    0.053\n",
      "    symmetry (standard error):            0.008  0.079\n",
      "    fractal dimension (standard error):   0.001  0.03\n",
      "    radius (worst):                       7.93   36.04\n",
      "    texture (worst):                      12.02  49.54\n",
      "    perimeter (worst):                    50.41  251.2\n",
      "    area (worst):                         185.2  4254.0\n",
      "    smoothness (worst):                   0.071  0.223\n",
      "    compactness (worst):                  0.027  1.058\n",
      "    concavity (worst):                    0.0    1.252\n",
      "    concave points (worst):               0.0    0.291\n",
      "    symmetry (worst):                     0.156  0.664\n",
      "    fractal dimension (worst):            0.055  0.208\n",
      "    ===================================== ====== ======\n",
      "\n",
      "    :Missing Attribute Values: None\n",
      "\n",
      "    :Class Distribution: 212 - Malignant, 357 - Benign\n",
      "\n",
      "    :Creator:  Dr. William H. Wolberg, W. Nick Street, Olvi L. Mangasarian\n",
      "\n",
      "    :Donor: Nick Street\n",
      "\n",
      "    :Date: November, 1995\n",
      "\n",
      "This is a copy of UCI ML Breast Cancer Wisconsin (Diagnostic) datasets.\n",
      "https://goo.gl/U2Uwz2\n",
      "\n",
      "Features are computed from a digitized image of a fine needle\n",
      "aspirate (FNA) of a breast mass.  They describe\n",
      "characteristics of the cell nuclei present in the image.\n",
      "\n",
      "Separating plane described above was obtained using\n",
      "Multisurface Method-Tree (MSM-T) [K. P. Bennett, \"Decision Tree\n",
      "Construction Via Linear Programming.\" Proceedings of the 4th\n",
      "Midwest Artificial Intelligence and Cognitive Science Society,\n",
      "pp. 97-101, 1992], a classification method which uses linear\n",
      "programming to construct a decision tree.  Relevant features\n",
      "were selected using an exhaustive search in the space of 1-4\n",
      "features and 1-3 separating planes.\n",
      "\n",
      "The actual linear program used to obtain the separating plane\n",
      "in the 3-dimensional space is that described in:\n",
      "[K. P. Bennett and O. L. Mangasarian: \"Robust Linear\n",
      "Programming Discrimination of Two Linearly Inseparable Sets\",\n",
      "Optimization Methods and Software 1, 1992, 23-34].\n",
      "\n",
      "This database is also available through the UW CS ftp server:\n",
      "\n",
      "ftp ftp.cs.wisc.edu\n",
      "cd math-prog/cpo-dataset/machine-learn/WDBC/\n",
      "\n",
      ".. topic:: References\n",
      "\n",
      "   - W.N. Street, W.H. Wolberg and O.L. Mangasarian. Nuclear feature extraction \n",
      "     for breast tumor diagnosis. IS&T/SPIE 1993 International Symposium on \n",
      "     Electronic Imaging: Science and Technology, volume 1905, pages 861-870,\n",
      "     San Jose, CA, 1993.\n",
      "   - O.L. Mangasarian, W.N. Street and W.H. Wolberg. Breast cancer diagnosis and \n",
      "     prognosis via linear programming. Operations Research, 43(4), pages 570-577, \n",
      "     July-August 1995.\n",
      "   - W.H. Wolberg, W.N. Street, and O.L. Mangasarian. Machine learning techniques\n",
      "     to diagnose breast cancer from fine-needle aspirates. Cancer Letters 77 (1994) \n",
      "     163-171.\n"
     ]
    }
   ],
   "source": [
    "from sklearn import datasets\n",
    "data_breast_cancer = datasets.load_breast_cancer(as_frame=True)\n",
    "print(data_breast_cancer['DESCR'])"
   ]
  },
  {
   "cell_type": "code",
   "execution_count": 3,
   "id": "8cfa09c1-7bc1-4d21-a242-e169fced8b2d",
   "metadata": {},
   "outputs": [
    {
     "data": {
      "text/plain": [
       "<AxesSubplot:xlabel='x', ylabel='y'>"
      ]
     },
     "execution_count": 3,
     "metadata": {},
     "output_type": "execute_result"
    },
    {
     "data": {
      "image/png": "[encoded data removed]",
      "text/plain": [
       "<Figure size 432x288 with 1 Axes>"
      ]
     },
     "metadata": {
      "needs_background": "light"
     },
     "output_type": "display_data"
    }
   ],
   "source": [
    "import numpy as np\n",
    "import pandas as pd\n",
    "size = 300\n",
    "X = np.random.rand(size)*5-2.5\n",
    "w4, w3, w2, w1, w0 = 1, 2, 1, -4, 2\n",
    "y = w4*(X**4) + w3*(X**3) + w2*(X**2) + w1*X + w0 + np.random.randn(size)*8-4 \n",
    "df = pd.DataFrame({'x': X, 'y': y})\n",
    "df.plot.scatter(x='x',y='y')"
   ]
  },
  {
   "cell_type": "code",
   "execution_count": 4,
   "id": "13731dd5-fcb5-407e-8e1a-d3b54d805f1a",
   "metadata": {},
   "outputs": [
    {
     "data": {
      "text/html": [
       "<div>\n",
       "<style scoped>\n",
       "    .dataframe tbody tr th:only-of-type {\n",
       "        vertical-align: middle;\n",
       "    }\n",
       "\n",
       "    .dataframe tbody tr th {\n",
       "        vertical-align: top;\n",
       "    }\n",
       "\n",
       "    .dataframe thead th {\n",
       "        text-align: right;\n",
       "    }\n",
       "</style>\n",
       "<table border=\"1\" class=\"dataframe\">\n",
       "  <thead>\n",
       "    <tr style=\"text-align: right;\">\n",
       "      <th></th>\n",
       "      <th>mean texture</th>\n",
       "      <th>mean symmetry</th>\n",
       "    </tr>\n",
       "  </thead>\n",
       "  <tbody>\n",
       "    <tr>\n",
       "      <th>0</th>\n",
       "      <td>10.38</td>\n",
       "      <td>0.2419</td>\n",
       "    </tr>\n",
       "    <tr>\n",
       "      <th>1</th>\n",
       "      <td>17.77</td>\n",
       "      <td>0.1812</td>\n",
       "    </tr>\n",
       "    <tr>\n",
       "      <th>2</th>\n",
       "      <td>21.25</td>\n",
       "      <td>0.2069</td>\n",
       "    </tr>\n",
       "    <tr>\n",
       "      <th>3</th>\n",
       "      <td>20.38</td>\n",
       "      <td>0.2597</td>\n",
       "    </tr>\n",
       "    <tr>\n",
       "      <th>4</th>\n",
       "      <td>14.34</td>\n",
       "      <td>0.1809</td>\n",
       "    </tr>\n",
       "  </tbody>\n",
       "</table>\n",
       "</div>"
      ],
      "text/plain": [
       "   mean texture  mean symmetry\n",
       "0         10.38         0.2419\n",
       "1         17.77         0.1812\n",
       "2         21.25         0.2069\n",
       "3         20.38         0.2597\n",
       "4         14.34         0.1809"
      ]
     },
     "execution_count": 4,
     "metadata": {},
     "output_type": "execute_result"
    }
   ],
   "source": [
    "X_cancer = data_breast_cancer.data[[\"mean texture\", \"mean symmetry\"]]\n",
    "X_cancer.head()"
   ]
  },
  {
   "cell_type": "code",
   "execution_count": 5,
   "id": "f9521d52-64d8-40c5-b289-801aa8cce360",
   "metadata": {},
   "outputs": [
    {
     "data": {
      "text/plain": [
       "0    0\n",
       "1    0\n",
       "2    0\n",
       "3    0\n",
       "4    0\n",
       "Name: target, dtype: int32"
      ]
     },
     "execution_count": 5,
     "metadata": {},
     "output_type": "execute_result"
    }
   ],
   "source": [
    "y_cancer = data_breast_cancer.target\n",
    "y_cancer.head()"
   ]
  },
  {
   "cell_type": "code",
   "execution_count": 6,
   "id": "d1bb5de9-2c7b-4a10-bbb5-d5630817142e",
   "metadata": {},
   "outputs": [],
   "source": [
    "from sklearn.model_selection import train_test_split\n",
    "X_cancer_train, X_cancer_test, y_cancer_train, y_cancer_test = train_test_split(X_cancer, y_cancer, test_size=0.2)"
   ]
  },
  {
   "cell_type": "code",
   "execution_count": 7,
   "id": "39938d03-7d49-4938-afd9-c500acfc7523",
   "metadata": {},
   "outputs": [
    {
     "name": "stdout",
     "output_type": "stream",
     "text": [
      "455 114\n"
     ]
    }
   ],
   "source": [
    "print(len(X_cancer_train), len(X_cancer_test))"
   ]
  },
  {
   "cell_type": "code",
   "execution_count": 8,
   "id": "63126d12-e112-46bd-a9d3-1274932d3ee8",
   "metadata": {},
   "outputs": [
    {
     "name": "stdout",
     "output_type": "stream",
     "text": [
      "1Train score = 0.7514018691588785\n",
      "1Test score = 0.8633093525179856\n",
      "\n",
      "\n",
      "2Train score = 0.8210180623973727\n",
      "2Test score = 0.855263157894737\n",
      "\n",
      "\n",
      "3Train score = 0.8210180623973727\n",
      "3Test score = 0.855263157894737\n",
      "\n",
      "\n",
      "4Train score = 0.8245315161839863\n",
      "4Test score = 0.855263157894737\n",
      "\n",
      "\n",
      "5Train score = 0.8581081081081081\n",
      "5Test score = 0.8235294117647058\n",
      "\n",
      "\n",
      "6Train score = 0.87893864013267\n",
      "6Test score = 0.8250000000000001\n",
      "\n",
      "\n",
      "7Train score = 0.9072512647554805\n",
      "7Test score = 0.8076923076923077\n",
      "\n",
      "\n",
      "8Train score = 0.9360269360269361\n",
      "8Test score = 0.8205128205128205\n",
      "\n",
      "\n",
      "9Train score = 0.9602763385146805\n",
      "9Test score = 0.8025477707006369\n",
      "\n",
      "\n",
      "10Train score = 0.9759450171821307\n",
      "10Test score = 0.7948717948717948\n",
      "\n",
      "\n",
      "11Train score = 0.9861591695501729\n",
      "11Test score = 0.7999999999999998\n",
      "\n",
      "\n",
      "12Train score = 0.9930795847750865\n",
      "12Test score = 0.7948717948717948\n",
      "\n",
      "\n",
      "13Train score = 0.9930795847750865\n",
      "13Test score = 0.7999999999999998\n",
      "\n",
      "\n",
      "14Train score = 0.9965277777777778\n",
      "14Test score = 0.8051948051948051\n",
      "\n",
      "\n",
      "15Train score = 0.9965277777777778\n",
      "15Test score = 0.7948717948717948\n",
      "\n",
      "\n",
      "16Train score = 1.0\n",
      "16Test score = 0.7792207792207793\n",
      "\n",
      "\n",
      "17Train score = 0.9982547993019197\n",
      "17Test score = 0.7894736842105263\n",
      "\n",
      "\n",
      "18Train score = 1.0\n",
      "18Test score = 0.7999999999999998\n",
      "\n",
      "\n",
      "19Train score = 1.0\n",
      "19Test score = 0.7999999999999998\n",
      "\n",
      "\n"
     ]
    }
   ],
   "source": [
    "from sklearn.tree import DecisionTreeClassifier\n",
    "from sklearn.metrics import f1_score\n",
    "best_train_score = -1\n",
    "best_test_score = -1\n",
    "best_x_train = -1\n",
    "for x in range(1,20):\n",
    "    tree_clf = DecisionTreeClassifier(max_depth=x)\n",
    "    #Fitting to cancer_train\n",
    "    tree_clf.fit(X_cancer_train, y_cancer_train)\n",
    "    y_pred_train = tree_clf.predict(X_cancer_train)\n",
    "    train_score = f1_score(y_cancer_train, y_pred_train)\n",
    "    print(str(x) + \"Train score = \" + str(train_score))\n",
    "    y_pred_test = tree_clf.predict(X_cancer_test)\n",
    "    test_score = f1_score(y_cancer_test, y_pred_test)\n",
    "    print(str(x) + \"Test score = \" + str(test_score))\n",
    "    print(\"\\n\")"
   ]
  },
  {
   "cell_type": "code",
   "execution_count": 9,
   "id": "ced46e4d-b1b8-4655-8c7a-564fa35a2a59",
   "metadata": {},
   "outputs": [],
   "source": [
    "tree_clf = DecisionTreeClassifier(max_depth=3)"
   ]
  },
  {
   "cell_type": "code",
   "execution_count": 10,
   "id": "2f097649-f0d8-4fd5-9bfa-400051a1223e",
   "metadata": {},
   "outputs": [],
   "source": [
    "clf = tree_clf.fit(X_cancer_train, y_cancer_train)"
   ]
  },
  {
   "cell_type": "code",
   "execution_count": 11,
   "id": "6019a898-c2c6-4dd7-8eac-f2d01d5b3ef6",
   "metadata": {},
   "outputs": [
    {
     "name": "stdout",
     "output_type": "stream",
     "text": [
      "[3, 0.8210180623973727, 0.855263157894737, 0.7604395604395604, 0.8070175438596491]\n"
     ]
    }
   ],
   "source": [
    "from sklearn.metrics import accuracy_score\n",
    "tree_depth = 3\n",
    "y_pred_train = tree_clf.predict(X_cancer_train)\n",
    "f1_train = f1_score(y_cancer_train, y_pred_train)\n",
    "y_pred_test = tree_clf.predict(X_cancer_test)\n",
    "f1_test = f1_score(y_cancer_test, y_pred_test)\n",
    "acc_train = accuracy_score(y_cancer_train, y_pred_train)\n",
    "acc_test = accuracy_score(y_cancer_test, y_pred_test)\n",
    "\n",
    "values_list = [tree_depth, f1_train, f1_test, acc_train, acc_test]\n",
    "print(values_list)"
   ]
  },
  {
   "cell_type": "code",
   "execution_count": 12,
   "id": "17ce57a7-b05c-4012-830d-da4ec42a47e0",
   "metadata": {},
   "outputs": [],
   "source": [
    "import pickle\n",
    "open_file = open(\"f1acc_tree.pkl\", \"wb\")\n",
    "pickle.dump(values_list, open_file)\n",
    "open_file.close()"
   ]
  },
  {
   "cell_type": "code",
   "execution_count": 13,
   "id": "74968212-5cda-4e15-8a58-acf3f3895131",
   "metadata": {},
   "outputs": [
    {
     "name": "stdout",
     "output_type": "stream",
     "text": [
      "[3, 0.8210180623973727, 0.855263157894737, 0.7604395604395604, 0.8070175438596491]\n"
     ]
    }
   ],
   "source": [
    "open_file = open(\"f1acc_tree.pkl\", \"rb\")\n",
    "loaded_list = pickle.load(open_file)\n",
    "open_file.close()\n",
    "print(loaded_list)"
   ]
  },
  {
   "cell_type": "code",
   "execution_count": 14,
   "id": "d48223c4-53aa-4541-8f2b-12b0f25ee59f",
   "metadata": {},
   "outputs": [],
   "source": [
    "from sklearn.tree import export_graphviz\n",
    "import graphviz"
   ]
  },
  {
   "cell_type": "code",
   "execution_count": 15,
   "id": "4bfdb78c-58ff-49fc-b8f4-953ce81186eb",
   "metadata": {},
   "outputs": [],
   "source": [
    "from sklearn.tree import DecisionTreeRegressor\n",
    "X_df = df.x.to_numpy().reshape(-1,1)\n",
    "y_df = df.y"
   ]
  },
  {
   "cell_type": "code",
   "execution_count": 16,
   "id": "e6ee826b-214c-4a50-892a-a3ad9d157cf6",
   "metadata": {},
   "outputs": [
    {
     "data": {
      "text/plain": [
       "0    24.140396\n",
       "1     1.730884\n",
       "2    10.192924\n",
       "3     0.534167\n",
       "4     8.147666\n",
       "Name: y, dtype: float64"
      ]
     },
     "execution_count": 16,
     "metadata": {},
     "output_type": "execute_result"
    }
   ],
   "source": [
    "y_df.head()"
   ]
  },
  {
   "cell_type": "code",
   "execution_count": 17,
   "id": "f6d30fa3-97d5-45e6-ab6e-b5c20ed19b28",
   "metadata": {},
   "outputs": [],
   "source": [
    "X_df_train, X_df_test, y_df_train, y_df_test = train_test_split(X_df, y_df, test_size=0.2)"
   ]
  },
  {
   "cell_type": "code",
   "execution_count": 18,
   "id": "f66c84ee-5256-473f-a5c3-36d5e95ed4d4",
   "metadata": {},
   "outputs": [
    {
     "name": "stdout",
     "output_type": "stream",
     "text": [
      "240 60\n"
     ]
    }
   ],
   "source": [
    "print(len(X_df_train), len(X_df_test))"
   ]
  },
  {
   "cell_type": "code",
   "execution_count": 19,
   "id": "bdd7fdea-c722-44ed-9f93-41f2c25f9b20",
   "metadata": {},
   "outputs": [
    {
     "name": "stdout",
     "output_type": "stream",
     "text": [
      "1Train mse = 132.83318890186106\n",
      "1Test mse = 117.69457923547961\n",
      "\n",
      "\n",
      "2Train mse = 96.94987403751962\n",
      "2Test mse = 93.96318313974139\n",
      "\n",
      "\n",
      "3Train mse = 76.69722918090365\n",
      "3Test mse = 86.1164638275828\n",
      "\n",
      "\n",
      "4Train mse = 68.47361365157538\n",
      "4Test mse = 78.82786462157317\n",
      "\n",
      "\n",
      "5Train mse = 59.30498496392589\n",
      "5Test mse = 83.34248260323865\n",
      "\n",
      "\n",
      "6Train mse = 53.9062611888189\n",
      "6Test mse = 82.13745670711879\n",
      "\n",
      "\n",
      "7Train mse = 44.361679399703206\n",
      "7Test mse = 98.00326584386185\n",
      "\n",
      "\n",
      "8Train mse = 34.95248306758739\n",
      "8Test mse = 103.5428873320456\n",
      "\n",
      "\n",
      "9Train mse = 30.088517307825548\n",
      "9Test mse = 111.5672672507846\n",
      "\n",
      "\n",
      "10Train mse = 23.321769443443046\n",
      "10Test mse = 117.49798711449748\n",
      "\n",
      "\n",
      "11Train mse = 18.5107608567193\n",
      "11Test mse = 124.16412650124455\n",
      "\n",
      "\n",
      "12Train mse = 12.31336663103922\n",
      "12Test mse = 128.98314156835983\n",
      "\n",
      "\n",
      "13Train mse = 7.804891875890988\n",
      "13Test mse = 130.68955809247512\n",
      "\n",
      "\n",
      "14Train mse = 4.308117033770662\n",
      "14Test mse = 127.24710135102565\n",
      "\n",
      "\n",
      "15Train mse = 1.534163407368984\n",
      "15Test mse = 131.85859496515357\n",
      "\n",
      "\n",
      "16Train mse = 0.27685689761880045\n",
      "16Test mse = 133.22993674915799\n",
      "\n",
      "\n",
      "17Train mse = 0.06022805385608353\n",
      "17Test mse = 134.3414634991159\n",
      "\n",
      "\n",
      "18Train mse = 0.00010020457108510652\n",
      "18Test mse = 134.9004733278783\n",
      "\n",
      "\n",
      "19Train mse = 0.0\n",
      "19Test mse = 134.94286362555508\n",
      "\n",
      "\n",
      "4\n"
     ]
    }
   ],
   "source": [
    "from sklearn.metrics import mean_squared_error as mse\n",
    "best_test_mse = np.inf\n",
    "best_x = -1\n",
    "for x in range(1,20):\n",
    "    tree_reg = DecisionTreeRegressor(max_depth=x)\n",
    "    #Fitting to cancer_train\n",
    "    tree_reg.fit(X_df_train, y_df_train)\n",
    "    y_pred_train = tree_reg.predict(X_df_train)\n",
    "    train_mse = mse(y_df_train, y_pred_train)\n",
    "    print(str(x) + \"Train mse = \" + str(train_mse))\n",
    "    y_pred_test = tree_reg.predict(X_df_test)\n",
    "    test_mse = mse(y_df_test, y_pred_test)\n",
    "    print(str(x) + \"Test mse = \" + str(test_mse))\n",
    "    print(\"\\n\")\n",
    "    if test_mse<best_test_mse:\n",
    "        best_test_mse = test_mse\n",
    "        best_x = x\n",
    "print(best_x)"
   ]
  },
  {
   "cell_type": "code",
   "execution_count": 20,
   "id": "35b08687-725f-4277-9b9a-2640c027acab",
   "metadata": {},
   "outputs": [
    {
     "name": "stdout",
     "output_type": "stream",
     "text": [
      "[4, 68.47361365157538, 78.82786462157317]\n"
     ]
    }
   ],
   "source": [
    "tree_reg = DecisionTreeRegressor(max_depth=best_x)\n",
    "tree_reg.fit(X_df_train, y_df_train)\n",
    "y_pred_train = tree_reg.predict(X_df_train)\n",
    "y_pred_test = tree_reg.predict(X_df_test)\n",
    "mse_train = mse(y_df_train, y_pred_train)\n",
    "mse_test = mse(y_df_test, y_pred_test)\n",
    "\n",
    "df_values_list = [best_x, mse_train, mse_test]\n",
    "print(df_values_list)"
   ]
  },
  {
   "cell_type": "code",
   "execution_count": 21,
   "id": "c2d6cf69-51eb-4dae-9d48-12a4625b6fdf",
   "metadata": {},
   "outputs": [],
   "source": [
    "open_file = open(\"mse_tree.pkl\", \"wb\")\n",
    "pickle.dump(df_values_list, open_file)\n",
    "open_file.close()"
   ]
  },
  {
   "cell_type": "code",
   "execution_count": 22,
   "id": "aa491653-ded4-4953-9467-c752e4cb2788",
   "metadata": {},
   "outputs": [
    {
     "name": "stdout",
     "output_type": "stream",
     "text": [
      "[4, 68.47361365157538, 78.82786462157317]\n"
     ]
    }
   ],
   "source": [
    "open_file = open(\"mse_tree.pkl\", \"rb\")\n",
    "loaded_list = pickle.load(open_file)\n",
    "open_file.close()\n",
    "print(loaded_list)"
   ]
  },
  {
   "cell_type": "code",
   "execution_count": 23,
   "id": "1dddf05f-22e4-4553-8f33-5b72964ea506",
   "metadata": {},
   "outputs": [],
   "source": [
    "import pydot\n",
    "\n",
    "export_graphviz(\n",
    "    tree_reg,\n",
    "    out_file=\"reg.dot\",\n",
    "    feature_names=None,\n",
    "    rounded=True,\n",
    "    filled=True\n",
    ")"
   ]
  },
  {
   "cell_type": "code",
   "execution_count": 24,
   "id": "013647da-ee15-4b0d-9f2a-7fb3e33e1618",
   "metadata": {},
   "outputs": [],
   "source": [
    "(graph,) = pydot.graph_from_dot_file('reg.dot')\n",
    "graph.write_png('reg.png')"
   ]
  },
  {
   "cell_type": "code",
   "execution_count": 25,
   "id": "897c9d49-0d2f-4b93-a5a2-046b79e1e1ee",
   "metadata": {},
   "outputs": [],
   "source": [
    "export_graphviz(\n",
    "    tree_clf,\n",
    "    out_file=\"bc.dot\",\n",
    "    feature_names=[\"mean texture\", \"mean symmetry\"],\n",
    "    rounded=True,\n",
    "    filled=True\n",
    ")"
   ]
  },
  {
   "cell_type": "code",
   "execution_count": 26,
   "id": "6307be07-b7ac-4df4-a0bb-f3dc42cc7a87",
   "metadata": {},
   "outputs": [],
   "source": [
    "(graph,) = pydot.graph_from_dot_file('bc.dot')\n",
    "graph.write_png('bc.png')"
   ]
  },
  {
   "cell_type": "code",
   "execution_count": null,
   "id": "74273af0-f94a-45f5-92a0-54cdba20b6f4",
   "metadata": {},
   "outputs": [],
   "source": []
  }
 ],
 "metadata": {
  "kernelspec": {
   "display_name": "Python 3",
   "language": "python",
   "name": "python3"
  },
  "language_info": {
   "codemirror_mode": {
    "name": "ipython",
    "version": 3
   },
   "file_extension": ".py",
   "mimetype": "text/x-python",
   "name": "python",
   "nbconvert_exporter": "python",
   "pygments_lexer": "ipython3",
   "version": "3.8.8"
  }
 },
 "nbformat": 4,
 "nbformat_minor": 5
}
